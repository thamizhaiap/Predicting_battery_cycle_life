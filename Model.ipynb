{
 "cells": [
  {
   "cell_type": "code",
   "execution_count": 1,
   "metadata": {},
   "outputs": [],
   "source": [
    "import numpy as np\n",
    "import pandas as pd\n",
    "import matplotlib.pyplot as plt"
   ]
  },
  {
   "cell_type": "code",
   "execution_count": 2,
   "metadata": {},
   "outputs": [],
   "source": [
    "df1 = pd.read_pickle('summary_df.pkl')\n",
    "df2 = pd.read_pickle('summary_df_test.pkl')\n",
    "df3 = pd.read_pickle('summary_df_test_2.pkl')"
   ]
  },
  {
   "cell_type": "code",
   "execution_count": 3,
   "metadata": {},
   "outputs": [],
   "source": [
    "df = pd.concat([df1, df2, df3])"
   ]
  },
  {
   "cell_type": "code",
   "execution_count": 4,
   "metadata": {},
   "outputs": [
    {
     "data": {
      "text/html": [
       "<div>\n",
       "<style scoped>\n",
       "    .dataframe tbody tr th:only-of-type {\n",
       "        vertical-align: middle;\n",
       "    }\n",
       "\n",
       "    .dataframe tbody tr th {\n",
       "        vertical-align: top;\n",
       "    }\n",
       "\n",
       "    .dataframe thead th {\n",
       "        text-align: right;\n",
       "    }\n",
       "</style>\n",
       "<table border=\"1\" class=\"dataframe\">\n",
       "  <thead>\n",
       "    <tr style=\"text-align: right;\">\n",
       "      <th></th>\n",
       "      <th>IR</th>\n",
       "      <th>QC</th>\n",
       "      <th>QD</th>\n",
       "      <th>Tavg</th>\n",
       "      <th>Tmin</th>\n",
       "      <th>Tmax</th>\n",
       "      <th>chargetime</th>\n",
       "      <th>cycle</th>\n",
       "      <th>cell</th>\n",
       "      <th>cycle_life</th>\n",
       "      <th>C1</th>\n",
       "      <th>C2</th>\n",
       "      <th>Q1</th>\n",
       "    </tr>\n",
       "  </thead>\n",
       "  <tbody>\n",
       "    <tr>\n",
       "      <th>0</th>\n",
       "      <td>0.000000</td>\n",
       "      <td>0.000000</td>\n",
       "      <td>0.000000</td>\n",
       "      <td>0.000000</td>\n",
       "      <td>0.000000</td>\n",
       "      <td>0.00000</td>\n",
       "      <td>0.000000</td>\n",
       "      <td>1.0</td>\n",
       "      <td>b1c0</td>\n",
       "      <td>1190</td>\n",
       "      <td>3.6</td>\n",
       "      <td>3.6</td>\n",
       "      <td>80</td>\n",
       "    </tr>\n",
       "    <tr>\n",
       "      <th>1</th>\n",
       "      <td>0.016739</td>\n",
       "      <td>1.071289</td>\n",
       "      <td>1.070312</td>\n",
       "      <td>31.875000</td>\n",
       "      <td>29.562500</td>\n",
       "      <td>35.65625</td>\n",
       "      <td>13.343750</td>\n",
       "      <td>2.0</td>\n",
       "      <td>b1c0</td>\n",
       "      <td>1190</td>\n",
       "      <td>3.6</td>\n",
       "      <td>3.6</td>\n",
       "      <td>80</td>\n",
       "    </tr>\n",
       "    <tr>\n",
       "      <th>2</th>\n",
       "      <td>0.016724</td>\n",
       "      <td>1.071289</td>\n",
       "      <td>1.072266</td>\n",
       "      <td>31.937500</td>\n",
       "      <td>29.609375</td>\n",
       "      <td>35.68750</td>\n",
       "      <td>13.421875</td>\n",
       "      <td>3.0</td>\n",
       "      <td>b1c0</td>\n",
       "      <td>1190</td>\n",
       "      <td>3.6</td>\n",
       "      <td>3.6</td>\n",
       "      <td>80</td>\n",
       "    </tr>\n",
       "    <tr>\n",
       "      <th>3</th>\n",
       "      <td>0.016678</td>\n",
       "      <td>1.072266</td>\n",
       "      <td>1.072266</td>\n",
       "      <td>31.937500</td>\n",
       "      <td>29.750000</td>\n",
       "      <td>35.68750</td>\n",
       "      <td>13.421875</td>\n",
       "      <td>4.0</td>\n",
       "      <td>b1c0</td>\n",
       "      <td>1190</td>\n",
       "      <td>3.6</td>\n",
       "      <td>3.6</td>\n",
       "      <td>80</td>\n",
       "    </tr>\n",
       "    <tr>\n",
       "      <th>4</th>\n",
       "      <td>0.016663</td>\n",
       "      <td>1.073242</td>\n",
       "      <td>1.073242</td>\n",
       "      <td>31.953125</td>\n",
       "      <td>29.640625</td>\n",
       "      <td>35.71875</td>\n",
       "      <td>13.343750</td>\n",
       "      <td>5.0</td>\n",
       "      <td>b1c0</td>\n",
       "      <td>1190</td>\n",
       "      <td>3.6</td>\n",
       "      <td>3.6</td>\n",
       "      <td>80</td>\n",
       "    </tr>\n",
       "  </tbody>\n",
       "</table>\n",
       "</div>"
      ],
      "text/plain": [
       "         IR        QC        QD       Tavg       Tmin      Tmax  chargetime  \\\n",
       "0  0.000000  0.000000  0.000000   0.000000   0.000000   0.00000    0.000000   \n",
       "1  0.016739  1.071289  1.070312  31.875000  29.562500  35.65625   13.343750   \n",
       "2  0.016724  1.071289  1.072266  31.937500  29.609375  35.68750   13.421875   \n",
       "3  0.016678  1.072266  1.072266  31.937500  29.750000  35.68750   13.421875   \n",
       "4  0.016663  1.073242  1.073242  31.953125  29.640625  35.71875   13.343750   \n",
       "\n",
       "   cycle  cell  cycle_life   C1   C2  Q1  \n",
       "0    1.0  b1c0        1190  3.6  3.6  80  \n",
       "1    2.0  b1c0        1190  3.6  3.6  80  \n",
       "2    3.0  b1c0        1190  3.6  3.6  80  \n",
       "3    4.0  b1c0        1190  3.6  3.6  80  \n",
       "4    5.0  b1c0        1190  3.6  3.6  80  "
      ]
     },
     "execution_count": 4,
     "metadata": {},
     "output_type": "execute_result"
    }
   ],
   "source": [
    "df.head()"
   ]
  },
  {
   "cell_type": "code",
   "execution_count": 5,
   "metadata": {
    "scrolled": true
   },
   "outputs": [
    {
     "name": "stdout",
     "output_type": "stream",
     "text": [
      "<class 'pandas.core.frame.DataFrame'>\n",
      "Int64Index: 110312 entries, 0 to 1799\n",
      "Data columns (total 13 columns):\n",
      " #   Column      Non-Null Count   Dtype  \n",
      "---  ------      --------------   -----  \n",
      " 0   IR          110312 non-null  float16\n",
      " 1   QC          110312 non-null  float16\n",
      " 2   QD          110312 non-null  float16\n",
      " 3   Tavg        110312 non-null  float16\n",
      " 4   Tmin        110312 non-null  float16\n",
      " 5   Tmax        110312 non-null  float16\n",
      " 6   chargetime  110312 non-null  float16\n",
      " 7   cycle       110312 non-null  float64\n",
      " 8   cell        110312 non-null  object \n",
      " 9   cycle_life  110312 non-null  int16  \n",
      " 10  C1          110312 non-null  float64\n",
      " 11  C2          110312 non-null  float64\n",
      " 12  Q1          110312 non-null  int64  \n",
      "dtypes: float16(7), float64(3), int16(1), int64(1), object(1)\n",
      "memory usage: 6.7+ MB\n"
     ]
    }
   ],
   "source": [
    "df.info()"
   ]
  },
  {
   "cell_type": "code",
   "execution_count": 6,
   "metadata": {},
   "outputs": [
    {
     "data": {
      "text/html": [
       "<div>\n",
       "<style scoped>\n",
       "    .dataframe tbody tr th:only-of-type {\n",
       "        vertical-align: middle;\n",
       "    }\n",
       "\n",
       "    .dataframe tbody tr th {\n",
       "        vertical-align: top;\n",
       "    }\n",
       "\n",
       "    .dataframe thead th {\n",
       "        text-align: right;\n",
       "    }\n",
       "</style>\n",
       "<table border=\"1\" class=\"dataframe\">\n",
       "  <thead>\n",
       "    <tr style=\"text-align: right;\">\n",
       "      <th></th>\n",
       "      <th>IR</th>\n",
       "      <th>QC</th>\n",
       "      <th>QD</th>\n",
       "      <th>Tavg</th>\n",
       "      <th>Tmin</th>\n",
       "      <th>Tmax</th>\n",
       "      <th>chargetime</th>\n",
       "      <th>cycle</th>\n",
       "      <th>cycle_life</th>\n",
       "      <th>C1</th>\n",
       "      <th>C2</th>\n",
       "      <th>Q1</th>\n",
       "    </tr>\n",
       "  </thead>\n",
       "  <tbody>\n",
       "    <tr>\n",
       "      <th>count</th>\n",
       "      <td>110312.000000</td>\n",
       "      <td>110312.000000</td>\n",
       "      <td>110312.000000</td>\n",
       "      <td>110312.00000</td>\n",
       "      <td>110312.000000</td>\n",
       "      <td>110312.00000</td>\n",
       "      <td>110312.000000</td>\n",
       "      <td>110312.000000</td>\n",
       "      <td>110312.000000</td>\n",
       "      <td>110312.000000</td>\n",
       "      <td>110312.000000</td>\n",
       "      <td>110312.000000</td>\n",
       "    </tr>\n",
       "    <tr>\n",
       "      <th>mean</th>\n",
       "      <td>0.016586</td>\n",
       "      <td>NaN</td>\n",
       "      <td>NaN</td>\n",
       "      <td>NaN</td>\n",
       "      <td>NaN</td>\n",
       "      <td>NaN</td>\n",
       "      <td>NaN</td>\n",
       "      <td>461.308942</td>\n",
       "      <td>917.014658</td>\n",
       "      <td>5.126266</td>\n",
       "      <td>4.127492</td>\n",
       "      <td>49.518711</td>\n",
       "    </tr>\n",
       "    <tr>\n",
       "      <th>std</th>\n",
       "      <td>0.001359</td>\n",
       "      <td>0.000000</td>\n",
       "      <td>0.000000</td>\n",
       "      <td>0.00000</td>\n",
       "      <td>0.000000</td>\n",
       "      <td>0.00000</td>\n",
       "      <td>NaN</td>\n",
       "      <td>333.996982</td>\n",
       "      <td>356.343171</td>\n",
       "      <td>1.388807</td>\n",
       "      <td>0.726586</td>\n",
       "      <td>22.851391</td>\n",
       "    </tr>\n",
       "    <tr>\n",
       "      <th>min</th>\n",
       "      <td>0.000000</td>\n",
       "      <td>0.000000</td>\n",
       "      <td>0.000000</td>\n",
       "      <td>0.00000</td>\n",
       "      <td>0.000000</td>\n",
       "      <td>0.00000</td>\n",
       "      <td>0.000000</td>\n",
       "      <td>1.000000</td>\n",
       "      <td>148.000000</td>\n",
       "      <td>0.000000</td>\n",
       "      <td>3.000000</td>\n",
       "      <td>2.000000</td>\n",
       "    </tr>\n",
       "    <tr>\n",
       "      <th>25%</th>\n",
       "      <td>0.015564</td>\n",
       "      <td>1.014648</td>\n",
       "      <td>1.014648</td>\n",
       "      <td>32.90625</td>\n",
       "      <td>30.125000</td>\n",
       "      <td>36.28125</td>\n",
       "      <td>10.054688</td>\n",
       "      <td>201.000000</td>\n",
       "      <td>663.000000</td>\n",
       "      <td>4.800000</td>\n",
       "      <td>3.600000</td>\n",
       "      <td>31.000000</td>\n",
       "    </tr>\n",
       "    <tr>\n",
       "      <th>50%</th>\n",
       "      <td>0.016556</td>\n",
       "      <td>1.048828</td>\n",
       "      <td>1.048828</td>\n",
       "      <td>33.96875</td>\n",
       "      <td>31.046875</td>\n",
       "      <td>38.09375</td>\n",
       "      <td>10.468750</td>\n",
       "      <td>404.000000</td>\n",
       "      <td>876.000000</td>\n",
       "      <td>5.400000</td>\n",
       "      <td>4.000000</td>\n",
       "      <td>50.000000</td>\n",
       "    </tr>\n",
       "    <tr>\n",
       "      <th>75%</th>\n",
       "      <td>0.017319</td>\n",
       "      <td>1.067383</td>\n",
       "      <td>1.067383</td>\n",
       "      <td>35.46875</td>\n",
       "      <td>32.406250</td>\n",
       "      <td>39.75000</td>\n",
       "      <td>11.414062</td>\n",
       "      <td>658.000000</td>\n",
       "      <td>1078.000000</td>\n",
       "      <td>5.600000</td>\n",
       "      <td>4.600000</td>\n",
       "      <td>67.000000</td>\n",
       "    </tr>\n",
       "    <tr>\n",
       "      <th>max</th>\n",
       "      <td>0.024399</td>\n",
       "      <td>2.966797</td>\n",
       "      <td>2.884766</td>\n",
       "      <td>41.43750</td>\n",
       "      <td>36.687500</td>\n",
       "      <td>44.65625</td>\n",
       "      <td>1290.000000</td>\n",
       "      <td>1934.000000</td>\n",
       "      <td>1935.000000</td>\n",
       "      <td>8.000000</td>\n",
       "      <td>6.000000</td>\n",
       "      <td>80.000000</td>\n",
       "    </tr>\n",
       "  </tbody>\n",
       "</table>\n",
       "</div>"
      ],
      "text/plain": [
       "                  IR             QC             QD          Tavg  \\\n",
       "count  110312.000000  110312.000000  110312.000000  110312.00000   \n",
       "mean        0.016586            NaN            NaN           NaN   \n",
       "std         0.001359       0.000000       0.000000       0.00000   \n",
       "min         0.000000       0.000000       0.000000       0.00000   \n",
       "25%         0.015564       1.014648       1.014648      32.90625   \n",
       "50%         0.016556       1.048828       1.048828      33.96875   \n",
       "75%         0.017319       1.067383       1.067383      35.46875   \n",
       "max         0.024399       2.966797       2.884766      41.43750   \n",
       "\n",
       "                Tmin          Tmax     chargetime          cycle  \\\n",
       "count  110312.000000  110312.00000  110312.000000  110312.000000   \n",
       "mean             NaN           NaN            NaN     461.308942   \n",
       "std         0.000000       0.00000            NaN     333.996982   \n",
       "min         0.000000       0.00000       0.000000       1.000000   \n",
       "25%        30.125000      36.28125      10.054688     201.000000   \n",
       "50%        31.046875      38.09375      10.468750     404.000000   \n",
       "75%        32.406250      39.75000      11.414062     658.000000   \n",
       "max        36.687500      44.65625    1290.000000    1934.000000   \n",
       "\n",
       "          cycle_life             C1             C2             Q1  \n",
       "count  110312.000000  110312.000000  110312.000000  110312.000000  \n",
       "mean      917.014658       5.126266       4.127492      49.518711  \n",
       "std       356.343171       1.388807       0.726586      22.851391  \n",
       "min       148.000000       0.000000       3.000000       2.000000  \n",
       "25%       663.000000       4.800000       3.600000      31.000000  \n",
       "50%       876.000000       5.400000       4.000000      50.000000  \n",
       "75%      1078.000000       5.600000       4.600000      67.000000  \n",
       "max      1935.000000       8.000000       6.000000      80.000000  "
      ]
     },
     "execution_count": 6,
     "metadata": {},
     "output_type": "execute_result"
    }
   ],
   "source": [
    "df.describe()"
   ]
  },
  {
   "cell_type": "code",
   "execution_count": 7,
   "metadata": {
    "scrolled": true
   },
   "outputs": [
    {
     "data": {
      "text/plain": [
       "1935    1934\n",
       "1836    1835\n",
       "1801    1800\n",
       "876     1750\n",
       "870     1738\n",
       "        ... \n",
       "438      464\n",
       "335      361\n",
       "300      326\n",
       "209      208\n",
       "148      170\n",
       "Name: cycle_life, Length: 127, dtype: int64"
      ]
     },
     "execution_count": 7,
     "metadata": {},
     "output_type": "execute_result"
    }
   ],
   "source": [
    "df['cycle_life'].value_counts()"
   ]
  },
  {
   "cell_type": "code",
   "execution_count": 20,
   "metadata": {},
   "outputs": [
    {
     "data": {
      "text/plain": [
       "(110312, 13)"
      ]
     },
     "execution_count": 20,
     "metadata": {},
     "output_type": "execute_result"
    }
   ],
   "source": [
    "df.shape"
   ]
  },
  {
   "cell_type": "code",
   "execution_count": 21,
   "metadata": {},
   "outputs": [],
   "source": [
    "df = df[df['IR'] != 0]"
   ]
  },
  {
   "cell_type": "code",
   "execution_count": 22,
   "metadata": {
    "scrolled": true
   },
   "outputs": [
    {
     "data": {
      "text/plain": [
       "(110244, 13)"
      ]
     },
     "execution_count": 22,
     "metadata": {},
     "output_type": "execute_result"
    }
   ],
   "source": [
    "df.shape"
   ]
  },
  {
   "cell_type": "code",
   "execution_count": 23,
   "metadata": {},
   "outputs": [],
   "source": [
    "y = df['cycle_life']"
   ]
  },
  {
   "cell_type": "code",
   "execution_count": 24,
   "metadata": {},
   "outputs": [],
   "source": [
    "X = df.drop(['cycle_life','cell','cycle'], axis = 1)"
   ]
  },
  {
   "cell_type": "code",
   "execution_count": 27,
   "metadata": {},
   "outputs": [
    {
     "name": "stdout",
     "output_type": "stream",
     "text": [
      "(110244, 10)\n"
     ]
    },
    {
     "data": {
      "text/html": [
       "<div>\n",
       "<style scoped>\n",
       "    .dataframe tbody tr th:only-of-type {\n",
       "        vertical-align: middle;\n",
       "    }\n",
       "\n",
       "    .dataframe tbody tr th {\n",
       "        vertical-align: top;\n",
       "    }\n",
       "\n",
       "    .dataframe thead th {\n",
       "        text-align: right;\n",
       "    }\n",
       "</style>\n",
       "<table border=\"1\" class=\"dataframe\">\n",
       "  <thead>\n",
       "    <tr style=\"text-align: right;\">\n",
       "      <th></th>\n",
       "      <th>IR</th>\n",
       "      <th>QC</th>\n",
       "      <th>QD</th>\n",
       "      <th>Tavg</th>\n",
       "      <th>Tmin</th>\n",
       "      <th>Tmax</th>\n",
       "      <th>chargetime</th>\n",
       "      <th>C1</th>\n",
       "      <th>C2</th>\n",
       "      <th>Q1</th>\n",
       "    </tr>\n",
       "  </thead>\n",
       "  <tbody>\n",
       "    <tr>\n",
       "      <th>1</th>\n",
       "      <td>0.016739</td>\n",
       "      <td>1.071289</td>\n",
       "      <td>1.070312</td>\n",
       "      <td>31.875000</td>\n",
       "      <td>29.562500</td>\n",
       "      <td>35.65625</td>\n",
       "      <td>13.343750</td>\n",
       "      <td>3.6</td>\n",
       "      <td>3.6</td>\n",
       "      <td>80</td>\n",
       "    </tr>\n",
       "    <tr>\n",
       "      <th>2</th>\n",
       "      <td>0.016724</td>\n",
       "      <td>1.071289</td>\n",
       "      <td>1.072266</td>\n",
       "      <td>31.937500</td>\n",
       "      <td>29.609375</td>\n",
       "      <td>35.68750</td>\n",
       "      <td>13.421875</td>\n",
       "      <td>3.6</td>\n",
       "      <td>3.6</td>\n",
       "      <td>80</td>\n",
       "    </tr>\n",
       "    <tr>\n",
       "      <th>3</th>\n",
       "      <td>0.016678</td>\n",
       "      <td>1.072266</td>\n",
       "      <td>1.072266</td>\n",
       "      <td>31.937500</td>\n",
       "      <td>29.750000</td>\n",
       "      <td>35.68750</td>\n",
       "      <td>13.421875</td>\n",
       "      <td>3.6</td>\n",
       "      <td>3.6</td>\n",
       "      <td>80</td>\n",
       "    </tr>\n",
       "    <tr>\n",
       "      <th>4</th>\n",
       "      <td>0.016663</td>\n",
       "      <td>1.073242</td>\n",
       "      <td>1.073242</td>\n",
       "      <td>31.953125</td>\n",
       "      <td>29.640625</td>\n",
       "      <td>35.71875</td>\n",
       "      <td>13.343750</td>\n",
       "      <td>3.6</td>\n",
       "      <td>3.6</td>\n",
       "      <td>80</td>\n",
       "    </tr>\n",
       "    <tr>\n",
       "      <th>5</th>\n",
       "      <td>0.016617</td>\n",
       "      <td>1.073242</td>\n",
       "      <td>1.073242</td>\n",
       "      <td>31.968750</td>\n",
       "      <td>29.750000</td>\n",
       "      <td>35.71875</td>\n",
       "      <td>13.343750</td>\n",
       "      <td>3.6</td>\n",
       "      <td>3.6</td>\n",
       "      <td>80</td>\n",
       "    </tr>\n",
       "  </tbody>\n",
       "</table>\n",
       "</div>"
      ],
      "text/plain": [
       "         IR        QC        QD       Tavg       Tmin      Tmax  chargetime  \\\n",
       "1  0.016739  1.071289  1.070312  31.875000  29.562500  35.65625   13.343750   \n",
       "2  0.016724  1.071289  1.072266  31.937500  29.609375  35.68750   13.421875   \n",
       "3  0.016678  1.072266  1.072266  31.937500  29.750000  35.68750   13.421875   \n",
       "4  0.016663  1.073242  1.073242  31.953125  29.640625  35.71875   13.343750   \n",
       "5  0.016617  1.073242  1.073242  31.968750  29.750000  35.71875   13.343750   \n",
       "\n",
       "    C1   C2  Q1  \n",
       "1  3.6  3.6  80  \n",
       "2  3.6  3.6  80  \n",
       "3  3.6  3.6  80  \n",
       "4  3.6  3.6  80  \n",
       "5  3.6  3.6  80  "
      ]
     },
     "execution_count": 27,
     "metadata": {},
     "output_type": "execute_result"
    }
   ],
   "source": [
    "print(X.shape)\n",
    "X.head()\n"
   ]
  },
  {
   "cell_type": "code",
   "execution_count": 28,
   "metadata": {},
   "outputs": [
    {
     "name": "stdout",
     "output_type": "stream",
     "text": [
      "(110244,)\n"
     ]
    },
    {
     "data": {
      "text/plain": [
       "1    1190\n",
       "2    1190\n",
       "3    1190\n",
       "4    1190\n",
       "5    1190\n",
       "Name: cycle_life, dtype: int16"
      ]
     },
     "execution_count": 28,
     "metadata": {},
     "output_type": "execute_result"
    }
   ],
   "source": [
    "print(y.shape)\n",
    "y.head()"
   ]
  },
  {
   "cell_type": "code",
   "execution_count": 29,
   "metadata": {},
   "outputs": [],
   "source": [
    "from sklearn.model_selection import train_test_split\n",
    "X_train, X_test, y_train, y_test = train_test_split(X, y, test_size=0.3, random_state=1, shuffle=True)"
   ]
  },
  {
   "cell_type": "code",
   "execution_count": 31,
   "metadata": {},
   "outputs": [
    {
     "name": "stdout",
     "output_type": "stream",
     "text": [
      "(77170, 10)\n",
      "(77170,)\n",
      "(33074, 10)\n",
      "(33074,)\n"
     ]
    }
   ],
   "source": [
    "print(X_train.shape)\n",
    "print(y_train.shape)\n",
    "\n",
    "print(X_test.shape)\n",
    "print(y_test.shape)\n"
   ]
  },
  {
   "cell_type": "code",
   "execution_count": 32,
   "metadata": {},
   "outputs": [],
   "source": [
    "from sklearn.linear_model import LinearRegression"
   ]
  },
  {
   "cell_type": "code",
   "execution_count": 33,
   "metadata": {},
   "outputs": [],
   "source": [
    "reg_lin = LinearRegression(normalize=True)"
   ]
  },
  {
   "cell_type": "code",
   "execution_count": 34,
   "metadata": {},
   "outputs": [
    {
     "data": {
      "text/plain": [
       "LinearRegression(copy_X=True, fit_intercept=True, n_jobs=None, normalize=True)"
      ]
     },
     "execution_count": 34,
     "metadata": {},
     "output_type": "execute_result"
    }
   ],
   "source": [
    "reg_lin.fit(X_train, y_train)"
   ]
  },
  {
   "cell_type": "code",
   "execution_count": 35,
   "metadata": {},
   "outputs": [],
   "source": [
    "y_pred = reg_lin.predict(X_test)"
   ]
  },
  {
   "cell_type": "code",
   "execution_count": 36,
   "metadata": {
    "scrolled": true
   },
   "outputs": [
    {
     "data": {
      "text/plain": [
       "(0, 1200)"
      ]
     },
     "execution_count": 36,
     "metadata": {},
     "output_type": "execute_result"
    },
    {
     "data": {
      "image/png": "[encoded data removed]",
      "text/plain": [
       "<Figure size 432x288 with 1 Axes>"
      ]
     },
     "metadata": {
      "needs_background": "light"
     },
     "output_type": "display_data"
    }
   ],
   "source": [
    "plt.scatter(y_test, y_pred)\n",
    "plt.xlim(0,1200)\n",
    "plt.ylim(0,1200)"
   ]
  },
  {
   "cell_type": "code",
   "execution_count": 37,
   "metadata": {},
   "outputs": [],
   "source": [
    "from sklearn import metrics"
   ]
  },
  {
   "cell_type": "code",
   "execution_count": 38,
   "metadata": {},
   "outputs": [
    {
     "data": {
      "text/plain": [
       "RandomForestRegressor(bootstrap=True, criterion='mse', max_depth=None,\n",
       "                      max_features='auto', max_leaf_nodes=None,\n",
       "                      min_impurity_decrease=0.0, min_impurity_split=None,\n",
       "                      min_samples_leaf=1, min_samples_split=2,\n",
       "                      min_weight_fraction_leaf=0.0, n_estimators=500,\n",
       "                      n_jobs=None, oob_score=False, random_state=None,\n",
       "                      verbose=0, warm_start=False)"
      ]
     },
     "execution_count": 38,
     "metadata": {},
     "output_type": "execute_result"
    }
   ],
   "source": [
    "from sklearn.ensemble import RandomForestRegressor\n",
    "Forest = RandomForestRegressor(n_estimators=500)\n",
    "Forest.fit(X_train, y_train)"
   ]
  },
  {
   "cell_type": "code",
   "execution_count": 39,
   "metadata": {},
   "outputs": [],
   "source": [
    "y_pred = Forest.predict(X_test)"
   ]
  },
  {
   "cell_type": "code",
   "execution_count": 40,
   "metadata": {},
   "outputs": [
    {
     "data": {
      "text/plain": [
       "<matplotlib.collections.PathCollection at 0x7f4e82567290>"
      ]
     },
     "execution_count": 40,
     "metadata": {},
     "output_type": "execute_result"
    },
    {
     "data": {
      "image/png": "[encoded data removed]",
      "text/plain": [
       "<Figure size 720x720 with 1 Axes>"
      ]
     },
     "metadata": {
      "needs_background": "light"
     },
     "output_type": "display_data"
    }
   ],
   "source": [
    "plt.figure(figsize=(10,10))\n",
    "plt.scatter(y_pred, y_test, s=6)"
   ]
  },
  {
   "cell_type": "code",
   "execution_count": 41,
   "metadata": {},
   "outputs": [
    {
     "name": "stderr",
     "output_type": "stream",
     "text": [
      "/home/tam/anaconda3/lib/python3.7/site-packages/dask/dataframe/utils.py:14: FutureWarning: pandas.util.testing is deprecated. Use the functions in the public API at pandas.testing instead.\n",
      "  import pandas.util.testing as tm\n"
     ]
    }
   ],
   "source": [
    "import xgboost as xgb\n",
    "\n",
    "regr = xgb.XGBRegressor(\n",
    "                 \n",
    "                 gamma=0.0,\n",
    "                 learning_rate=0.01,\n",
    "                 max_depth=4,\n",
    "                 min_child_weight=1.5,\n",
    "                 n_estimators=10000,                                                                  \n",
    "                 reg_alpha=0.9,\n",
    "                 reg_lambda=0.6,\n",
    "                 )\n",
    "\n",
    "regr.fit(X_train, y_train)\n",
    "\n",
    "y_pred = regr.predict(X_test)\n"
   ]
  },
  {
   "cell_type": "code",
   "execution_count": 42,
   "metadata": {},
   "outputs": [
    {
     "data": {
      "text/plain": [
       "<matplotlib.collections.PathCollection at 0x7f4e78257c50>"
      ]
     },
     "execution_count": 42,
     "metadata": {},
     "output_type": "execute_result"
    },
    {
     "data": {
      "image/png": "[encoded data removed]",
      "text/plain": [
       "<Figure size 720x720 with 1 Axes>"
      ]
     },
     "metadata": {
      "needs_background": "light"
     },
     "output_type": "display_data"
    }
   ],
   "source": [
    "plt.figure(figsize=(10,10))\n",
    "plt.scatter(y_pred, y_test, s=6)\n"
   ]
  },
  {
   "cell_type": "code",
   "execution_count": 43,
   "metadata": {},
   "outputs": [
    {
     "data": {
      "text/plain": [
       "Lasso(alpha=0.00099, copy_X=True, fit_intercept=True, max_iter=50000,\n",
       "      normalize=False, positive=False, precompute=False, random_state=None,\n",
       "      selection='cyclic', tol=0.0001, warm_start=False)"
      ]
     },
     "execution_count": 43,
     "metadata": {},
     "output_type": "execute_result"
    }
   ],
   "source": [
    "from sklearn.linear_model import Lasso\n",
    "\n",
    "\n",
    "best_alpha = 0.00099\n",
    "\n",
    "regr = Lasso(alpha=best_alpha, max_iter=50000)\n",
    "regr.fit(X_train, y_train)\n",
    "\n"
   ]
  },
  {
   "cell_type": "code",
   "execution_count": 44,
   "metadata": {},
   "outputs": [],
   "source": [
    "y_pred = regr.predict(X_test)"
   ]
  },
  {
   "cell_type": "code",
   "execution_count": 45,
   "metadata": {},
   "outputs": [
    {
     "data": {
      "text/plain": [
       "<matplotlib.collections.PathCollection at 0x7f4e7824e6d0>"
      ]
     },
     "execution_count": 45,
     "metadata": {},
     "output_type": "execute_result"
    },
    {
     "data": {
      "image/png": "[encoded data removed]",
      "text/plain": [
       "<Figure size 720x720 with 1 Axes>"
      ]
     },
     "metadata": {
      "needs_background": "light"
     },
     "output_type": "display_data"
    }
   ],
   "source": [
    "plt.figure(figsize=(10,10))\n",
    "plt.scatter(y_pred, y_test, s=6)\n"
   ]
  },
  {
   "cell_type": "code",
   "execution_count": 46,
   "metadata": {},
   "outputs": [],
   "source": [
    "\n",
    "from sklearn.linear_model import Ridge\n",
    "from sklearn.metrics import mean_squared_error\n",
    "\n",
    "\n",
    "alpha=[0.01]#, 0.03, 0.1, 0.3, 1, 3, 10, 30]\n",
    "\n",
    "ridge=Ridge(alpha=alpha, copy_X=True, fit_intercept=True)\n",
    "ridge.fit(X_train, y_train)\n",
    "pred=ridge.predict(X_test)\n"
   ]
  },
  {
   "cell_type": "code",
   "execution_count": 47,
   "metadata": {},
   "outputs": [
    {
     "data": {
      "text/plain": [
       "<matplotlib.collections.PathCollection at 0x7f4e781bbdd0>"
      ]
     },
     "execution_count": 47,
     "metadata": {},
     "output_type": "execute_result"
    },
    {
     "data": {
      "image/png": "[encoded data removed]",
      "text/plain": [
       "<Figure size 720x720 with 1 Axes>"
      ]
     },
     "metadata": {
      "needs_background": "light"
     },
     "output_type": "display_data"
    }
   ],
   "source": [
    "plt.figure(figsize=(10,10))\n",
    "plt.scatter(y_pred, y_test, s=6)"
   ]
  },
  {
   "cell_type": "code",
   "execution_count": null,
   "metadata": {},
   "outputs": [],
   "source": []
  }
 ],
 "metadata": {
  "kernelspec": {
   "display_name": "Python 3",
   "language": "python",
   "name": "python3"
  },
  "language_info": {
   "codemirror_mode": {
    "name": "ipython",
    "version": 3
   },
   "file_extension": ".py",
   "mimetype": "text/x-python",
   "name": "python",
   "nbconvert_exporter": "python",
   "pygments_lexer": "ipython3",
   "version": "3.7.4"
  }
 },
 "nbformat": 4,
 "nbformat_minor": 2
}

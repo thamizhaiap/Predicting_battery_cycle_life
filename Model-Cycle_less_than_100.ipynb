{
 "cells": [
  {
   "cell_type": "code",
   "execution_count": 1,
   "metadata": {},
   "outputs": [],
   "source": [
    "import numpy as np\n",
    "import pandas as pd\n",
    "import matplotlib.pyplot as plt"
   ]
  },
  {
   "cell_type": "code",
   "execution_count": 2,
   "metadata": {},
   "outputs": [],
   "source": [
    "df1 = pd.read_pickle('summary_df.pkl')\n",
    "df2 = pd.read_pickle('summary_df_test.pkl')\n",
    "df3 = pd.read_pickle('summary_df_test_2.pkl')"
   ]
  },
  {
   "cell_type": "code",
   "execution_count": 3,
   "metadata": {},
   "outputs": [],
   "source": [
    "df = pd.concat([df1, df2, df3])"
   ]
  },
  {
   "cell_type": "code",
   "execution_count": 4,
   "metadata": {
    "scrolled": true
   },
   "outputs": [
    {
     "data": {
      "text/html": [
       "<div>\n",
       "<style scoped>\n",
       "    .dataframe tbody tr th:only-of-type {\n",
       "        vertical-align: middle;\n",
       "    }\n",
       "\n",
       "    .dataframe tbody tr th {\n",
       "        vertical-align: top;\n",
       "    }\n",
       "\n",
       "    .dataframe thead th {\n",
       "        text-align: right;\n",
       "    }\n",
       "</style>\n",
       "<table border=\"1\" class=\"dataframe\">\n",
       "  <thead>\n",
       "    <tr style=\"text-align: right;\">\n",
       "      <th></th>\n",
       "      <th>IR</th>\n",
       "      <th>QC</th>\n",
       "      <th>QD</th>\n",
       "      <th>Tavg</th>\n",
       "      <th>Tmin</th>\n",
       "      <th>Tmax</th>\n",
       "      <th>chargetime</th>\n",
       "      <th>cycle</th>\n",
       "      <th>cell</th>\n",
       "      <th>cycle_life</th>\n",
       "      <th>C1</th>\n",
       "      <th>C2</th>\n",
       "      <th>Q1</th>\n",
       "      <th>Qd</th>\n",
       "    </tr>\n",
       "  </thead>\n",
       "  <tbody>\n",
       "    <tr>\n",
       "      <th>0</th>\n",
       "      <td>0.000000</td>\n",
       "      <td>0.000000</td>\n",
       "      <td>0.000000</td>\n",
       "      <td>0.000000</td>\n",
       "      <td>0.000000</td>\n",
       "      <td>0.00000</td>\n",
       "      <td>0.000000</td>\n",
       "      <td>1.0</td>\n",
       "      <td>b1c0</td>\n",
       "      <td>1190</td>\n",
       "      <td>3.6</td>\n",
       "      <td>3.6</td>\n",
       "      <td>80</td>\n",
       "      <td>0.000000</td>\n",
       "    </tr>\n",
       "    <tr>\n",
       "      <th>1</th>\n",
       "      <td>0.016739</td>\n",
       "      <td>1.071289</td>\n",
       "      <td>1.070689</td>\n",
       "      <td>31.875000</td>\n",
       "      <td>29.562500</td>\n",
       "      <td>35.65625</td>\n",
       "      <td>13.343750</td>\n",
       "      <td>2.0</td>\n",
       "      <td>b1c0</td>\n",
       "      <td>1190</td>\n",
       "      <td>3.6</td>\n",
       "      <td>3.6</td>\n",
       "      <td>80</td>\n",
       "      <td>1.070312</td>\n",
       "    </tr>\n",
       "    <tr>\n",
       "      <th>2</th>\n",
       "      <td>0.016724</td>\n",
       "      <td>1.071289</td>\n",
       "      <td>1.071900</td>\n",
       "      <td>31.937500</td>\n",
       "      <td>29.609375</td>\n",
       "      <td>35.68750</td>\n",
       "      <td>13.421875</td>\n",
       "      <td>3.0</td>\n",
       "      <td>b1c0</td>\n",
       "      <td>1190</td>\n",
       "      <td>3.6</td>\n",
       "      <td>3.6</td>\n",
       "      <td>80</td>\n",
       "      <td>1.072266</td>\n",
       "    </tr>\n",
       "    <tr>\n",
       "      <th>3</th>\n",
       "      <td>0.016678</td>\n",
       "      <td>1.072266</td>\n",
       "      <td>1.072510</td>\n",
       "      <td>31.937500</td>\n",
       "      <td>29.750000</td>\n",
       "      <td>35.68750</td>\n",
       "      <td>13.421875</td>\n",
       "      <td>4.0</td>\n",
       "      <td>b1c0</td>\n",
       "      <td>1190</td>\n",
       "      <td>3.6</td>\n",
       "      <td>3.6</td>\n",
       "      <td>80</td>\n",
       "      <td>1.072266</td>\n",
       "    </tr>\n",
       "    <tr>\n",
       "      <th>4</th>\n",
       "      <td>0.016663</td>\n",
       "      <td>1.073242</td>\n",
       "      <td>1.073174</td>\n",
       "      <td>31.953125</td>\n",
       "      <td>29.640625</td>\n",
       "      <td>35.71875</td>\n",
       "      <td>13.343750</td>\n",
       "      <td>5.0</td>\n",
       "      <td>b1c0</td>\n",
       "      <td>1190</td>\n",
       "      <td>3.6</td>\n",
       "      <td>3.6</td>\n",
       "      <td>80</td>\n",
       "      <td>1.073242</td>\n",
       "    </tr>\n",
       "  </tbody>\n",
       "</table>\n",
       "</div>"
      ],
      "text/plain": [
       "         IR        QC        QD       Tavg       Tmin      Tmax  chargetime  \\\n",
       "0  0.000000  0.000000  0.000000   0.000000   0.000000   0.00000    0.000000   \n",
       "1  0.016739  1.071289  1.070689  31.875000  29.562500  35.65625   13.343750   \n",
       "2  0.016724  1.071289  1.071900  31.937500  29.609375  35.68750   13.421875   \n",
       "3  0.016678  1.072266  1.072510  31.937500  29.750000  35.68750   13.421875   \n",
       "4  0.016663  1.073242  1.073174  31.953125  29.640625  35.71875   13.343750   \n",
       "\n",
       "   cycle  cell  cycle_life   C1   C2  Q1        Qd  \n",
       "0    1.0  b1c0        1190  3.6  3.6  80  0.000000  \n",
       "1    2.0  b1c0        1190  3.6  3.6  80  1.070312  \n",
       "2    3.0  b1c0        1190  3.6  3.6  80  1.072266  \n",
       "3    4.0  b1c0        1190  3.6  3.6  80  1.072266  \n",
       "4    5.0  b1c0        1190  3.6  3.6  80  1.073242  "
      ]
     },
     "execution_count": 4,
     "metadata": {},
     "output_type": "execute_result"
    }
   ],
   "source": [
    "df.head()"
   ]
  },
  {
   "cell_type": "code",
   "execution_count": 5,
   "metadata": {},
   "outputs": [
    {
     "data": {
      "text/plain": [
       "1935    1934\n",
       "1836    1835\n",
       "1801    1800\n",
       "876     1750\n",
       "870     1738\n",
       "        ... \n",
       "438      464\n",
       "335      361\n",
       "300      326\n",
       "209      208\n",
       "148      170\n",
       "Name: cycle_life, Length: 127, dtype: int64"
      ]
     },
     "execution_count": 5,
     "metadata": {},
     "output_type": "execute_result"
    }
   ],
   "source": [
    "df['cycle_life'].value_counts()"
   ]
  },
  {
   "cell_type": "code",
   "execution_count": 6,
   "metadata": {},
   "outputs": [],
   "source": [
    "df['cycle'] = df['cycle'].astype('int16')"
   ]
  },
  {
   "cell_type": "code",
   "execution_count": 7,
   "metadata": {},
   "outputs": [
    {
     "data": {
      "text/plain": [
       "(110312, 14)"
      ]
     },
     "execution_count": 7,
     "metadata": {},
     "output_type": "execute_result"
    }
   ],
   "source": [
    "df.shape"
   ]
  },
  {
   "cell_type": "code",
   "execution_count": 8,
   "metadata": {},
   "outputs": [],
   "source": [
    "df = df[df['IR'] != 0]"
   ]
  },
  {
   "cell_type": "code",
   "execution_count": 9,
   "metadata": {
    "scrolled": true
   },
   "outputs": [
    {
     "data": {
      "text/plain": [
       "(110244, 14)"
      ]
     },
     "execution_count": 9,
     "metadata": {},
     "output_type": "execute_result"
    }
   ],
   "source": [
    "df.shape"
   ]
  },
  {
   "cell_type": "code",
   "execution_count": 10,
   "metadata": {},
   "outputs": [],
   "source": [
    "df = df[df['cycle'] <= 100]"
   ]
  },
  {
   "cell_type": "code",
   "execution_count": 11,
   "metadata": {},
   "outputs": [
    {
     "data": {
      "text/plain": [
       "429     200\n",
       "828     200\n",
       "858     200\n",
       "487     200\n",
       "483     200\n",
       "       ... \n",
       "906      98\n",
       "1226     98\n",
       "1227     98\n",
       "862      98\n",
       "636      98\n",
       "Name: cycle_life, Length: 127, dtype: int64"
      ]
     },
     "execution_count": 11,
     "metadata": {},
     "output_type": "execute_result"
    }
   ],
   "source": [
    "df['cycle_life'].value_counts()"
   ]
  },
  {
   "cell_type": "code",
   "execution_count": 12,
   "metadata": {
    "scrolled": true
   },
   "outputs": [
    {
     "data": {
      "text/html": [
       "<div>\n",
       "<style scoped>\n",
       "    .dataframe tbody tr th:only-of-type {\n",
       "        vertical-align: middle;\n",
       "    }\n",
       "\n",
       "    .dataframe tbody tr th {\n",
       "        vertical-align: top;\n",
       "    }\n",
       "\n",
       "    .dataframe thead th {\n",
       "        text-align: right;\n",
       "    }\n",
       "</style>\n",
       "<table border=\"1\" class=\"dataframe\">\n",
       "  <thead>\n",
       "    <tr style=\"text-align: right;\">\n",
       "      <th></th>\n",
       "      <th>IR</th>\n",
       "      <th>QC</th>\n",
       "      <th>QD</th>\n",
       "      <th>Tavg</th>\n",
       "      <th>Tmin</th>\n",
       "      <th>Tmax</th>\n",
       "      <th>chargetime</th>\n",
       "      <th>cycle</th>\n",
       "      <th>cell</th>\n",
       "      <th>cycle_life</th>\n",
       "      <th>C1</th>\n",
       "      <th>C2</th>\n",
       "      <th>Q1</th>\n",
       "      <th>Qd</th>\n",
       "    </tr>\n",
       "  </thead>\n",
       "  <tbody>\n",
       "    <tr>\n",
       "      <th>1</th>\n",
       "      <td>0.016739</td>\n",
       "      <td>1.071289</td>\n",
       "      <td>1.070689</td>\n",
       "      <td>31.875000</td>\n",
       "      <td>29.562500</td>\n",
       "      <td>35.65625</td>\n",
       "      <td>13.343750</td>\n",
       "      <td>2</td>\n",
       "      <td>b1c0</td>\n",
       "      <td>1190</td>\n",
       "      <td>3.6</td>\n",
       "      <td>3.6</td>\n",
       "      <td>80</td>\n",
       "      <td>1.070312</td>\n",
       "    </tr>\n",
       "    <tr>\n",
       "      <th>2</th>\n",
       "      <td>0.016724</td>\n",
       "      <td>1.071289</td>\n",
       "      <td>1.071900</td>\n",
       "      <td>31.937500</td>\n",
       "      <td>29.609375</td>\n",
       "      <td>35.68750</td>\n",
       "      <td>13.421875</td>\n",
       "      <td>3</td>\n",
       "      <td>b1c0</td>\n",
       "      <td>1190</td>\n",
       "      <td>3.6</td>\n",
       "      <td>3.6</td>\n",
       "      <td>80</td>\n",
       "      <td>1.072266</td>\n",
       "    </tr>\n",
       "    <tr>\n",
       "      <th>3</th>\n",
       "      <td>0.016678</td>\n",
       "      <td>1.072266</td>\n",
       "      <td>1.072510</td>\n",
       "      <td>31.937500</td>\n",
       "      <td>29.750000</td>\n",
       "      <td>35.68750</td>\n",
       "      <td>13.421875</td>\n",
       "      <td>4</td>\n",
       "      <td>b1c0</td>\n",
       "      <td>1190</td>\n",
       "      <td>3.6</td>\n",
       "      <td>3.6</td>\n",
       "      <td>80</td>\n",
       "      <td>1.072266</td>\n",
       "    </tr>\n",
       "    <tr>\n",
       "      <th>4</th>\n",
       "      <td>0.016663</td>\n",
       "      <td>1.073242</td>\n",
       "      <td>1.073174</td>\n",
       "      <td>31.953125</td>\n",
       "      <td>29.640625</td>\n",
       "      <td>35.71875</td>\n",
       "      <td>13.343750</td>\n",
       "      <td>5</td>\n",
       "      <td>b1c0</td>\n",
       "      <td>1190</td>\n",
       "      <td>3.6</td>\n",
       "      <td>3.6</td>\n",
       "      <td>80</td>\n",
       "      <td>1.073242</td>\n",
       "    </tr>\n",
       "    <tr>\n",
       "      <th>5</th>\n",
       "      <td>0.016617</td>\n",
       "      <td>1.073242</td>\n",
       "      <td>1.073576</td>\n",
       "      <td>31.968750</td>\n",
       "      <td>29.750000</td>\n",
       "      <td>35.71875</td>\n",
       "      <td>13.343750</td>\n",
       "      <td>6</td>\n",
       "      <td>b1c0</td>\n",
       "      <td>1190</td>\n",
       "      <td>3.6</td>\n",
       "      <td>3.6</td>\n",
       "      <td>80</td>\n",
       "      <td>1.073242</td>\n",
       "    </tr>\n",
       "  </tbody>\n",
       "</table>\n",
       "</div>"
      ],
      "text/plain": [
       "         IR        QC        QD       Tavg       Tmin      Tmax  chargetime  \\\n",
       "1  0.016739  1.071289  1.070689  31.875000  29.562500  35.65625   13.343750   \n",
       "2  0.016724  1.071289  1.071900  31.937500  29.609375  35.68750   13.421875   \n",
       "3  0.016678  1.072266  1.072510  31.937500  29.750000  35.68750   13.421875   \n",
       "4  0.016663  1.073242  1.073174  31.953125  29.640625  35.71875   13.343750   \n",
       "5  0.016617  1.073242  1.073576  31.968750  29.750000  35.71875   13.343750   \n",
       "\n",
       "   cycle  cell  cycle_life   C1   C2  Q1        Qd  \n",
       "1      2  b1c0        1190  3.6  3.6  80  1.070312  \n",
       "2      3  b1c0        1190  3.6  3.6  80  1.072266  \n",
       "3      4  b1c0        1190  3.6  3.6  80  1.072266  \n",
       "4      5  b1c0        1190  3.6  3.6  80  1.073242  \n",
       "5      6  b1c0        1190  3.6  3.6  80  1.073242  "
      ]
     },
     "execution_count": 12,
     "metadata": {},
     "output_type": "execute_result"
    }
   ],
   "source": [
    "df.head()"
   ]
  },
  {
   "cell_type": "code",
   "execution_count": 13,
   "metadata": {},
   "outputs": [],
   "source": [
    "y = df['cycle_life']"
   ]
  },
  {
   "cell_type": "code",
   "execution_count": 14,
   "metadata": {},
   "outputs": [],
   "source": [
    "X = df.drop(['cycle_life','cell','cycle'], axis = 1)"
   ]
  },
  {
   "cell_type": "code",
   "execution_count": 15,
   "metadata": {},
   "outputs": [],
   "source": [
    "from sklearn.model_selection import train_test_split\n",
    "X_train, X_test, y_train, y_test = train_test_split(X, y, test_size=0.3, random_state=1, shuffle=True)"
   ]
  },
  {
   "cell_type": "markdown",
   "metadata": {},
   "source": [
    "# Linear Regression"
   ]
  },
  {
   "cell_type": "code",
   "execution_count": 16,
   "metadata": {},
   "outputs": [],
   "source": [
    "from sklearn.linear_model import LinearRegression"
   ]
  },
  {
   "cell_type": "code",
   "execution_count": 17,
   "metadata": {},
   "outputs": [],
   "source": [
    "reg_lin = LinearRegression(normalize=True)"
   ]
  },
  {
   "cell_type": "code",
   "execution_count": 18,
   "metadata": {},
   "outputs": [
    {
     "data": {
      "text/plain": [
       "LinearRegression(copy_X=True, fit_intercept=True, n_jobs=None, normalize=True)"
      ]
     },
     "execution_count": 18,
     "metadata": {},
     "output_type": "execute_result"
    }
   ],
   "source": [
    "reg_lin.fit(X_train, y_train)"
   ]
  },
  {
   "cell_type": "code",
   "execution_count": 19,
   "metadata": {},
   "outputs": [],
   "source": [
    "y_pred = reg_lin.predict(X_test)"
   ]
  },
  {
   "cell_type": "code",
   "execution_count": 20,
   "metadata": {},
   "outputs": [],
   "source": [
    "np.set_printoptions(precision=2)"
   ]
  },
  {
   "cell_type": "code",
   "execution_count": 21,
   "metadata": {
    "scrolled": true
   },
   "outputs": [
    {
     "data": {
      "text/plain": [
       "(0, 1200)"
      ]
     },
     "execution_count": 21,
     "metadata": {},
     "output_type": "execute_result"
    },
    {
     "data": {
      "image/png": "[encoded data removed]",
      "text/plain": [
       "<Figure size 432x288 with 1 Axes>"
      ]
     },
     "metadata": {
      "needs_background": "light"
     },
     "output_type": "display_data"
    }
   ],
   "source": [
    "plt.scatter(y_test, y_pred)\n",
    "plt.xlim(0,1200)\n",
    "plt.ylim(0,1200)"
   ]
  },
  {
   "cell_type": "code",
   "execution_count": 22,
   "metadata": {},
   "outputs": [],
   "source": [
    "from sklearn.metrics import r2_score, mean_squared_error"
   ]
  },
  {
   "cell_type": "code",
   "execution_count": 23,
   "metadata": {},
   "outputs": [
    {
     "data": {
      "text/plain": [
       "0.541628238525761"
      ]
     },
     "execution_count": 23,
     "metadata": {},
     "output_type": "execute_result"
    }
   ],
   "source": [
    "r2_score(y_test, y_pred)"
   ]
  },
  {
   "cell_type": "code",
   "execution_count": 24,
   "metadata": {},
   "outputs": [
    {
     "data": {
      "text/plain": [
       "218.70518290309965"
      ]
     },
     "execution_count": 24,
     "metadata": {},
     "output_type": "execute_result"
    }
   ],
   "source": [
    "np.sqrt(mean_squared_error(y_test, y_pred))"
   ]
  },
  {
   "cell_type": "markdown",
   "metadata": {},
   "source": [
    "# Random Forest Regressor"
   ]
  },
  {
   "cell_type": "code",
   "execution_count": 25,
   "metadata": {
    "scrolled": true
   },
   "outputs": [
    {
     "data": {
      "text/plain": [
       "RandomForestRegressor(bootstrap=True, criterion='mse', max_depth=None,\n",
       "                      max_features='auto', max_leaf_nodes=None,\n",
       "                      min_impurity_decrease=0.0, min_impurity_split=None,\n",
       "                      min_samples_leaf=1, min_samples_split=2,\n",
       "                      min_weight_fraction_leaf=0.0, n_estimators=500,\n",
       "                      n_jobs=None, oob_score=False, random_state=None,\n",
       "                      verbose=0, warm_start=False)"
      ]
     },
     "execution_count": 25,
     "metadata": {},
     "output_type": "execute_result"
    }
   ],
   "source": [
    "from sklearn.ensemble import RandomForestRegressor\n",
    "Forest = RandomForestRegressor(n_estimators=500)\n",
    "Forest.fit(X_train, y_train)"
   ]
  },
  {
   "cell_type": "code",
   "execution_count": 26,
   "metadata": {},
   "outputs": [],
   "source": [
    "y_pred = Forest.predict(X_test)"
   ]
  },
  {
   "cell_type": "code",
   "execution_count": 27,
   "metadata": {},
   "outputs": [
    {
     "data": {
      "text/plain": [
       "0.997295680415782"
      ]
     },
     "execution_count": 27,
     "metadata": {},
     "output_type": "execute_result"
    }
   ],
   "source": [
    "r2_score(y_test, y_pred)"
   ]
  },
  {
   "cell_type": "code",
   "execution_count": 28,
   "metadata": {},
   "outputs": [
    {
     "data": {
      "text/plain": [
       "16.79883461479491"
      ]
     },
     "execution_count": 28,
     "metadata": {},
     "output_type": "execute_result"
    }
   ],
   "source": [
    "np.sqrt(mean_squared_error(y_test, y_pred))"
   ]
  },
  {
   "cell_type": "code",
   "execution_count": 29,
   "metadata": {
    "scrolled": false
   },
   "outputs": [
    {
     "data": {
      "text/plain": [
       "<matplotlib.collections.PathCollection at 0x7f8f4ff6edd0>"
      ]
     },
     "execution_count": 29,
     "metadata": {},
     "output_type": "execute_result"
    },
    {
     "data": {
      "image/png": "[encoded data removed]",
      "text/plain": [
       "<Figure size 720x720 with 1 Axes>"
      ]
     },
     "metadata": {
      "needs_background": "light"
     },
     "output_type": "display_data"
    }
   ],
   "source": [
    "plt.figure(figsize=(10,10))\n",
    "plt.scatter(y_pred, y_test, s=6)\n",
    "# plt.xlim(0,1200)\n",
    "# plt.ylim(0,1200)"
   ]
  },
  {
   "cell_type": "markdown",
   "metadata": {},
   "source": [
    "# XGBoosting"
   ]
  },
  {
   "cell_type": "code",
   "execution_count": 30,
   "metadata": {},
   "outputs": [
    {
     "name": "stderr",
     "output_type": "stream",
     "text": [
      "/home/tam/anaconda3/lib/python3.7/site-packages/dask/dataframe/utils.py:14: FutureWarning: pandas.util.testing is deprecated. Use the functions in the public API at pandas.testing instead.\n",
      "  import pandas.util.testing as tm\n"
     ]
    }
   ],
   "source": [
    "import xgboost as xgb\n",
    "\n",
    "regr = xgb.XGBRegressor(\n",
    "                 \n",
    "                 gamma=0.0,\n",
    "                 learning_rate=0.01,\n",
    "                 max_depth=4,\n",
    "                 min_child_weight=1.5,\n",
    "                 n_estimators=10000,                                                                  \n",
    "                 reg_alpha=0.9,\n",
    "                 reg_lambda=0.6,\n",
    "                 )\n",
    "\n",
    "regr.fit(X_train, y_train)\n",
    "\n",
    "# Run prediction on training set to get a rough idea of how well it does.\n",
    "y_pred = regr.predict(X_test)\n",
    "\n",
    "# print(\"XGBoost score on training set: \", rmse(y_test, y_pred))\n",
    "\n",
    "# # Run prediction on the Kaggle test set.\n",
    "# y_pred_xgb = regr.predict(test_df_munged)"
   ]
  },
  {
   "cell_type": "code",
   "execution_count": 31,
   "metadata": {},
   "outputs": [
    {
     "data": {
      "text/plain": [
       "0.9961823513143466"
      ]
     },
     "execution_count": 31,
     "metadata": {},
     "output_type": "execute_result"
    }
   ],
   "source": [
    "r2_score(y_test, y_pred)"
   ]
  },
  {
   "cell_type": "code",
   "execution_count": 32,
   "metadata": {},
   "outputs": [
    {
     "data": {
      "text/plain": [
       "19.95943"
      ]
     },
     "execution_count": 32,
     "metadata": {},
     "output_type": "execute_result"
    }
   ],
   "source": [
    "np.sqrt(mean_squared_error(y_test, y_pred))"
   ]
  },
  {
   "cell_type": "code",
   "execution_count": 33,
   "metadata": {
    "scrolled": false
   },
   "outputs": [
    {
     "data": {
      "text/plain": [
       "<matplotlib.collections.PathCollection at 0x7f8f492dc290>"
      ]
     },
     "execution_count": 33,
     "metadata": {},
     "output_type": "execute_result"
    },
    {
     "data": {
      "image/png": "[encoded data removed]",
      "text/plain": [
       "<Figure size 720x720 with 1 Axes>"
      ]
     },
     "metadata": {
      "needs_background": "light"
     },
     "output_type": "display_data"
    }
   ],
   "source": [
    "plt.figure(figsize=(10,10))\n",
    "plt.scatter(y_pred, y_test, s=6)\n"
   ]
  },
  {
   "cell_type": "code",
   "execution_count": 34,
   "metadata": {},
   "outputs": [
    {
     "data": {
      "text/plain": [
       "Lasso(alpha=0.00099, copy_X=True, fit_intercept=True, max_iter=50000,\n",
       "      normalize=False, positive=False, precompute=False, random_state=None,\n",
       "      selection='cyclic', tol=0.0001, warm_start=False)"
      ]
     },
     "execution_count": 34,
     "metadata": {},
     "output_type": "execute_result"
    }
   ],
   "source": [
    "from sklearn.linear_model import Lasso\n",
    "\n",
    "# I found this best alpha through cross-validation.\n",
    "best_alpha = 0.00099\n",
    "\n",
    "regr = Lasso(alpha=best_alpha, max_iter=50000)\n",
    "regr.fit(X_train, y_train)\n",
    "\n",
    "# Run prediction on training set to get a rough idea of how well it does.\n",
    "# y_pred = regr.predict(y_test.reshape(-1,1))\n",
    "# y_test = label_df\n",
    "# print(\"Lasso score on training set: \", rmse(y_test, y_pred))\n",
    "\n",
    "# # Run prediction on the Kaggle test set.\n",
    "# y_pred_lasso = regr.predict(test_df_munged)"
   ]
  },
  {
   "cell_type": "code",
   "execution_count": 35,
   "metadata": {},
   "outputs": [],
   "source": [
    "y_pred = regr.predict(X_test)"
   ]
  },
  {
   "cell_type": "code",
   "execution_count": 36,
   "metadata": {},
   "outputs": [
    {
     "data": {
      "text/plain": [
       "0.54146948377032"
      ]
     },
     "execution_count": 36,
     "metadata": {},
     "output_type": "execute_result"
    }
   ],
   "source": [
    "r2_score(y_test, y_pred)"
   ]
  },
  {
   "cell_type": "code",
   "execution_count": 37,
   "metadata": {},
   "outputs": [
    {
     "data": {
      "text/plain": [
       "218.7430533446793"
      ]
     },
     "execution_count": 37,
     "metadata": {},
     "output_type": "execute_result"
    }
   ],
   "source": [
    "np.sqrt(mean_squared_error(y_test, y_pred))"
   ]
  },
  {
   "cell_type": "code",
   "execution_count": 38,
   "metadata": {
    "scrolled": false
   },
   "outputs": [
    {
     "data": {
      "text/plain": [
       "<matplotlib.collections.PathCollection at 0x7f8f492dc150>"
      ]
     },
     "execution_count": 38,
     "metadata": {},
     "output_type": "execute_result"
    },
    {
     "data": {
      "image/png": "[encoded data removed]",
      "text/plain": [
       "<Figure size 720x720 with 1 Axes>"
      ]
     },
     "metadata": {
      "needs_background": "light"
     },
     "output_type": "display_data"
    }
   ],
   "source": [
    "plt.figure(figsize=(10,10))\n",
    "plt.scatter(y_pred, y_test, s=6)\n"
   ]
  },
  {
   "cell_type": "code",
   "execution_count": 39,
   "metadata": {},
   "outputs": [],
   "source": [
    "# Import Ridge regression from sklearn\n",
    "from sklearn.linear_model import Ridge\n",
    "# Evaluate model performance using root mean square error\n",
    "from sklearn.metrics import mean_squared_error\n",
    "\n",
    "# check the below alpha values for Ridge Regression\n",
    "alpha=[0.01]#, 0.03, 0.1, 0.3, 1, 3, 10, 30]\n",
    "\n",
    "ridge=Ridge(alpha=alpha, copy_X=True, fit_intercept=True)\n",
    "ridge.fit(X_train, y_train)\n",
    "pred=ridge.predict(X_test)\n"
   ]
  },
  {
   "cell_type": "code",
   "execution_count": 40,
   "metadata": {},
   "outputs": [
    {
     "data": {
      "text/plain": [
       "0.5393809700242969"
      ]
     },
     "execution_count": 40,
     "metadata": {},
     "output_type": "execute_result"
    }
   ],
   "source": [
    "r2_score(y_test, pred)"
   ]
  },
  {
   "cell_type": "code",
   "execution_count": 41,
   "metadata": {},
   "outputs": [
    {
     "data": {
      "text/plain": [
       "219.24065255188847"
      ]
     },
     "execution_count": 41,
     "metadata": {},
     "output_type": "execute_result"
    }
   ],
   "source": [
    "np.sqrt(mean_squared_error(y_test, pred))"
   ]
  },
  {
   "cell_type": "code",
   "execution_count": 42,
   "metadata": {},
   "outputs": [
    {
     "data": {
      "text/plain": [
       "<matplotlib.collections.PathCollection at 0x7f8f4925b2d0>"
      ]
     },
     "execution_count": 42,
     "metadata": {},
     "output_type": "execute_result"
    },
    {
     "data": {
      "image/png": "[encoded data removed]",
      "text/plain": [
       "<Figure size 720x720 with 1 Axes>"
      ]
     },
     "metadata": {
      "needs_background": "light"
     },
     "output_type": "display_data"
    }
   ],
   "source": [
    "plt.figure(figsize=(10,10))\n",
    "plt.scatter(y_pred, y_test, s=6)"
   ]
  }
 ],
 "metadata": {
  "kernelspec": {
   "display_name": "Python 3",
   "language": "python",
   "name": "python3"
  },
  "language_info": {
   "codemirror_mode": {
    "name": "ipython",
    "version": 3
   },
   "file_extension": ".py",
   "mimetype": "text/x-python",
   "name": "python",
   "nbconvert_exporter": "python",
   "pygments_lexer": "ipython3",
   "version": "3.7.4"
  }
 },
 "nbformat": 4,
 "nbformat_minor": 2
}

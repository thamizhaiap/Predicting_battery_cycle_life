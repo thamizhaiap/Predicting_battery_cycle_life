{
 "cells": [
  {
   "cell_type": "code",
   "execution_count": 1,
   "metadata": {},
   "outputs": [],
   "source": [
    "import numpy as np\n",
    "import pandas as pd\n",
    "import matplotlib.pyplot as plt"
   ]
  },
  {
   "cell_type": "code",
   "execution_count": 2,
   "metadata": {},
   "outputs": [],
   "source": [
    "df1 = pd.read_pickle('summary_df.pkl')\n",
    "df2 = pd.read_pickle('summary_df_test.pkl')\n",
    "df3 = pd.read_pickle('summary_df_test_2.pkl')"
   ]
  },
  {
   "cell_type": "code",
   "execution_count": 3,
   "metadata": {},
   "outputs": [],
   "source": [
    "df = pd.concat([df1, df2, df3])"
   ]
  },
  {
   "cell_type": "code",
   "execution_count": 4,
   "metadata": {
    "scrolled": true
   },
   "outputs": [
    {
     "data": {
      "text/html": [
       "<div>\n",
       "<style scoped>\n",
       "    .dataframe tbody tr th:only-of-type {\n",
       "        vertical-align: middle;\n",
       "    }\n",
       "\n",
       "    .dataframe tbody tr th {\n",
       "        vertical-align: top;\n",
       "    }\n",
       "\n",
       "    .dataframe thead th {\n",
       "        text-align: right;\n",
       "    }\n",
       "</style>\n",
       "<table border=\"1\" class=\"dataframe\">\n",
       "  <thead>\n",
       "    <tr style=\"text-align: right;\">\n",
       "      <th></th>\n",
       "      <th>IR</th>\n",
       "      <th>QC</th>\n",
       "      <th>QD</th>\n",
       "      <th>Tavg</th>\n",
       "      <th>Tmin</th>\n",
       "      <th>Tmax</th>\n",
       "      <th>chargetime</th>\n",
       "      <th>cycle</th>\n",
       "      <th>cell</th>\n",
       "      <th>cycle_life</th>\n",
       "      <th>C1</th>\n",
       "      <th>C2</th>\n",
       "      <th>Q1</th>\n",
       "    </tr>\n",
       "  </thead>\n",
       "  <tbody>\n",
       "    <tr>\n",
       "      <th>0</th>\n",
       "      <td>0.000000</td>\n",
       "      <td>0.000000</td>\n",
       "      <td>0.000000</td>\n",
       "      <td>0.000000</td>\n",
       "      <td>0.000000</td>\n",
       "      <td>0.00000</td>\n",
       "      <td>0.000000</td>\n",
       "      <td>1.0</td>\n",
       "      <td>b1c0</td>\n",
       "      <td>1190</td>\n",
       "      <td>3.6</td>\n",
       "      <td>3.6</td>\n",
       "      <td>80</td>\n",
       "    </tr>\n",
       "    <tr>\n",
       "      <th>1</th>\n",
       "      <td>0.016739</td>\n",
       "      <td>1.071289</td>\n",
       "      <td>1.070312</td>\n",
       "      <td>31.875000</td>\n",
       "      <td>29.562500</td>\n",
       "      <td>35.65625</td>\n",
       "      <td>13.343750</td>\n",
       "      <td>2.0</td>\n",
       "      <td>b1c0</td>\n",
       "      <td>1190</td>\n",
       "      <td>3.6</td>\n",
       "      <td>3.6</td>\n",
       "      <td>80</td>\n",
       "    </tr>\n",
       "    <tr>\n",
       "      <th>2</th>\n",
       "      <td>0.016724</td>\n",
       "      <td>1.071289</td>\n",
       "      <td>1.072266</td>\n",
       "      <td>31.937500</td>\n",
       "      <td>29.609375</td>\n",
       "      <td>35.68750</td>\n",
       "      <td>13.421875</td>\n",
       "      <td>3.0</td>\n",
       "      <td>b1c0</td>\n",
       "      <td>1190</td>\n",
       "      <td>3.6</td>\n",
       "      <td>3.6</td>\n",
       "      <td>80</td>\n",
       "    </tr>\n",
       "    <tr>\n",
       "      <th>3</th>\n",
       "      <td>0.016678</td>\n",
       "      <td>1.072266</td>\n",
       "      <td>1.072266</td>\n",
       "      <td>31.937500</td>\n",
       "      <td>29.750000</td>\n",
       "      <td>35.68750</td>\n",
       "      <td>13.421875</td>\n",
       "      <td>4.0</td>\n",
       "      <td>b1c0</td>\n",
       "      <td>1190</td>\n",
       "      <td>3.6</td>\n",
       "      <td>3.6</td>\n",
       "      <td>80</td>\n",
       "    </tr>\n",
       "    <tr>\n",
       "      <th>4</th>\n",
       "      <td>0.016663</td>\n",
       "      <td>1.073242</td>\n",
       "      <td>1.073242</td>\n",
       "      <td>31.953125</td>\n",
       "      <td>29.640625</td>\n",
       "      <td>35.71875</td>\n",
       "      <td>13.343750</td>\n",
       "      <td>5.0</td>\n",
       "      <td>b1c0</td>\n",
       "      <td>1190</td>\n",
       "      <td>3.6</td>\n",
       "      <td>3.6</td>\n",
       "      <td>80</td>\n",
       "    </tr>\n",
       "  </tbody>\n",
       "</table>\n",
       "</div>"
      ],
      "text/plain": [
       "         IR        QC        QD       Tavg       Tmin      Tmax  chargetime  \\\n",
       "0  0.000000  0.000000  0.000000   0.000000   0.000000   0.00000    0.000000   \n",
       "1  0.016739  1.071289  1.070312  31.875000  29.562500  35.65625   13.343750   \n",
       "2  0.016724  1.071289  1.072266  31.937500  29.609375  35.68750   13.421875   \n",
       "3  0.016678  1.072266  1.072266  31.937500  29.750000  35.68750   13.421875   \n",
       "4  0.016663  1.073242  1.073242  31.953125  29.640625  35.71875   13.343750   \n",
       "\n",
       "   cycle  cell  cycle_life   C1   C2  Q1  \n",
       "0    1.0  b1c0        1190  3.6  3.6  80  \n",
       "1    2.0  b1c0        1190  3.6  3.6  80  \n",
       "2    3.0  b1c0        1190  3.6  3.6  80  \n",
       "3    4.0  b1c0        1190  3.6  3.6  80  \n",
       "4    5.0  b1c0        1190  3.6  3.6  80  "
      ]
     },
     "execution_count": 4,
     "metadata": {},
     "output_type": "execute_result"
    }
   ],
   "source": [
    "df.head()"
   ]
  },
  {
   "cell_type": "code",
   "execution_count": 5,
   "metadata": {},
   "outputs": [],
   "source": [
    "df['cycle'] = df['cycle'].astype('int16')"
   ]
  },
  {
   "cell_type": "code",
   "execution_count": 6,
   "metadata": {},
   "outputs": [
    {
     "data": {
      "text/plain": [
       "(110312, 13)"
      ]
     },
     "execution_count": 6,
     "metadata": {},
     "output_type": "execute_result"
    }
   ],
   "source": [
    "df.shape"
   ]
  },
  {
   "cell_type": "code",
   "execution_count": 7,
   "metadata": {},
   "outputs": [],
   "source": [
    "df = df[df['IR'] != 0]"
   ]
  },
  {
   "cell_type": "code",
   "execution_count": 8,
   "metadata": {
    "scrolled": true
   },
   "outputs": [
    {
     "data": {
      "text/plain": [
       "(110244, 13)"
      ]
     },
     "execution_count": 8,
     "metadata": {},
     "output_type": "execute_result"
    }
   ],
   "source": [
    "df.shape"
   ]
  },
  {
   "cell_type": "code",
   "execution_count": 9,
   "metadata": {},
   "outputs": [],
   "source": [
    "df = df[df['cycle'] <= 10]"
   ]
  },
  {
   "cell_type": "code",
   "execution_count": 10,
   "metadata": {
    "scrolled": false
   },
   "outputs": [],
   "source": [
    "df['class'] = np.where(df['cycle_life'] >= 700, 1, 0)"
   ]
  },
  {
   "cell_type": "code",
   "execution_count": 11,
   "metadata": {},
   "outputs": [
    {
     "data": {
      "text/html": [
       "<div>\n",
       "<style scoped>\n",
       "    .dataframe tbody tr th:only-of-type {\n",
       "        vertical-align: middle;\n",
       "    }\n",
       "\n",
       "    .dataframe tbody tr th {\n",
       "        vertical-align: top;\n",
       "    }\n",
       "\n",
       "    .dataframe thead th {\n",
       "        text-align: right;\n",
       "    }\n",
       "</style>\n",
       "<table border=\"1\" class=\"dataframe\">\n",
       "  <thead>\n",
       "    <tr style=\"text-align: right;\">\n",
       "      <th></th>\n",
       "      <th>IR</th>\n",
       "      <th>QC</th>\n",
       "      <th>QD</th>\n",
       "      <th>Tavg</th>\n",
       "      <th>Tmin</th>\n",
       "      <th>Tmax</th>\n",
       "      <th>chargetime</th>\n",
       "      <th>cycle</th>\n",
       "      <th>cell</th>\n",
       "      <th>cycle_life</th>\n",
       "      <th>C1</th>\n",
       "      <th>C2</th>\n",
       "      <th>Q1</th>\n",
       "      <th>class</th>\n",
       "    </tr>\n",
       "  </thead>\n",
       "  <tbody>\n",
       "    <tr>\n",
       "      <th>1</th>\n",
       "      <td>0.016739</td>\n",
       "      <td>1.071289</td>\n",
       "      <td>1.070312</td>\n",
       "      <td>31.875000</td>\n",
       "      <td>29.562500</td>\n",
       "      <td>35.65625</td>\n",
       "      <td>13.343750</td>\n",
       "      <td>2</td>\n",
       "      <td>b1c0</td>\n",
       "      <td>1190</td>\n",
       "      <td>3.6</td>\n",
       "      <td>3.6</td>\n",
       "      <td>80</td>\n",
       "      <td>1</td>\n",
       "    </tr>\n",
       "    <tr>\n",
       "      <th>2</th>\n",
       "      <td>0.016724</td>\n",
       "      <td>1.071289</td>\n",
       "      <td>1.072266</td>\n",
       "      <td>31.937500</td>\n",
       "      <td>29.609375</td>\n",
       "      <td>35.68750</td>\n",
       "      <td>13.421875</td>\n",
       "      <td>3</td>\n",
       "      <td>b1c0</td>\n",
       "      <td>1190</td>\n",
       "      <td>3.6</td>\n",
       "      <td>3.6</td>\n",
       "      <td>80</td>\n",
       "      <td>1</td>\n",
       "    </tr>\n",
       "    <tr>\n",
       "      <th>3</th>\n",
       "      <td>0.016678</td>\n",
       "      <td>1.072266</td>\n",
       "      <td>1.072266</td>\n",
       "      <td>31.937500</td>\n",
       "      <td>29.750000</td>\n",
       "      <td>35.68750</td>\n",
       "      <td>13.421875</td>\n",
       "      <td>4</td>\n",
       "      <td>b1c0</td>\n",
       "      <td>1190</td>\n",
       "      <td>3.6</td>\n",
       "      <td>3.6</td>\n",
       "      <td>80</td>\n",
       "      <td>1</td>\n",
       "    </tr>\n",
       "    <tr>\n",
       "      <th>4</th>\n",
       "      <td>0.016663</td>\n",
       "      <td>1.073242</td>\n",
       "      <td>1.073242</td>\n",
       "      <td>31.953125</td>\n",
       "      <td>29.640625</td>\n",
       "      <td>35.71875</td>\n",
       "      <td>13.343750</td>\n",
       "      <td>5</td>\n",
       "      <td>b1c0</td>\n",
       "      <td>1190</td>\n",
       "      <td>3.6</td>\n",
       "      <td>3.6</td>\n",
       "      <td>80</td>\n",
       "      <td>1</td>\n",
       "    </tr>\n",
       "    <tr>\n",
       "      <th>5</th>\n",
       "      <td>0.016617</td>\n",
       "      <td>1.073242</td>\n",
       "      <td>1.073242</td>\n",
       "      <td>31.968750</td>\n",
       "      <td>29.750000</td>\n",
       "      <td>35.71875</td>\n",
       "      <td>13.343750</td>\n",
       "      <td>6</td>\n",
       "      <td>b1c0</td>\n",
       "      <td>1190</td>\n",
       "      <td>3.6</td>\n",
       "      <td>3.6</td>\n",
       "      <td>80</td>\n",
       "      <td>1</td>\n",
       "    </tr>\n",
       "  </tbody>\n",
       "</table>\n",
       "</div>"
      ],
      "text/plain": [
       "         IR        QC        QD       Tavg       Tmin      Tmax  chargetime  \\\n",
       "1  0.016739  1.071289  1.070312  31.875000  29.562500  35.65625   13.343750   \n",
       "2  0.016724  1.071289  1.072266  31.937500  29.609375  35.68750   13.421875   \n",
       "3  0.016678  1.072266  1.072266  31.937500  29.750000  35.68750   13.421875   \n",
       "4  0.016663  1.073242  1.073242  31.953125  29.640625  35.71875   13.343750   \n",
       "5  0.016617  1.073242  1.073242  31.968750  29.750000  35.71875   13.343750   \n",
       "\n",
       "   cycle  cell  cycle_life   C1   C2  Q1  class  \n",
       "1      2  b1c0        1190  3.6  3.6  80      1  \n",
       "2      3  b1c0        1190  3.6  3.6  80      1  \n",
       "3      4  b1c0        1190  3.6  3.6  80      1  \n",
       "4      5  b1c0        1190  3.6  3.6  80      1  \n",
       "5      6  b1c0        1190  3.6  3.6  80      1  "
      ]
     },
     "execution_count": 11,
     "metadata": {},
     "output_type": "execute_result"
    }
   ],
   "source": [
    "df.head()"
   ]
  },
  {
   "cell_type": "code",
   "execution_count": 12,
   "metadata": {},
   "outputs": [
    {
     "name": "stdout",
     "output_type": "stream",
     "text": [
      "<class 'pandas.core.frame.DataFrame'>\n",
      "Int64Index: 1334 entries, 1 to 9\n",
      "Data columns (total 14 columns):\n",
      " #   Column      Non-Null Count  Dtype  \n",
      "---  ------      --------------  -----  \n",
      " 0   IR          1334 non-null   float16\n",
      " 1   QC          1334 non-null   float16\n",
      " 2   QD          1334 non-null   float16\n",
      " 3   Tavg        1334 non-null   float16\n",
      " 4   Tmin        1334 non-null   float16\n",
      " 5   Tmax        1334 non-null   float16\n",
      " 6   chargetime  1334 non-null   float16\n",
      " 7   cycle       1334 non-null   int16  \n",
      " 8   cell        1334 non-null   object \n",
      " 9   cycle_life  1334 non-null   int16  \n",
      " 10  C1          1334 non-null   float64\n",
      " 11  C2          1334 non-null   float64\n",
      " 12  Q1          1334 non-null   int64  \n",
      " 13  class       1334 non-null   int64  \n",
      "dtypes: float16(7), float64(2), int16(2), int64(2), object(1)\n",
      "memory usage: 86.0+ KB\n"
     ]
    }
   ],
   "source": [
    "df.info()"
   ]
  },
  {
   "cell_type": "code",
   "execution_count": 13,
   "metadata": {},
   "outputs": [
    {
     "data": {
      "text/html": [
       "<div>\n",
       "<style scoped>\n",
       "    .dataframe tbody tr th:only-of-type {\n",
       "        vertical-align: middle;\n",
       "    }\n",
       "\n",
       "    .dataframe tbody tr th {\n",
       "        vertical-align: top;\n",
       "    }\n",
       "\n",
       "    .dataframe thead th {\n",
       "        text-align: right;\n",
       "    }\n",
       "</style>\n",
       "<table border=\"1\" class=\"dataframe\">\n",
       "  <thead>\n",
       "    <tr style=\"text-align: right;\">\n",
       "      <th></th>\n",
       "      <th>IR</th>\n",
       "      <th>QC</th>\n",
       "      <th>QD</th>\n",
       "      <th>Tavg</th>\n",
       "      <th>Tmin</th>\n",
       "      <th>Tmax</th>\n",
       "      <th>chargetime</th>\n",
       "      <th>cycle</th>\n",
       "      <th>cycle_life</th>\n",
       "      <th>C1</th>\n",
       "      <th>C2</th>\n",
       "      <th>Q1</th>\n",
       "      <th>class</th>\n",
       "    </tr>\n",
       "  </thead>\n",
       "  <tbody>\n",
       "    <tr>\n",
       "      <th>count</th>\n",
       "      <td>1334.000000</td>\n",
       "      <td>1334.000000</td>\n",
       "      <td>1334.000000</td>\n",
       "      <td>1334.000000</td>\n",
       "      <td>1334.000000</td>\n",
       "      <td>1334.000000</td>\n",
       "      <td>1334.000000</td>\n",
       "      <td>1334.000000</td>\n",
       "      <td>1334.000000</td>\n",
       "      <td>1334.000000</td>\n",
       "      <td>1334.000000</td>\n",
       "      <td>1334.000000</td>\n",
       "      <td>1334.00000</td>\n",
       "    </tr>\n",
       "    <tr>\n",
       "      <th>mean</th>\n",
       "      <td>0.016510</td>\n",
       "      <td>1.070312</td>\n",
       "      <td>1.070312</td>\n",
       "      <td>32.968750</td>\n",
       "      <td>30.484375</td>\n",
       "      <td>36.093750</td>\n",
       "      <td>10.531250</td>\n",
       "      <td>5.655172</td>\n",
       "      <td>789.672414</td>\n",
       "      <td>5.012819</td>\n",
       "      <td>4.213043</td>\n",
       "      <td>46.259370</td>\n",
       "      <td>0.58021</td>\n",
       "    </tr>\n",
       "    <tr>\n",
       "      <th>std</th>\n",
       "      <td>0.001064</td>\n",
       "      <td>0.016037</td>\n",
       "      <td>0.015526</td>\n",
       "      <td>1.228516</td>\n",
       "      <td>0.830566</td>\n",
       "      <td>1.722656</td>\n",
       "      <td>0.858398</td>\n",
       "      <td>2.796067</td>\n",
       "      <td>324.788137</td>\n",
       "      <td>1.548684</td>\n",
       "      <td>0.797922</td>\n",
       "      <td>23.295361</td>\n",
       "      <td>0.49371</td>\n",
       "    </tr>\n",
       "    <tr>\n",
       "      <th>min</th>\n",
       "      <td>0.013168</td>\n",
       "      <td>0.966797</td>\n",
       "      <td>0.966309</td>\n",
       "      <td>29.093750</td>\n",
       "      <td>26.734375</td>\n",
       "      <td>30.500000</td>\n",
       "      <td>8.898438</td>\n",
       "      <td>1.000000</td>\n",
       "      <td>148.000000</td>\n",
       "      <td>0.000000</td>\n",
       "      <td>3.000000</td>\n",
       "      <td>2.000000</td>\n",
       "      <td>0.00000</td>\n",
       "    </tr>\n",
       "    <tr>\n",
       "      <th>25%</th>\n",
       "      <td>0.015640</td>\n",
       "      <td>1.066406</td>\n",
       "      <td>1.067383</td>\n",
       "      <td>32.187500</td>\n",
       "      <td>29.968750</td>\n",
       "      <td>35.125000</td>\n",
       "      <td>10.046875</td>\n",
       "      <td>3.000000</td>\n",
       "      <td>499.000000</td>\n",
       "      <td>4.800000</td>\n",
       "      <td>3.600000</td>\n",
       "      <td>30.000000</td>\n",
       "      <td>0.00000</td>\n",
       "    </tr>\n",
       "    <tr>\n",
       "      <th>50%</th>\n",
       "      <td>0.016632</td>\n",
       "      <td>1.072266</td>\n",
       "      <td>1.072266</td>\n",
       "      <td>32.937500</td>\n",
       "      <td>30.406250</td>\n",
       "      <td>36.375000</td>\n",
       "      <td>10.109375</td>\n",
       "      <td>6.000000</td>\n",
       "      <td>786.000000</td>\n",
       "      <td>5.300000</td>\n",
       "      <td>4.000000</td>\n",
       "      <td>47.000000</td>\n",
       "      <td>1.00000</td>\n",
       "    </tr>\n",
       "    <tr>\n",
       "      <th>75%</th>\n",
       "      <td>0.017258</td>\n",
       "      <td>1.079102</td>\n",
       "      <td>1.079102</td>\n",
       "      <td>33.500000</td>\n",
       "      <td>30.859375</td>\n",
       "      <td>37.218750</td>\n",
       "      <td>10.843750</td>\n",
       "      <td>8.000000</td>\n",
       "      <td>989.000000</td>\n",
       "      <td>5.600000</td>\n",
       "      <td>4.800000</td>\n",
       "      <td>67.000000</td>\n",
       "      <td>1.00000</td>\n",
       "    </tr>\n",
       "    <tr>\n",
       "      <th>max</th>\n",
       "      <td>0.020370</td>\n",
       "      <td>1.170898</td>\n",
       "      <td>1.097656</td>\n",
       "      <td>36.531250</td>\n",
       "      <td>32.406250</td>\n",
       "      <td>40.468750</td>\n",
       "      <td>13.429688</td>\n",
       "      <td>10.000000</td>\n",
       "      <td>1935.000000</td>\n",
       "      <td>8.000000</td>\n",
       "      <td>6.000000</td>\n",
       "      <td>80.000000</td>\n",
       "      <td>1.00000</td>\n",
       "    </tr>\n",
       "  </tbody>\n",
       "</table>\n",
       "</div>"
      ],
      "text/plain": [
       "                IR           QC           QD         Tavg         Tmin  \\\n",
       "count  1334.000000  1334.000000  1334.000000  1334.000000  1334.000000   \n",
       "mean      0.016510     1.070312     1.070312    32.968750    30.484375   \n",
       "std       0.001064     0.016037     0.015526     1.228516     0.830566   \n",
       "min       0.013168     0.966797     0.966309    29.093750    26.734375   \n",
       "25%       0.015640     1.066406     1.067383    32.187500    29.968750   \n",
       "50%       0.016632     1.072266     1.072266    32.937500    30.406250   \n",
       "75%       0.017258     1.079102     1.079102    33.500000    30.859375   \n",
       "max       0.020370     1.170898     1.097656    36.531250    32.406250   \n",
       "\n",
       "              Tmax   chargetime        cycle   cycle_life           C1  \\\n",
       "count  1334.000000  1334.000000  1334.000000  1334.000000  1334.000000   \n",
       "mean     36.093750    10.531250     5.655172   789.672414     5.012819   \n",
       "std       1.722656     0.858398     2.796067   324.788137     1.548684   \n",
       "min      30.500000     8.898438     1.000000   148.000000     0.000000   \n",
       "25%      35.125000    10.046875     3.000000   499.000000     4.800000   \n",
       "50%      36.375000    10.109375     6.000000   786.000000     5.300000   \n",
       "75%      37.218750    10.843750     8.000000   989.000000     5.600000   \n",
       "max      40.468750    13.429688    10.000000  1935.000000     8.000000   \n",
       "\n",
       "                C2           Q1       class  \n",
       "count  1334.000000  1334.000000  1334.00000  \n",
       "mean      4.213043    46.259370     0.58021  \n",
       "std       0.797922    23.295361     0.49371  \n",
       "min       3.000000     2.000000     0.00000  \n",
       "25%       3.600000    30.000000     0.00000  \n",
       "50%       4.000000    47.000000     1.00000  \n",
       "75%       4.800000    67.000000     1.00000  \n",
       "max       6.000000    80.000000     1.00000  "
      ]
     },
     "execution_count": 13,
     "metadata": {},
     "output_type": "execute_result"
    }
   ],
   "source": [
    "df.describe()"
   ]
  },
  {
   "cell_type": "code",
   "execution_count": 14,
   "metadata": {
    "scrolled": false
   },
   "outputs": [
    {
     "data": {
      "text/plain": [
       "1    774\n",
       "0    560\n",
       "Name: class, dtype: int64"
      ]
     },
     "execution_count": 14,
     "metadata": {},
     "output_type": "execute_result"
    }
   ],
   "source": [
    "df['class'].value_counts()"
   ]
  },
  {
   "cell_type": "code",
   "execution_count": 15,
   "metadata": {
    "scrolled": false
   },
   "outputs": [
    {
     "data": {
      "text/plain": [
       "499     20\n",
       "828     20\n",
       "487     20\n",
       "858     20\n",
       "429     20\n",
       "        ..\n",
       "906      9\n",
       "691      9\n",
       "1051     9\n",
       "1054     9\n",
       "842      9\n",
       "Name: cycle_life, Length: 127, dtype: int64"
      ]
     },
     "execution_count": 15,
     "metadata": {},
     "output_type": "execute_result"
    }
   ],
   "source": [
    "df['cycle_life'].value_counts()"
   ]
  },
  {
   "cell_type": "code",
   "execution_count": 16,
   "metadata": {
    "scrolled": false
   },
   "outputs": [
    {
     "data": {
      "text/html": [
       "<div>\n",
       "<style scoped>\n",
       "    .dataframe tbody tr th:only-of-type {\n",
       "        vertical-align: middle;\n",
       "    }\n",
       "\n",
       "    .dataframe tbody tr th {\n",
       "        vertical-align: top;\n",
       "    }\n",
       "\n",
       "    .dataframe thead th {\n",
       "        text-align: right;\n",
       "    }\n",
       "</style>\n",
       "<table border=\"1\" class=\"dataframe\">\n",
       "  <thead>\n",
       "    <tr style=\"text-align: right;\">\n",
       "      <th></th>\n",
       "      <th>IR</th>\n",
       "      <th>QC</th>\n",
       "      <th>QD</th>\n",
       "      <th>Tavg</th>\n",
       "      <th>Tmin</th>\n",
       "      <th>Tmax</th>\n",
       "      <th>chargetime</th>\n",
       "      <th>cycle</th>\n",
       "      <th>cell</th>\n",
       "      <th>cycle_life</th>\n",
       "      <th>C1</th>\n",
       "      <th>C2</th>\n",
       "      <th>Q1</th>\n",
       "      <th>class</th>\n",
       "    </tr>\n",
       "  </thead>\n",
       "  <tbody>\n",
       "    <tr>\n",
       "      <th>1</th>\n",
       "      <td>0.016739</td>\n",
       "      <td>1.071289</td>\n",
       "      <td>1.070312</td>\n",
       "      <td>31.875000</td>\n",
       "      <td>29.562500</td>\n",
       "      <td>35.65625</td>\n",
       "      <td>13.343750</td>\n",
       "      <td>2</td>\n",
       "      <td>b1c0</td>\n",
       "      <td>1190</td>\n",
       "      <td>3.6</td>\n",
       "      <td>3.6</td>\n",
       "      <td>80</td>\n",
       "      <td>1</td>\n",
       "    </tr>\n",
       "    <tr>\n",
       "      <th>2</th>\n",
       "      <td>0.016724</td>\n",
       "      <td>1.071289</td>\n",
       "      <td>1.072266</td>\n",
       "      <td>31.937500</td>\n",
       "      <td>29.609375</td>\n",
       "      <td>35.68750</td>\n",
       "      <td>13.421875</td>\n",
       "      <td>3</td>\n",
       "      <td>b1c0</td>\n",
       "      <td>1190</td>\n",
       "      <td>3.6</td>\n",
       "      <td>3.6</td>\n",
       "      <td>80</td>\n",
       "      <td>1</td>\n",
       "    </tr>\n",
       "    <tr>\n",
       "      <th>3</th>\n",
       "      <td>0.016678</td>\n",
       "      <td>1.072266</td>\n",
       "      <td>1.072266</td>\n",
       "      <td>31.937500</td>\n",
       "      <td>29.750000</td>\n",
       "      <td>35.68750</td>\n",
       "      <td>13.421875</td>\n",
       "      <td>4</td>\n",
       "      <td>b1c0</td>\n",
       "      <td>1190</td>\n",
       "      <td>3.6</td>\n",
       "      <td>3.6</td>\n",
       "      <td>80</td>\n",
       "      <td>1</td>\n",
       "    </tr>\n",
       "    <tr>\n",
       "      <th>4</th>\n",
       "      <td>0.016663</td>\n",
       "      <td>1.073242</td>\n",
       "      <td>1.073242</td>\n",
       "      <td>31.953125</td>\n",
       "      <td>29.640625</td>\n",
       "      <td>35.71875</td>\n",
       "      <td>13.343750</td>\n",
       "      <td>5</td>\n",
       "      <td>b1c0</td>\n",
       "      <td>1190</td>\n",
       "      <td>3.6</td>\n",
       "      <td>3.6</td>\n",
       "      <td>80</td>\n",
       "      <td>1</td>\n",
       "    </tr>\n",
       "    <tr>\n",
       "      <th>5</th>\n",
       "      <td>0.016617</td>\n",
       "      <td>1.073242</td>\n",
       "      <td>1.073242</td>\n",
       "      <td>31.968750</td>\n",
       "      <td>29.750000</td>\n",
       "      <td>35.71875</td>\n",
       "      <td>13.343750</td>\n",
       "      <td>6</td>\n",
       "      <td>b1c0</td>\n",
       "      <td>1190</td>\n",
       "      <td>3.6</td>\n",
       "      <td>3.6</td>\n",
       "      <td>80</td>\n",
       "      <td>1</td>\n",
       "    </tr>\n",
       "  </tbody>\n",
       "</table>\n",
       "</div>"
      ],
      "text/plain": [
       "         IR        QC        QD       Tavg       Tmin      Tmax  chargetime  \\\n",
       "1  0.016739  1.071289  1.070312  31.875000  29.562500  35.65625   13.343750   \n",
       "2  0.016724  1.071289  1.072266  31.937500  29.609375  35.68750   13.421875   \n",
       "3  0.016678  1.072266  1.072266  31.937500  29.750000  35.68750   13.421875   \n",
       "4  0.016663  1.073242  1.073242  31.953125  29.640625  35.71875   13.343750   \n",
       "5  0.016617  1.073242  1.073242  31.968750  29.750000  35.71875   13.343750   \n",
       "\n",
       "   cycle  cell  cycle_life   C1   C2  Q1  class  \n",
       "1      2  b1c0        1190  3.6  3.6  80      1  \n",
       "2      3  b1c0        1190  3.6  3.6  80      1  \n",
       "3      4  b1c0        1190  3.6  3.6  80      1  \n",
       "4      5  b1c0        1190  3.6  3.6  80      1  \n",
       "5      6  b1c0        1190  3.6  3.6  80      1  "
      ]
     },
     "execution_count": 16,
     "metadata": {},
     "output_type": "execute_result"
    }
   ],
   "source": [
    "df.head()"
   ]
  },
  {
   "cell_type": "code",
   "execution_count": 17,
   "metadata": {},
   "outputs": [
    {
     "data": {
      "text/plain": [
       "1      92\n",
       "2     138\n",
       "3     138\n",
       "4     138\n",
       "5     138\n",
       "6     138\n",
       "7     138\n",
       "8     138\n",
       "9     138\n",
       "10    138\n",
       "Name: cycle, dtype: int64"
      ]
     },
     "execution_count": 17,
     "metadata": {},
     "output_type": "execute_result"
    }
   ],
   "source": [
    "df['cycle'].value_counts().sort_index()"
   ]
  },
  {
   "cell_type": "code",
   "execution_count": 18,
   "metadata": {},
   "outputs": [],
   "source": [
    "y = df['class']"
   ]
  },
  {
   "cell_type": "code",
   "execution_count": 19,
   "metadata": {},
   "outputs": [],
   "source": [
    "X = df.drop(['cycle_life','cell','cycle', 'class'], axis = 1)"
   ]
  },
  {
   "cell_type": "code",
   "execution_count": 20,
   "metadata": {},
   "outputs": [
    {
     "data": {
      "text/plain": [
       "1    1\n",
       "2    1\n",
       "3    1\n",
       "4    1\n",
       "5    1\n",
       "Name: class, dtype: int64"
      ]
     },
     "execution_count": 20,
     "metadata": {},
     "output_type": "execute_result"
    }
   ],
   "source": [
    "y.head()"
   ]
  },
  {
   "cell_type": "code",
   "execution_count": 21,
   "metadata": {
    "scrolled": true
   },
   "outputs": [
    {
     "data": {
      "text/html": [
       "<div>\n",
       "<style scoped>\n",
       "    .dataframe tbody tr th:only-of-type {\n",
       "        vertical-align: middle;\n",
       "    }\n",
       "\n",
       "    .dataframe tbody tr th {\n",
       "        vertical-align: top;\n",
       "    }\n",
       "\n",
       "    .dataframe thead th {\n",
       "        text-align: right;\n",
       "    }\n",
       "</style>\n",
       "<table border=\"1\" class=\"dataframe\">\n",
       "  <thead>\n",
       "    <tr style=\"text-align: right;\">\n",
       "      <th></th>\n",
       "      <th>IR</th>\n",
       "      <th>QC</th>\n",
       "      <th>QD</th>\n",
       "      <th>Tavg</th>\n",
       "      <th>Tmin</th>\n",
       "      <th>Tmax</th>\n",
       "      <th>chargetime</th>\n",
       "      <th>C1</th>\n",
       "      <th>C2</th>\n",
       "      <th>Q1</th>\n",
       "    </tr>\n",
       "  </thead>\n",
       "  <tbody>\n",
       "    <tr>\n",
       "      <th>1</th>\n",
       "      <td>0.016739</td>\n",
       "      <td>1.071289</td>\n",
       "      <td>1.070312</td>\n",
       "      <td>31.875000</td>\n",
       "      <td>29.562500</td>\n",
       "      <td>35.65625</td>\n",
       "      <td>13.343750</td>\n",
       "      <td>3.6</td>\n",
       "      <td>3.6</td>\n",
       "      <td>80</td>\n",
       "    </tr>\n",
       "    <tr>\n",
       "      <th>2</th>\n",
       "      <td>0.016724</td>\n",
       "      <td>1.071289</td>\n",
       "      <td>1.072266</td>\n",
       "      <td>31.937500</td>\n",
       "      <td>29.609375</td>\n",
       "      <td>35.68750</td>\n",
       "      <td>13.421875</td>\n",
       "      <td>3.6</td>\n",
       "      <td>3.6</td>\n",
       "      <td>80</td>\n",
       "    </tr>\n",
       "    <tr>\n",
       "      <th>3</th>\n",
       "      <td>0.016678</td>\n",
       "      <td>1.072266</td>\n",
       "      <td>1.072266</td>\n",
       "      <td>31.937500</td>\n",
       "      <td>29.750000</td>\n",
       "      <td>35.68750</td>\n",
       "      <td>13.421875</td>\n",
       "      <td>3.6</td>\n",
       "      <td>3.6</td>\n",
       "      <td>80</td>\n",
       "    </tr>\n",
       "    <tr>\n",
       "      <th>4</th>\n",
       "      <td>0.016663</td>\n",
       "      <td>1.073242</td>\n",
       "      <td>1.073242</td>\n",
       "      <td>31.953125</td>\n",
       "      <td>29.640625</td>\n",
       "      <td>35.71875</td>\n",
       "      <td>13.343750</td>\n",
       "      <td>3.6</td>\n",
       "      <td>3.6</td>\n",
       "      <td>80</td>\n",
       "    </tr>\n",
       "    <tr>\n",
       "      <th>5</th>\n",
       "      <td>0.016617</td>\n",
       "      <td>1.073242</td>\n",
       "      <td>1.073242</td>\n",
       "      <td>31.968750</td>\n",
       "      <td>29.750000</td>\n",
       "      <td>35.71875</td>\n",
       "      <td>13.343750</td>\n",
       "      <td>3.6</td>\n",
       "      <td>3.6</td>\n",
       "      <td>80</td>\n",
       "    </tr>\n",
       "  </tbody>\n",
       "</table>\n",
       "</div>"
      ],
      "text/plain": [
       "         IR        QC        QD       Tavg       Tmin      Tmax  chargetime  \\\n",
       "1  0.016739  1.071289  1.070312  31.875000  29.562500  35.65625   13.343750   \n",
       "2  0.016724  1.071289  1.072266  31.937500  29.609375  35.68750   13.421875   \n",
       "3  0.016678  1.072266  1.072266  31.937500  29.750000  35.68750   13.421875   \n",
       "4  0.016663  1.073242  1.073242  31.953125  29.640625  35.71875   13.343750   \n",
       "5  0.016617  1.073242  1.073242  31.968750  29.750000  35.71875   13.343750   \n",
       "\n",
       "    C1   C2  Q1  \n",
       "1  3.6  3.6  80  \n",
       "2  3.6  3.6  80  \n",
       "3  3.6  3.6  80  \n",
       "4  3.6  3.6  80  \n",
       "5  3.6  3.6  80  "
      ]
     },
     "execution_count": 21,
     "metadata": {},
     "output_type": "execute_result"
    }
   ],
   "source": [
    "X.head()"
   ]
  },
  {
   "cell_type": "code",
   "execution_count": 22,
   "metadata": {},
   "outputs": [
    {
     "name": "stdout",
     "output_type": "stream",
     "text": [
      "X_shape:  (1334, 10)\n",
      "y_shape:  (1334,)\n"
     ]
    }
   ],
   "source": [
    "print('X_shape: ', X.shape)\n",
    "print('y_shape: ', y.shape)"
   ]
  },
  {
   "cell_type": "markdown",
   "metadata": {},
   "source": [
    "# Train Test split"
   ]
  },
  {
   "cell_type": "code",
   "execution_count": 23,
   "metadata": {},
   "outputs": [],
   "source": [
    "from sklearn.model_selection import train_test_split\n",
    "X_train, X_test, y_train, y_test = train_test_split(X, y, test_size=0.3, random_state=0, shuffle=True)"
   ]
  },
  {
   "cell_type": "code",
   "execution_count": 24,
   "metadata": {},
   "outputs": [
    {
     "name": "stdout",
     "output_type": "stream",
     "text": [
      "X_train_shape:  (933, 10)\n",
      "y_train_shape:  (933,)\n",
      "X_test_shape:  (401, 10)\n",
      "y_test_shape:  (401,)\n"
     ]
    }
   ],
   "source": [
    "print('X_train_shape: ', X_train.shape)\n",
    "print('y_train_shape: ', y_train.shape)\n",
    "\n",
    "print('X_test_shape: ', X_test.shape)\n",
    "print('y_test_shape: ', y_test.shape)"
   ]
  },
  {
   "cell_type": "code",
   "execution_count": 25,
   "metadata": {},
   "outputs": [],
   "source": [
    "df_result = pd.DataFrame()\n",
    "df_result['y_test'] = y_test"
   ]
  },
  {
   "cell_type": "markdown",
   "metadata": {},
   "source": [
    "# Logistic Regression"
   ]
  },
  {
   "cell_type": "code",
   "execution_count": 26,
   "metadata": {},
   "outputs": [],
   "source": [
    "from sklearn.metrics import accuracy_score, confusion_matrix, classification_report"
   ]
  },
  {
   "cell_type": "code",
   "execution_count": 27,
   "metadata": {},
   "outputs": [
    {
     "name": "stderr",
     "output_type": "stream",
     "text": [
      "/home/tam/anaconda3/lib/python3.7/site-packages/sklearn/linear_model/logistic.py:432: FutureWarning: Default solver will be changed to 'lbfgs' in 0.22. Specify a solver to silence this warning.\n",
      "  FutureWarning)\n"
     ]
    }
   ],
   "source": [
    "from sklearn.linear_model import LogisticRegression\n",
    "reg_log = LogisticRegression(random_state=0)\n",
    "reg_log.fit(X_train, y_train)\n",
    "df_result['y_pred'] = reg_log.predict(X_test)"
   ]
  },
  {
   "cell_type": "code",
   "execution_count": 28,
   "metadata": {},
   "outputs": [
    {
     "data": {
      "text/html": [
       "<div>\n",
       "<style scoped>\n",
       "    .dataframe tbody tr th:only-of-type {\n",
       "        vertical-align: middle;\n",
       "    }\n",
       "\n",
       "    .dataframe tbody tr th {\n",
       "        vertical-align: top;\n",
       "    }\n",
       "\n",
       "    .dataframe thead th {\n",
       "        text-align: right;\n",
       "    }\n",
       "</style>\n",
       "<table border=\"1\" class=\"dataframe\">\n",
       "  <thead>\n",
       "    <tr style=\"text-align: right;\">\n",
       "      <th></th>\n",
       "      <th>y_test</th>\n",
       "      <th>y_pred</th>\n",
       "    </tr>\n",
       "  </thead>\n",
       "  <tbody>\n",
       "    <tr>\n",
       "      <th>2</th>\n",
       "      <td>1</td>\n",
       "      <td>1</td>\n",
       "    </tr>\n",
       "  </tbody>\n",
       "</table>\n",
       "</div>"
      ],
      "text/plain": [
       "   y_test  y_pred\n",
       "2       1       1"
      ]
     },
     "execution_count": 28,
     "metadata": {},
     "output_type": "execute_result"
    }
   ],
   "source": [
    "df_result.head(1)"
   ]
  },
  {
   "cell_type": "code",
   "execution_count": 29,
   "metadata": {},
   "outputs": [
    {
     "name": "stdout",
     "output_type": "stream",
     "text": [
      "Accuracy:  0.8902743142144638\n"
     ]
    }
   ],
   "source": [
    "print('Accuracy: ', accuracy_score(df_result['y_test'], df_result['y_pred']) )"
   ]
  },
  {
   "cell_type": "code",
   "execution_count": 30,
   "metadata": {},
   "outputs": [
    {
     "name": "stdout",
     "output_type": "stream",
     "text": [
      "True negative:  143\n",
      "false positive:  32\n",
      "false negative:  12\n",
      "True positive:  214\n"
     ]
    }
   ],
   "source": [
    "tn, fp, fn, tp = confusion_matrix(df_result['y_test'], df_result['y_pred']).ravel()\n",
    "print('True negative: ', tn)\n",
    "print('false positive: ', fp)\n",
    "print('false negative: ', fn)\n",
    "print('True positive: ', tp)\n"
   ]
  },
  {
   "cell_type": "code",
   "execution_count": 31,
   "metadata": {
    "scrolled": true
   },
   "outputs": [
    {
     "name": "stdout",
     "output_type": "stream",
     "text": [
      "Confusion matrix \n",
      " [[143  32]\n",
      " [ 12 214]]\n"
     ]
    }
   ],
   "source": [
    "print('Confusion matrix \\n', confusion_matrix(df_result['y_test'], df_result['y_pred']))"
   ]
  },
  {
   "cell_type": "markdown",
   "metadata": {},
   "source": [
    "# Random Forest Classifier"
   ]
  },
  {
   "cell_type": "code",
   "execution_count": 32,
   "metadata": {},
   "outputs": [],
   "source": [
    "from sklearn.ensemble import RandomForestClassifier"
   ]
  },
  {
   "cell_type": "code",
   "execution_count": 33,
   "metadata": {},
   "outputs": [],
   "source": [
    "Forest = RandomForestClassifier(random_state=0)"
   ]
  },
  {
   "cell_type": "code",
   "execution_count": 34,
   "metadata": {},
   "outputs": [
    {
     "name": "stderr",
     "output_type": "stream",
     "text": [
      "/home/tam/anaconda3/lib/python3.7/site-packages/sklearn/ensemble/forest.py:245: FutureWarning: The default value of n_estimators will change from 10 in version 0.20 to 100 in 0.22.\n",
      "  \"10 in version 0.20 to 100 in 0.22.\", FutureWarning)\n"
     ]
    },
    {
     "data": {
      "text/plain": [
       "RandomForestClassifier(bootstrap=True, class_weight=None, criterion='gini',\n",
       "                       max_depth=None, max_features='auto', max_leaf_nodes=None,\n",
       "                       min_impurity_decrease=0.0, min_impurity_split=None,\n",
       "                       min_samples_leaf=1, min_samples_split=2,\n",
       "                       min_weight_fraction_leaf=0.0, n_estimators=10,\n",
       "                       n_jobs=None, oob_score=False, random_state=0, verbose=0,\n",
       "                       warm_start=False)"
      ]
     },
     "execution_count": 34,
     "metadata": {},
     "output_type": "execute_result"
    }
   ],
   "source": [
    "Forest.fit(X_train, y_train)"
   ]
  },
  {
   "cell_type": "code",
   "execution_count": 35,
   "metadata": {},
   "outputs": [],
   "source": [
    "df_result['y_pred'] = Forest.predict(X_test)"
   ]
  },
  {
   "cell_type": "code",
   "execution_count": 36,
   "metadata": {},
   "outputs": [
    {
     "name": "stdout",
     "output_type": "stream",
     "text": [
      "Accuracy:  0.9975062344139651\n"
     ]
    }
   ],
   "source": [
    "print('Accuracy: ', accuracy_score(df_result['y_test'], df_result['y_pred']) )"
   ]
  },
  {
   "cell_type": "code",
   "execution_count": 37,
   "metadata": {},
   "outputs": [
    {
     "name": "stdout",
     "output_type": "stream",
     "text": [
      "True negative:  175\n",
      "false positive:  0\n",
      "false negative:  1\n",
      "True positive:  225\n"
     ]
    }
   ],
   "source": [
    "tn, fp, fn, tp = confusion_matrix(df_result['y_test'], df_result['y_pred']).ravel()\n",
    "print('True negative: ', tn)\n",
    "print('false positive: ', fp)\n",
    "print('false negative: ', fn)\n",
    "print('True positive: ', tp)"
   ]
  },
  {
   "cell_type": "code",
   "execution_count": 38,
   "metadata": {
    "scrolled": true
   },
   "outputs": [
    {
     "data": {
      "text/plain": [
       "array([[175,   0],\n",
       "       [  1, 225]])"
      ]
     },
     "execution_count": 38,
     "metadata": {},
     "output_type": "execute_result"
    }
   ],
   "source": [
    "confusion_matrix(df_result['y_test'], df_result['y_pred'])"
   ]
  },
  {
   "cell_type": "code",
   "execution_count": 40,
   "metadata": {},
   "outputs": [
    {
     "data": {
      "text/plain": [
       "0.0024937655860349127"
      ]
     },
     "execution_count": 40,
     "metadata": {},
     "output_type": "execute_result"
    }
   ],
   "source": [
    "1/401"
   ]
  },
  {
   "cell_type": "code",
   "execution_count": null,
   "metadata": {},
   "outputs": [],
   "source": []
  }
 ],
 "metadata": {
  "kernelspec": {
   "display_name": "Python 3",
   "language": "python",
   "name": "python3"
  },
  "language_info": {
   "codemirror_mode": {
    "name": "ipython",
    "version": 3
   },
   "file_extension": ".py",
   "mimetype": "text/x-python",
   "name": "python",
   "nbconvert_exporter": "python",
   "pygments_lexer": "ipython3",
   "version": "3.7.4"
  }
 },
 "nbformat": 4,
 "nbformat_minor": 2
}

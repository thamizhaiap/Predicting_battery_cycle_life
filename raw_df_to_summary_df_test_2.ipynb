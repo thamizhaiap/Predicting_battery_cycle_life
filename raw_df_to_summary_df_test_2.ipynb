{
 "cells": [
  {
   "cell_type": "code",
   "execution_count": 25,
   "metadata": {},
   "outputs": [],
   "source": [
    "import h5py\n",
    "import scipy.io\n",
    "import matplotlib.pyplot as plt\n",
    "import numpy as np\n",
    "import pickle\n",
    "import pandas as pd"
   ]
  },
  {
   "cell_type": "code",
   "execution_count": 26,
   "metadata": {},
   "outputs": [],
   "source": [
    "matFilename = '../2018-04-12_batchdata_updated_struct_errorcorrect.mat'\n",
    "f = h5py.File(matFilename)"
   ]
  },
  {
   "cell_type": "code",
   "execution_count": 27,
   "metadata": {},
   "outputs": [
    {
     "data": {
      "text/plain": [
       "['#refs#', '#subsystem#', 'batch', 'batch_date']"
      ]
     },
     "execution_count": 27,
     "metadata": {},
     "output_type": "execute_result"
    }
   ],
   "source": [
    "list(f.keys())"
   ]
  },
  {
   "cell_type": "code",
   "execution_count": 28,
   "metadata": {},
   "outputs": [],
   "source": [
    "batch = f['batch']"
   ]
  },
  {
   "cell_type": "code",
   "execution_count": 29,
   "metadata": {},
   "outputs": [
    {
     "data": {
      "text/plain": [
       "['Vdlin',\n",
       " 'barcode',\n",
       " 'channel_id',\n",
       " 'cycle_life',\n",
       " 'cycles',\n",
       " 'policy',\n",
       " 'policy_readable',\n",
       " 'summary']"
      ]
     },
     "execution_count": 29,
     "metadata": {},
     "output_type": "execute_result"
    }
   ],
   "source": [
    "list(batch.keys())"
   ]
  },
  {
   "cell_type": "code",
   "execution_count": 30,
   "metadata": {},
   "outputs": [
    {
     "name": "stderr",
     "output_type": "stream",
     "text": [
      "/home/tam/anaconda3/lib/python3.7/site-packages/h5py/_hl/dataset.py:313: H5pyDeprecationWarning: dataset.value has been deprecated. Use dataset[()] instead.\n",
      "  \"Use dataset[()] instead.\", H5pyDeprecationWarning)\n"
     ]
    },
    {
     "name": "stdout",
     "output_type": "stream",
     "text": [
      "CPU times: user 1.47 s, sys: 11.2 ms, total: 1.48 s\n",
      "Wall time: 1.68 s\n"
     ]
    }
   ],
   "source": [
    "%%time\n",
    "num_cells = batch['summary'].shape[0]\n",
    "bat_dict = {}\n",
    "for i in range(num_cells):\n",
    "    cl = f[batch['cycle_life'][i,0]].value\n",
    "    ch_id = f[batch['channel_id'][i,0]].value\n",
    "    policy = f[batch['policy_readable'][i,0]].value.tobytes()[::2].decode()\n",
    "    summary_IR = np.hstack(f[batch['summary'][i,0]]['IR'][0,:].tolist())\n",
    "    summary_QCharge = np.hstack(f[batch['summary'][i,0]]['QCharge'][0,:].tolist())\n",
    "    summary_QDischarge = np.hstack(f[batch['summary'][i,0]]['QDischarge'][0,:].tolist())\n",
    "    summary_Tavg = np.hstack(f[batch['summary'][i,0]]['Tavg'][0,:].tolist())\n",
    "    summary_Tmin = np.hstack(f[batch['summary'][i,0]]['Tmin'][0,:].tolist())\n",
    "    summary_Tmax = np.hstack(f[batch['summary'][i,0]]['Tmax'][0,:].tolist())\n",
    "    summary_chargetime = np.hstack(f[batch['summary'][i,0]]['chargetime'][0,:].tolist())\n",
    "    summary_cycle = np.hstack(f[batch['summary'][i,0]]['cycle'][0,:].tolist())\n",
    "    summary = {'IR': summary_IR, 'QC': summary_QCharge, 'QD': summary_QDischarge, 'Tavg':\n",
    "                summary_Tavg, 'Tmin': summary_Tmin, 'Tmax': summary_Tmax, 'chargetime': summary_chargetime,\n",
    "                'cycle': summary_cycle}\n",
    "    cycles = f[batch['cycles'][i,0]]\n",
    "    cycle_dict = {}\n",
    "#     for j in range(cycles['I'].shape[0]):\n",
    "#         I = np.hstack((f[cycles['I'][j,0]].value))\n",
    "#         Qc = np.hstack((f[cycles['Qc'][j,0]].value))\n",
    "#         Qd = np.hstack((f[cycles['Qd'][j,0]].value))\n",
    "#         Qdlin = np.hstack((f[cycles['Qdlin'][j,0]].value))\n",
    "#         T = np.hstack((f[cycles['T'][j,0]].value))\n",
    "#         Tdlin = np.hstack((f[cycles['Tdlin'][j,0]].value))\n",
    "#         V = np.hstack((f[cycles['V'][j,0]].value))\n",
    "#         dQdV = np.hstack((f[cycles['discharge_dQdV'][j,0]].value))\n",
    "#         t = np.hstack((f[cycles['t'][j,0]].value))\n",
    "#         cd = {'I': I, 'Qc': Qc, 'Qd': Qd, 'Qdlin': Qdlin, 'T': T, 'Tdlin': Tdlin, 'V':V, 'dQdV': dQdV, 't':t}\n",
    "#         cycle_dict[str(j)] = cd\n",
    "        \n",
    "#     cell_dict = {'cycle_life': cl, 'ch_id':ch_id, 'charge_policy':policy, 'summary': summary, 'cycles': cycle_dict}\n",
    "    cell_dict = {'cycle_life': cl, 'charge_policy':policy, 'summary': summary}\n",
    "    key = 'b1c' + str(i)\n",
    "    bat_dict[key]=   cell_dict"
   ]
  },
  {
   "cell_type": "code",
   "execution_count": 31,
   "metadata": {},
   "outputs": [],
   "source": [
    "df = pd.DataFrame.from_dict(bat_dict)"
   ]
  },
  {
   "cell_type": "code",
   "execution_count": 32,
   "metadata": {
    "scrolled": false
   },
   "outputs": [
    {
     "data": {
      "text/html": [
       "<div>\n",
       "<style scoped>\n",
       "    .dataframe tbody tr th:only-of-type {\n",
       "        vertical-align: middle;\n",
       "    }\n",
       "\n",
       "    .dataframe tbody tr th {\n",
       "        vertical-align: top;\n",
       "    }\n",
       "\n",
       "    .dataframe thead th {\n",
       "        text-align: right;\n",
       "    }\n",
       "</style>\n",
       "<table border=\"1\" class=\"dataframe\">\n",
       "  <thead>\n",
       "    <tr style=\"text-align: right;\">\n",
       "      <th></th>\n",
       "      <th>cycle_life</th>\n",
       "      <th>charge_policy</th>\n",
       "      <th>summary</th>\n",
       "    </tr>\n",
       "  </thead>\n",
       "  <tbody>\n",
       "    <tr>\n",
       "      <th>b1c0</th>\n",
       "      <td>[[1009.0]]</td>\n",
       "      <td>5C(67%)-4C-newstructure</td>\n",
       "      <td>{'IR': [0.015434842, 0.015398955, 0.015365343,...</td>\n",
       "    </tr>\n",
       "    <tr>\n",
       "      <th>b1c1</th>\n",
       "      <td>[[1063.0]]</td>\n",
       "      <td>5.3C(54%)-4C-newstructure</td>\n",
       "      <td>{'IR': [0.015168298, 0.015162034, 0.015124749,...</td>\n",
       "    </tr>\n",
       "    <tr>\n",
       "      <th>b1c2</th>\n",
       "      <td>[[1267.0]]</td>\n",
       "      <td>5.6C(19%)-4.6C-newstructure</td>\n",
       "      <td>{'IR': [0.014914119, 0.01489381, 0.014826089, ...</td>\n",
       "    </tr>\n",
       "    <tr>\n",
       "      <th>b1c3</th>\n",
       "      <td>[[1115.0]]</td>\n",
       "      <td>5.6C(36%)-4.3C-newstructure</td>\n",
       "      <td>{'IR': [0.014948572, 0.015006617, 0.014963119,...</td>\n",
       "    </tr>\n",
       "    <tr>\n",
       "      <th>b1c4</th>\n",
       "      <td>[[1048.0]]</td>\n",
       "      <td>5.6C(19%)-4.6C-newstructure</td>\n",
       "      <td>{'IR': [0.015297506, 0.015246842, 0.015215214,...</td>\n",
       "    </tr>\n",
       "  </tbody>\n",
       "</table>\n",
       "</div>"
      ],
      "text/plain": [
       "      cycle_life                charge_policy  \\\n",
       "b1c0  [[1009.0]]      5C(67%)-4C-newstructure   \n",
       "b1c1  [[1063.0]]    5.3C(54%)-4C-newstructure   \n",
       "b1c2  [[1267.0]]  5.6C(19%)-4.6C-newstructure   \n",
       "b1c3  [[1115.0]]  5.6C(36%)-4.3C-newstructure   \n",
       "b1c4  [[1048.0]]  5.6C(19%)-4.6C-newstructure   \n",
       "\n",
       "                                                summary  \n",
       "b1c0  {'IR': [0.015434842, 0.015398955, 0.015365343,...  \n",
       "b1c1  {'IR': [0.015168298, 0.015162034, 0.015124749,...  \n",
       "b1c2  {'IR': [0.014914119, 0.01489381, 0.014826089, ...  \n",
       "b1c3  {'IR': [0.014948572, 0.015006617, 0.014963119,...  \n",
       "b1c4  {'IR': [0.015297506, 0.015246842, 0.015215214,...  "
      ]
     },
     "execution_count": 32,
     "metadata": {},
     "output_type": "execute_result"
    }
   ],
   "source": [
    "df = df.T\n",
    "df.head()"
   ]
  },
  {
   "cell_type": "code",
   "execution_count": 33,
   "metadata": {
    "scrolled": true
   },
   "outputs": [
    {
     "data": {
      "text/plain": [
       "b1c0         5C(67%)-4C-newstructure\n",
       "b1c1       5.3C(54%)-4C-newstructure\n",
       "b1c2     5.6C(19%)-4.6C-newstructure\n",
       "b1c3     5.6C(36%)-4.3C-newstructure\n",
       "b1c4     5.6C(19%)-4.6C-newstructure\n",
       "b1c5     5.6C(36%)-4.3C-newstructure\n",
       "b1c6     3.7C(31%)-5.9C-newstructure\n",
       "b1c7     4.8C(80%)-4.8C-newstructure\n",
       "b1c8         5C(67%)-4C-newstructure\n",
       "b1c9       5.3C(54%)-4C-newstructure\n",
       "b1c10    4.8C(80%)-4.8C-newstructure\n",
       "b1c11    5.6C(19%)-4.6C-newstructure\n",
       "b1c12    5.6C(36%)-4.3C-newstructure\n",
       "b1c13    5.6C(19%)-4.6C-newstructure\n",
       "b1c14    5.6C(36%)-4.3C-newstructure\n",
       "b1c15    5.9C(15%)-4.6C-newstructure\n",
       "b1c16    4.8C(80%)-4.8C-newstructure\n",
       "b1c17      5.3C(54%)-4C-newstructure\n",
       "b1c18    5.6C(19%)-4.6C-newstructure\n",
       "b1c19    5.6C(36%)-4.3C-newstructure\n",
       "b1c20        5C(67%)-4C-newstructure\n",
       "b1c21    3.7C(31%)-5.9C-newstructure\n",
       "b1c22    5.9C(60%)-3.1C-newstructure\n",
       "b1c23    4.8C(80%)-4.8C-newstructure\n",
       "b1c24        5C(67%)-4C-newstructure\n",
       "b1c25      5.3C(54%)-4C-newstructure\n",
       "b1c26    5.6C(19%)-4.6C-newstructure\n",
       "b1c27    5.6C(36%)-4.3C-newstructure\n",
       "b1c28    3.7C(31%)-5.9C-newstructure\n",
       "b1c29    5.9C(15%)-4.6C-newstructure\n",
       "b1c30      5.3C(54%)-4C-newstructure\n",
       "b1c31    5.9C(60%)-3.1C-newstructure\n",
       "b1c32    4.8C(80%)-4.8C-newstructure\n",
       "b1c33        5C(67%)-4C-newstructure\n",
       "b1c34      5.3C(54%)-4C-newstructure\n",
       "b1c35    5.6C(19%)-4.6C-newstructure\n",
       "b1c36    5.6C(36%)-4.3C-newstructure\n",
       "b1c37    4.8C(80%)-4.8C-newstructure\n",
       "b1c38        5C(67%)-4C-newstructure\n",
       "b1c39      5.3C(54%)-4C-newstructure\n",
       "b1c40    5.6C(19%)-4.6C-newstructure\n",
       "b1c41    5.6C(36%)-4.3C-newstructure\n",
       "b1c42    4.8C(80%)-4.8C-newstructure\n",
       "b1c43        5C(67%)-4C-newstructure\n",
       "b1c44      5.3C(54%)-4C-newstructure\n",
       "b1c45    4.8C(80%)-4.8C-newstructure\n",
       "Name: charge_policy, dtype: object"
      ]
     },
     "execution_count": 33,
     "metadata": {},
     "output_type": "execute_result"
    }
   ],
   "source": [
    "df['charge_policy']"
   ]
  },
  {
   "cell_type": "code",
   "execution_count": 34,
   "metadata": {},
   "outputs": [
    {
     "data": {
      "text/plain": [
       "4.0"
      ]
     },
     "execution_count": 34,
     "metadata": {},
     "output_type": "execute_result"
    }
   ],
   "source": [
    "float(df['charge_policy'][0].split('-')[-2].split('C')[0])"
   ]
  },
  {
   "cell_type": "markdown",
   "metadata": {},
   "source": [
    "# Summary"
   ]
  },
  {
   "cell_type": "code",
   "execution_count": 35,
   "metadata": {},
   "outputs": [
    {
     "data": {
      "text/plain": [
       "pandas.core.frame.DataFrame"
      ]
     },
     "execution_count": 35,
     "metadata": {},
     "output_type": "execute_result"
    }
   ],
   "source": [
    "type(df[['summary']])"
   ]
  },
  {
   "cell_type": "code",
   "execution_count": 36,
   "metadata": {},
   "outputs": [],
   "source": [
    "summary  = df[['summary']]"
   ]
  },
  {
   "cell_type": "code",
   "execution_count": 37,
   "metadata": {},
   "outputs": [
    {
     "data": {
      "text/html": [
       "<div>\n",
       "<style scoped>\n",
       "    .dataframe tbody tr th:only-of-type {\n",
       "        vertical-align: middle;\n",
       "    }\n",
       "\n",
       "    .dataframe tbody tr th {\n",
       "        vertical-align: top;\n",
       "    }\n",
       "\n",
       "    .dataframe thead th {\n",
       "        text-align: right;\n",
       "    }\n",
       "</style>\n",
       "<table border=\"1\" class=\"dataframe\">\n",
       "  <thead>\n",
       "    <tr style=\"text-align: right;\">\n",
       "      <th></th>\n",
       "      <th>summary</th>\n",
       "    </tr>\n",
       "  </thead>\n",
       "  <tbody>\n",
       "    <tr>\n",
       "      <th>b1c0</th>\n",
       "      <td>{'IR': [0.015434842, 0.015398955, 0.015365343,...</td>\n",
       "    </tr>\n",
       "    <tr>\n",
       "      <th>b1c1</th>\n",
       "      <td>{'IR': [0.015168298, 0.015162034, 0.015124749,...</td>\n",
       "    </tr>\n",
       "    <tr>\n",
       "      <th>b1c2</th>\n",
       "      <td>{'IR': [0.014914119, 0.01489381, 0.014826089, ...</td>\n",
       "    </tr>\n",
       "    <tr>\n",
       "      <th>b1c3</th>\n",
       "      <td>{'IR': [0.014948572, 0.015006617, 0.014963119,...</td>\n",
       "    </tr>\n",
       "    <tr>\n",
       "      <th>b1c4</th>\n",
       "      <td>{'IR': [0.015297506, 0.015246842, 0.015215214,...</td>\n",
       "    </tr>\n",
       "  </tbody>\n",
       "</table>\n",
       "</div>"
      ],
      "text/plain": [
       "                                                summary\n",
       "b1c0  {'IR': [0.015434842, 0.015398955, 0.015365343,...\n",
       "b1c1  {'IR': [0.015168298, 0.015162034, 0.015124749,...\n",
       "b1c2  {'IR': [0.014914119, 0.01489381, 0.014826089, ...\n",
       "b1c3  {'IR': [0.014948572, 0.015006617, 0.014963119,...\n",
       "b1c4  {'IR': [0.015297506, 0.015246842, 0.015215214,..."
      ]
     },
     "execution_count": 37,
     "metadata": {},
     "output_type": "execute_result"
    }
   ],
   "source": [
    "summary.head()"
   ]
  },
  {
   "cell_type": "code",
   "execution_count": 38,
   "metadata": {},
   "outputs": [
    {
     "name": "stdout",
     "output_type": "stream",
     "text": [
      "(51007, 13)\n"
     ]
    }
   ],
   "source": [
    "\n",
    "df0 = pd.DataFrame()\n",
    "count = 0\n",
    "for i, j in summary['summary'].items():\n",
    "    \n",
    "\n",
    "    df1 = pd.DataFrame.from_dict(j)\n",
    "    df1['cell'] = i\n",
    "    df1['cycle_life'] = df['cycle_life'][i][0][0]  # take the cycle_life from main df and add it in the summary\n",
    "    df1['C1'] =  float(df['charge_policy'][i].split('C')[0])\n",
    "    df1['C2'] = float(df['charge_policy'][i].split('-')[-2].split('C')[0])\n",
    "    df1['Q1'] = int(df['charge_policy'][i].split('(')[1].split(')')[0].split('%')[0])\n",
    "    \n",
    "    \n",
    "    df0 = pd.concat([df0, df1])\n",
    "       \n",
    "print(df0.shape)"
   ]
  },
  {
   "cell_type": "code",
   "execution_count": 39,
   "metadata": {
    "scrolled": true
   },
   "outputs": [
    {
     "data": {
      "text/html": [
       "<div>\n",
       "<style scoped>\n",
       "    .dataframe tbody tr th:only-of-type {\n",
       "        vertical-align: middle;\n",
       "    }\n",
       "\n",
       "    .dataframe tbody tr th {\n",
       "        vertical-align: top;\n",
       "    }\n",
       "\n",
       "    .dataframe thead th {\n",
       "        text-align: right;\n",
       "    }\n",
       "</style>\n",
       "<table border=\"1\" class=\"dataframe\">\n",
       "  <thead>\n",
       "    <tr style=\"text-align: right;\">\n",
       "      <th></th>\n",
       "      <th>IR</th>\n",
       "      <th>QC</th>\n",
       "      <th>QD</th>\n",
       "      <th>Tavg</th>\n",
       "      <th>Tmin</th>\n",
       "      <th>Tmax</th>\n",
       "      <th>chargetime</th>\n",
       "      <th>cycle</th>\n",
       "      <th>cell</th>\n",
       "      <th>cycle_life</th>\n",
       "      <th>C1</th>\n",
       "      <th>C2</th>\n",
       "      <th>Q1</th>\n",
       "    </tr>\n",
       "  </thead>\n",
       "  <tbody>\n",
       "    <tr>\n",
       "      <th>0</th>\n",
       "      <td>0.015435</td>\n",
       "      <td>1.066090</td>\n",
       "      <td>1.066573</td>\n",
       "      <td>32.149495</td>\n",
       "      <td>30.830272</td>\n",
       "      <td>33.433834</td>\n",
       "      <td>10.043408</td>\n",
       "      <td>1.0</td>\n",
       "      <td>b1c0</td>\n",
       "      <td>1009.0</td>\n",
       "      <td>5.0</td>\n",
       "      <td>4.0</td>\n",
       "      <td>67</td>\n",
       "    </tr>\n",
       "    <tr>\n",
       "      <th>1</th>\n",
       "      <td>0.015399</td>\n",
       "      <td>1.066964</td>\n",
       "      <td>1.067455</td>\n",
       "      <td>32.106606</td>\n",
       "      <td>30.779943</td>\n",
       "      <td>33.403964</td>\n",
       "      <td>10.043255</td>\n",
       "      <td>2.0</td>\n",
       "      <td>b1c0</td>\n",
       "      <td>1009.0</td>\n",
       "      <td>5.0</td>\n",
       "      <td>4.0</td>\n",
       "      <td>67</td>\n",
       "    </tr>\n",
       "    <tr>\n",
       "      <th>2</th>\n",
       "      <td>0.015365</td>\n",
       "      <td>1.067611</td>\n",
       "      <td>1.068285</td>\n",
       "      <td>32.088511</td>\n",
       "      <td>30.824746</td>\n",
       "      <td>33.325268</td>\n",
       "      <td>10.042333</td>\n",
       "      <td>3.0</td>\n",
       "      <td>b1c0</td>\n",
       "      <td>1009.0</td>\n",
       "      <td>5.0</td>\n",
       "      <td>4.0</td>\n",
       "      <td>67</td>\n",
       "    </tr>\n",
       "    <tr>\n",
       "      <th>3</th>\n",
       "      <td>0.015326</td>\n",
       "      <td>1.068164</td>\n",
       "      <td>1.068708</td>\n",
       "      <td>32.086306</td>\n",
       "      <td>30.804544</td>\n",
       "      <td>33.304202</td>\n",
       "      <td>10.052677</td>\n",
       "      <td>4.0</td>\n",
       "      <td>b1c0</td>\n",
       "      <td>1009.0</td>\n",
       "      <td>5.0</td>\n",
       "      <td>4.0</td>\n",
       "      <td>67</td>\n",
       "    </tr>\n",
       "    <tr>\n",
       "      <th>4</th>\n",
       "      <td>0.015309</td>\n",
       "      <td>1.068695</td>\n",
       "      <td>1.069094</td>\n",
       "      <td>32.041147</td>\n",
       "      <td>30.791834</td>\n",
       "      <td>33.257191</td>\n",
       "      <td>10.042382</td>\n",
       "      <td>5.0</td>\n",
       "      <td>b1c0</td>\n",
       "      <td>1009.0</td>\n",
       "      <td>5.0</td>\n",
       "      <td>4.0</td>\n",
       "      <td>67</td>\n",
       "    </tr>\n",
       "    <tr>\n",
       "      <th>5</th>\n",
       "      <td>0.015302</td>\n",
       "      <td>1.068945</td>\n",
       "      <td>1.069415</td>\n",
       "      <td>32.014179</td>\n",
       "      <td>30.691322</td>\n",
       "      <td>33.294998</td>\n",
       "      <td>10.042008</td>\n",
       "      <td>6.0</td>\n",
       "      <td>b1c0</td>\n",
       "      <td>1009.0</td>\n",
       "      <td>5.0</td>\n",
       "      <td>4.0</td>\n",
       "      <td>67</td>\n",
       "    </tr>\n",
       "    <tr>\n",
       "      <th>6</th>\n",
       "      <td>0.015286</td>\n",
       "      <td>1.069392</td>\n",
       "      <td>1.069730</td>\n",
       "      <td>32.047485</td>\n",
       "      <td>30.734112</td>\n",
       "      <td>33.306644</td>\n",
       "      <td>10.041378</td>\n",
       "      <td>7.0</td>\n",
       "      <td>b1c0</td>\n",
       "      <td>1009.0</td>\n",
       "      <td>5.0</td>\n",
       "      <td>4.0</td>\n",
       "      <td>67</td>\n",
       "    </tr>\n",
       "    <tr>\n",
       "      <th>7</th>\n",
       "      <td>0.015268</td>\n",
       "      <td>1.069520</td>\n",
       "      <td>1.069987</td>\n",
       "      <td>32.070644</td>\n",
       "      <td>30.738612</td>\n",
       "      <td>33.364697</td>\n",
       "      <td>10.042217</td>\n",
       "      <td>8.0</td>\n",
       "      <td>b1c0</td>\n",
       "      <td>1009.0</td>\n",
       "      <td>5.0</td>\n",
       "      <td>4.0</td>\n",
       "      <td>67</td>\n",
       "    </tr>\n",
       "    <tr>\n",
       "      <th>8</th>\n",
       "      <td>0.015264</td>\n",
       "      <td>1.069904</td>\n",
       "      <td>1.070237</td>\n",
       "      <td>32.081592</td>\n",
       "      <td>30.760095</td>\n",
       "      <td>33.365837</td>\n",
       "      <td>10.044023</td>\n",
       "      <td>9.0</td>\n",
       "      <td>b1c0</td>\n",
       "      <td>1009.0</td>\n",
       "      <td>5.0</td>\n",
       "      <td>4.0</td>\n",
       "      <td>67</td>\n",
       "    </tr>\n",
       "    <tr>\n",
       "      <th>9</th>\n",
       "      <td>0.015250</td>\n",
       "      <td>1.070021</td>\n",
       "      <td>1.070419</td>\n",
       "      <td>32.076224</td>\n",
       "      <td>30.711397</td>\n",
       "      <td>33.608757</td>\n",
       "      <td>10.042508</td>\n",
       "      <td>10.0</td>\n",
       "      <td>b1c0</td>\n",
       "      <td>1009.0</td>\n",
       "      <td>5.0</td>\n",
       "      <td>4.0</td>\n",
       "      <td>67</td>\n",
       "    </tr>\n",
       "  </tbody>\n",
       "</table>\n",
       "</div>"
      ],
      "text/plain": [
       "         IR        QC        QD       Tavg       Tmin       Tmax  chargetime  \\\n",
       "0  0.015435  1.066090  1.066573  32.149495  30.830272  33.433834   10.043408   \n",
       "1  0.015399  1.066964  1.067455  32.106606  30.779943  33.403964   10.043255   \n",
       "2  0.015365  1.067611  1.068285  32.088511  30.824746  33.325268   10.042333   \n",
       "3  0.015326  1.068164  1.068708  32.086306  30.804544  33.304202   10.052677   \n",
       "4  0.015309  1.068695  1.069094  32.041147  30.791834  33.257191   10.042382   \n",
       "5  0.015302  1.068945  1.069415  32.014179  30.691322  33.294998   10.042008   \n",
       "6  0.015286  1.069392  1.069730  32.047485  30.734112  33.306644   10.041378   \n",
       "7  0.015268  1.069520  1.069987  32.070644  30.738612  33.364697   10.042217   \n",
       "8  0.015264  1.069904  1.070237  32.081592  30.760095  33.365837   10.044023   \n",
       "9  0.015250  1.070021  1.070419  32.076224  30.711397  33.608757   10.042508   \n",
       "\n",
       "   cycle  cell  cycle_life   C1   C2  Q1  \n",
       "0    1.0  b1c0      1009.0  5.0  4.0  67  \n",
       "1    2.0  b1c0      1009.0  5.0  4.0  67  \n",
       "2    3.0  b1c0      1009.0  5.0  4.0  67  \n",
       "3    4.0  b1c0      1009.0  5.0  4.0  67  \n",
       "4    5.0  b1c0      1009.0  5.0  4.0  67  \n",
       "5    6.0  b1c0      1009.0  5.0  4.0  67  \n",
       "6    7.0  b1c0      1009.0  5.0  4.0  67  \n",
       "7    8.0  b1c0      1009.0  5.0  4.0  67  \n",
       "8    9.0  b1c0      1009.0  5.0  4.0  67  \n",
       "9   10.0  b1c0      1009.0  5.0  4.0  67  "
      ]
     },
     "execution_count": 39,
     "metadata": {},
     "output_type": "execute_result"
    }
   ],
   "source": [
    "df0.head(10)"
   ]
  },
  {
   "cell_type": "code",
   "execution_count": 40,
   "metadata": {},
   "outputs": [
    {
     "data": {
      "text/plain": [
       "b1c32    2237\n",
       "b1c23    2189\n",
       "Name: cell, dtype: int64"
      ]
     },
     "execution_count": 40,
     "metadata": {},
     "output_type": "execute_result"
    }
   ],
   "source": [
    "df0[pd.isnull(df0).any(axis=1)]['cell'].value_counts()"
   ]
  },
  {
   "cell_type": "code",
   "execution_count": 41,
   "metadata": {},
   "outputs": [
    {
     "data": {
      "text/plain": [
       "(46581, 13)"
      ]
     },
     "execution_count": 41,
     "metadata": {},
     "output_type": "execute_result"
    }
   ],
   "source": [
    "df0.dropna(axis=0, inplace=True)\n",
    "df0.shape"
   ]
  },
  {
   "cell_type": "code",
   "execution_count": 42,
   "metadata": {
    "scrolled": false
   },
   "outputs": [
    {
     "name": "stdout",
     "output_type": "stream",
     "text": [
      "<class 'pandas.core.frame.DataFrame'>\n",
      "Int64Index: 46581 entries, 0 to 1799\n",
      "Data columns (total 13 columns):\n",
      " #   Column      Non-Null Count  Dtype  \n",
      "---  ------      --------------  -----  \n",
      " 0   IR          46581 non-null  float64\n",
      " 1   QC          46581 non-null  float64\n",
      " 2   QD          46581 non-null  float64\n",
      " 3   Tavg        46581 non-null  float64\n",
      " 4   Tmin        46581 non-null  float64\n",
      " 5   Tmax        46581 non-null  float64\n",
      " 6   chargetime  46581 non-null  float64\n",
      " 7   cycle       46581 non-null  float64\n",
      " 8   cell        46581 non-null  object \n",
      " 9   cycle_life  46581 non-null  float64\n",
      " 10  C1          46581 non-null  float64\n",
      " 11  C2          46581 non-null  float64\n",
      " 12  Q1          46581 non-null  int64  \n",
      "dtypes: float64(11), int64(1), object(1)\n",
      "memory usage: 5.0+ MB\n"
     ]
    }
   ],
   "source": [
    "df0.info()"
   ]
  },
  {
   "cell_type": "code",
   "execution_count": 43,
   "metadata": {},
   "outputs": [],
   "source": [
    "df0['IR'] = df0['IR'].astype('float16')\n",
    "df0['QC'] = df0['QC'].astype('float16')\n",
    "df0['Qd'] = df0['QD'].astype('float16')\n",
    "df0['Tavg'] = df0['Tavg'].astype('float16')\n",
    "df0['Tmin'] = df0['Tmin'].astype('float16')\n",
    "df0['Tmax'] = df0['Tmax'].astype('float16')\n",
    "df0['chargetime'] = df0['chargetime'].astype('float16')\n",
    "df0['cycle_life'] = df0['cycle_life'].astype('int16')"
   ]
  },
  {
   "cell_type": "code",
   "execution_count": 44,
   "metadata": {},
   "outputs": [
    {
     "data": {
      "text/html": [
       "<div>\n",
       "<style scoped>\n",
       "    .dataframe tbody tr th:only-of-type {\n",
       "        vertical-align: middle;\n",
       "    }\n",
       "\n",
       "    .dataframe tbody tr th {\n",
       "        vertical-align: top;\n",
       "    }\n",
       "\n",
       "    .dataframe thead th {\n",
       "        text-align: right;\n",
       "    }\n",
       "</style>\n",
       "<table border=\"1\" class=\"dataframe\">\n",
       "  <thead>\n",
       "    <tr style=\"text-align: right;\">\n",
       "      <th></th>\n",
       "      <th>IR</th>\n",
       "      <th>QC</th>\n",
       "      <th>QD</th>\n",
       "      <th>Tavg</th>\n",
       "      <th>Tmin</th>\n",
       "      <th>Tmax</th>\n",
       "      <th>chargetime</th>\n",
       "      <th>cycle</th>\n",
       "      <th>cell</th>\n",
       "      <th>cycle_life</th>\n",
       "      <th>C1</th>\n",
       "      <th>C2</th>\n",
       "      <th>Q1</th>\n",
       "      <th>Qd</th>\n",
       "    </tr>\n",
       "  </thead>\n",
       "  <tbody>\n",
       "    <tr>\n",
       "      <th>0</th>\n",
       "      <td>0.015434</td>\n",
       "      <td>1.066406</td>\n",
       "      <td>1.066573</td>\n",
       "      <td>32.15625</td>\n",
       "      <td>30.828125</td>\n",
       "      <td>33.43750</td>\n",
       "      <td>10.046875</td>\n",
       "      <td>1.0</td>\n",
       "      <td>b1c0</td>\n",
       "      <td>1009</td>\n",
       "      <td>5.0</td>\n",
       "      <td>4.0</td>\n",
       "      <td>67</td>\n",
       "      <td>1.066406</td>\n",
       "    </tr>\n",
       "    <tr>\n",
       "      <th>1</th>\n",
       "      <td>0.015396</td>\n",
       "      <td>1.067383</td>\n",
       "      <td>1.067455</td>\n",
       "      <td>32.09375</td>\n",
       "      <td>30.781250</td>\n",
       "      <td>33.40625</td>\n",
       "      <td>10.046875</td>\n",
       "      <td>2.0</td>\n",
       "      <td>b1c0</td>\n",
       "      <td>1009</td>\n",
       "      <td>5.0</td>\n",
       "      <td>4.0</td>\n",
       "      <td>67</td>\n",
       "      <td>1.067383</td>\n",
       "    </tr>\n",
       "    <tr>\n",
       "      <th>2</th>\n",
       "      <td>0.015366</td>\n",
       "      <td>1.067383</td>\n",
       "      <td>1.068285</td>\n",
       "      <td>32.09375</td>\n",
       "      <td>30.828125</td>\n",
       "      <td>33.31250</td>\n",
       "      <td>10.039062</td>\n",
       "      <td>3.0</td>\n",
       "      <td>b1c0</td>\n",
       "      <td>1009</td>\n",
       "      <td>5.0</td>\n",
       "      <td>4.0</td>\n",
       "      <td>67</td>\n",
       "      <td>1.068359</td>\n",
       "    </tr>\n",
       "    <tr>\n",
       "      <th>3</th>\n",
       "      <td>0.015327</td>\n",
       "      <td>1.068359</td>\n",
       "      <td>1.068708</td>\n",
       "      <td>32.09375</td>\n",
       "      <td>30.796875</td>\n",
       "      <td>33.31250</td>\n",
       "      <td>10.054688</td>\n",
       "      <td>4.0</td>\n",
       "      <td>b1c0</td>\n",
       "      <td>1009</td>\n",
       "      <td>5.0</td>\n",
       "      <td>4.0</td>\n",
       "      <td>67</td>\n",
       "      <td>1.068359</td>\n",
       "    </tr>\n",
       "    <tr>\n",
       "      <th>4</th>\n",
       "      <td>0.015312</td>\n",
       "      <td>1.068359</td>\n",
       "      <td>1.069094</td>\n",
       "      <td>32.03125</td>\n",
       "      <td>30.796875</td>\n",
       "      <td>33.25000</td>\n",
       "      <td>10.039062</td>\n",
       "      <td>5.0</td>\n",
       "      <td>b1c0</td>\n",
       "      <td>1009</td>\n",
       "      <td>5.0</td>\n",
       "      <td>4.0</td>\n",
       "      <td>67</td>\n",
       "      <td>1.069336</td>\n",
       "    </tr>\n",
       "  </tbody>\n",
       "</table>\n",
       "</div>"
      ],
      "text/plain": [
       "         IR        QC        QD      Tavg       Tmin      Tmax  chargetime  \\\n",
       "0  0.015434  1.066406  1.066573  32.15625  30.828125  33.43750   10.046875   \n",
       "1  0.015396  1.067383  1.067455  32.09375  30.781250  33.40625   10.046875   \n",
       "2  0.015366  1.067383  1.068285  32.09375  30.828125  33.31250   10.039062   \n",
       "3  0.015327  1.068359  1.068708  32.09375  30.796875  33.31250   10.054688   \n",
       "4  0.015312  1.068359  1.069094  32.03125  30.796875  33.25000   10.039062   \n",
       "\n",
       "   cycle  cell  cycle_life   C1   C2  Q1        Qd  \n",
       "0    1.0  b1c0        1009  5.0  4.0  67  1.066406  \n",
       "1    2.0  b1c0        1009  5.0  4.0  67  1.067383  \n",
       "2    3.0  b1c0        1009  5.0  4.0  67  1.068359  \n",
       "3    4.0  b1c0        1009  5.0  4.0  67  1.068359  \n",
       "4    5.0  b1c0        1009  5.0  4.0  67  1.069336  "
      ]
     },
     "execution_count": 44,
     "metadata": {},
     "output_type": "execute_result"
    }
   ],
   "source": [
    "df0.head()"
   ]
  },
  {
   "cell_type": "code",
   "execution_count": 45,
   "metadata": {},
   "outputs": [
    {
     "data": {
      "text/plain": [
       "(46581, 14)"
      ]
     },
     "execution_count": 45,
     "metadata": {},
     "output_type": "execute_result"
    }
   ],
   "source": [
    "df0.shape"
   ]
  },
  {
   "cell_type": "code",
   "execution_count": 46,
   "metadata": {},
   "outputs": [],
   "source": [
    "df0.to_pickle('summary_df_test_2.pkl')"
   ]
  },
  {
   "cell_type": "code",
   "execution_count": 47,
   "metadata": {},
   "outputs": [
    {
     "data": {
      "text/html": [
       "<div>\n",
       "<style scoped>\n",
       "    .dataframe tbody tr th:only-of-type {\n",
       "        vertical-align: middle;\n",
       "    }\n",
       "\n",
       "    .dataframe tbody tr th {\n",
       "        vertical-align: top;\n",
       "    }\n",
       "\n",
       "    .dataframe thead th {\n",
       "        text-align: right;\n",
       "    }\n",
       "</style>\n",
       "<table border=\"1\" class=\"dataframe\">\n",
       "  <thead>\n",
       "    <tr style=\"text-align: right;\">\n",
       "      <th></th>\n",
       "      <th>IR</th>\n",
       "      <th>QC</th>\n",
       "      <th>QD</th>\n",
       "      <th>Tavg</th>\n",
       "      <th>Tmin</th>\n",
       "      <th>Tmax</th>\n",
       "      <th>chargetime</th>\n",
       "      <th>cycle</th>\n",
       "      <th>cell</th>\n",
       "      <th>cycle_life</th>\n",
       "      <th>C1</th>\n",
       "      <th>C2</th>\n",
       "      <th>Q1</th>\n",
       "      <th>Qd</th>\n",
       "    </tr>\n",
       "  </thead>\n",
       "  <tbody>\n",
       "    <tr>\n",
       "      <th>0</th>\n",
       "      <td>0.015434</td>\n",
       "      <td>1.066406</td>\n",
       "      <td>1.066573</td>\n",
       "      <td>32.15625</td>\n",
       "      <td>30.828125</td>\n",
       "      <td>33.43750</td>\n",
       "      <td>10.046875</td>\n",
       "      <td>1.0</td>\n",
       "      <td>b1c0</td>\n",
       "      <td>1009</td>\n",
       "      <td>5.0</td>\n",
       "      <td>4.0</td>\n",
       "      <td>67</td>\n",
       "      <td>1.066406</td>\n",
       "    </tr>\n",
       "    <tr>\n",
       "      <th>1</th>\n",
       "      <td>0.015396</td>\n",
       "      <td>1.067383</td>\n",
       "      <td>1.067455</td>\n",
       "      <td>32.09375</td>\n",
       "      <td>30.781250</td>\n",
       "      <td>33.40625</td>\n",
       "      <td>10.046875</td>\n",
       "      <td>2.0</td>\n",
       "      <td>b1c0</td>\n",
       "      <td>1009</td>\n",
       "      <td>5.0</td>\n",
       "      <td>4.0</td>\n",
       "      <td>67</td>\n",
       "      <td>1.067383</td>\n",
       "    </tr>\n",
       "    <tr>\n",
       "      <th>2</th>\n",
       "      <td>0.015366</td>\n",
       "      <td>1.067383</td>\n",
       "      <td>1.068285</td>\n",
       "      <td>32.09375</td>\n",
       "      <td>30.828125</td>\n",
       "      <td>33.31250</td>\n",
       "      <td>10.039062</td>\n",
       "      <td>3.0</td>\n",
       "      <td>b1c0</td>\n",
       "      <td>1009</td>\n",
       "      <td>5.0</td>\n",
       "      <td>4.0</td>\n",
       "      <td>67</td>\n",
       "      <td>1.068359</td>\n",
       "    </tr>\n",
       "    <tr>\n",
       "      <th>3</th>\n",
       "      <td>0.015327</td>\n",
       "      <td>1.068359</td>\n",
       "      <td>1.068708</td>\n",
       "      <td>32.09375</td>\n",
       "      <td>30.796875</td>\n",
       "      <td>33.31250</td>\n",
       "      <td>10.054688</td>\n",
       "      <td>4.0</td>\n",
       "      <td>b1c0</td>\n",
       "      <td>1009</td>\n",
       "      <td>5.0</td>\n",
       "      <td>4.0</td>\n",
       "      <td>67</td>\n",
       "      <td>1.068359</td>\n",
       "    </tr>\n",
       "    <tr>\n",
       "      <th>4</th>\n",
       "      <td>0.015312</td>\n",
       "      <td>1.068359</td>\n",
       "      <td>1.069094</td>\n",
       "      <td>32.03125</td>\n",
       "      <td>30.796875</td>\n",
       "      <td>33.25000</td>\n",
       "      <td>10.039062</td>\n",
       "      <td>5.0</td>\n",
       "      <td>b1c0</td>\n",
       "      <td>1009</td>\n",
       "      <td>5.0</td>\n",
       "      <td>4.0</td>\n",
       "      <td>67</td>\n",
       "      <td>1.069336</td>\n",
       "    </tr>\n",
       "  </tbody>\n",
       "</table>\n",
       "</div>"
      ],
      "text/plain": [
       "         IR        QC        QD      Tavg       Tmin      Tmax  chargetime  \\\n",
       "0  0.015434  1.066406  1.066573  32.15625  30.828125  33.43750   10.046875   \n",
       "1  0.015396  1.067383  1.067455  32.09375  30.781250  33.40625   10.046875   \n",
       "2  0.015366  1.067383  1.068285  32.09375  30.828125  33.31250   10.039062   \n",
       "3  0.015327  1.068359  1.068708  32.09375  30.796875  33.31250   10.054688   \n",
       "4  0.015312  1.068359  1.069094  32.03125  30.796875  33.25000   10.039062   \n",
       "\n",
       "   cycle  cell  cycle_life   C1   C2  Q1        Qd  \n",
       "0    1.0  b1c0        1009  5.0  4.0  67  1.066406  \n",
       "1    2.0  b1c0        1009  5.0  4.0  67  1.067383  \n",
       "2    3.0  b1c0        1009  5.0  4.0  67  1.068359  \n",
       "3    4.0  b1c0        1009  5.0  4.0  67  1.068359  \n",
       "4    5.0  b1c0        1009  5.0  4.0  67  1.069336  "
      ]
     },
     "execution_count": 47,
     "metadata": {},
     "output_type": "execute_result"
    }
   ],
   "source": [
    "pd.read_pickle('summary_df_test_2.pkl').head()"
   ]
  },
  {
   "cell_type": "code",
   "execution_count": null,
   "metadata": {},
   "outputs": [],
   "source": []
  }
 ],
 "metadata": {
  "kernelspec": {
   "display_name": "Python 3",
   "language": "python",
   "name": "python3"
  },
  "language_info": {
   "codemirror_mode": {
    "name": "ipython",
    "version": 3
   },
   "file_extension": ".py",
   "mimetype": "text/x-python",
   "name": "python",
   "nbconvert_exporter": "python",
   "pygments_lexer": "ipython3",
   "version": "3.7.4"
  }
 },
 "nbformat": 4,
 "nbformat_minor": 2
}

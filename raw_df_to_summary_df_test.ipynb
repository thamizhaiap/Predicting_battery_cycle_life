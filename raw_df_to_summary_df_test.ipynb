{
 "cells": [
  {
   "cell_type": "code",
   "execution_count": 1,
   "metadata": {},
   "outputs": [],
   "source": [
    "import h5py\n",
    "import scipy.io\n",
    "import matplotlib.pyplot as plt\n",
    "import numpy as np\n",
    "import pickle\n",
    "import pandas as pd"
   ]
  },
  {
   "cell_type": "code",
   "execution_count": 2,
   "metadata": {},
   "outputs": [],
   "source": [
    "matFilename = '../2017-06-30_batchdata_updated_struct_errorcorrect.mat'\n",
    "f = h5py.File(matFilename)"
   ]
  },
  {
   "cell_type": "code",
   "execution_count": 3,
   "metadata": {},
   "outputs": [
    {
     "data": {
      "text/plain": [
       "['#refs#', '#subsystem#', 'batch', 'batch_date']"
      ]
     },
     "execution_count": 3,
     "metadata": {},
     "output_type": "execute_result"
    }
   ],
   "source": [
    "list(f.keys())"
   ]
  },
  {
   "cell_type": "code",
   "execution_count": 4,
   "metadata": {},
   "outputs": [],
   "source": [
    "batch = f['batch']"
   ]
  },
  {
   "cell_type": "code",
   "execution_count": 5,
   "metadata": {},
   "outputs": [
    {
     "data": {
      "text/plain": [
       "['Vdlin',\n",
       " 'barcode',\n",
       " 'channel_id',\n",
       " 'cycle_life',\n",
       " 'cycles',\n",
       " 'policy',\n",
       " 'policy_readable',\n",
       " 'summary']"
      ]
     },
     "execution_count": 5,
     "metadata": {},
     "output_type": "execute_result"
    }
   ],
   "source": [
    "list(batch.keys())"
   ]
  },
  {
   "cell_type": "code",
   "execution_count": 6,
   "metadata": {},
   "outputs": [
    {
     "name": "stderr",
     "output_type": "stream",
     "text": [
      "/home/tam/anaconda3/lib/python3.7/site-packages/h5py/_hl/dataset.py:313: H5pyDeprecationWarning: dataset.value has been deprecated. Use dataset[()] instead.\n",
      "  \"Use dataset[()] instead.\", H5pyDeprecationWarning)\n"
     ]
    },
    {
     "name": "stdout",
     "output_type": "stream",
     "text": [
      "CPU times: user 789 ms, sys: 11.8 ms, total: 801 ms\n",
      "Wall time: 799 ms\n"
     ]
    }
   ],
   "source": [
    "%%time\n",
    "num_cells = batch['summary'].shape[0]\n",
    "bat_dict = {}\n",
    "for i in range(num_cells):\n",
    "    cl = f[batch['cycle_life'][i,0]].value\n",
    "    ch_id = f[batch['channel_id'][i,0]].value\n",
    "    policy = f[batch['policy_readable'][i,0]].value.tobytes()[::2].decode()\n",
    "    summary_IR = np.hstack(f[batch['summary'][i,0]]['IR'][0,:].tolist())\n",
    "    summary_QCharge = np.hstack(f[batch['summary'][i,0]]['QCharge'][0,:].tolist())\n",
    "    summary_QDischarge = np.hstack(f[batch['summary'][i,0]]['QDischarge'][0,:].tolist())\n",
    "    summary_Tavg = np.hstack(f[batch['summary'][i,0]]['Tavg'][0,:].tolist())\n",
    "    summary_Tmin = np.hstack(f[batch['summary'][i,0]]['Tmin'][0,:].tolist())\n",
    "    summary_Tmax = np.hstack(f[batch['summary'][i,0]]['Tmax'][0,:].tolist())\n",
    "    summary_chargetime = np.hstack(f[batch['summary'][i,0]]['chargetime'][0,:].tolist())\n",
    "    summary_cycle = np.hstack(f[batch['summary'][i,0]]['cycle'][0,:].tolist())\n",
    "    summary = {'IR': summary_IR, 'QC': summary_QCharge, 'QD': summary_QDischarge, 'Tavg':\n",
    "                summary_Tavg, 'Tmin': summary_Tmin, 'Tmax': summary_Tmax, 'chargetime': summary_chargetime,\n",
    "                'cycle': summary_cycle}\n",
    "    cycles = f[batch['cycles'][i,0]]\n",
    "    cycle_dict = {}\n",
    "#     for j in range(cycles['I'].shape[0]):\n",
    "#         I = np.hstack((f[cycles['I'][j,0]].value))\n",
    "#         Qc = np.hstack((f[cycles['Qc'][j,0]].value))\n",
    "#         Qd = np.hstack((f[cycles['Qd'][j,0]].value))\n",
    "#         Qdlin = np.hstack((f[cycles['Qdlin'][j,0]].value))\n",
    "#         T = np.hstack((f[cycles['T'][j,0]].value))\n",
    "#         Tdlin = np.hstack((f[cycles['Tdlin'][j,0]].value))\n",
    "#         V = np.hstack((f[cycles['V'][j,0]].value))\n",
    "#         dQdV = np.hstack((f[cycles['discharge_dQdV'][j,0]].value))\n",
    "#         t = np.hstack((f[cycles['t'][j,0]].value))\n",
    "#         cd = {'I': I, 'Qc': Qc, 'Qd': Qd, 'Qdlin': Qdlin, 'T': T, 'Tdlin': Tdlin, 'V':V, 'dQdV': dQdV, 't':t}\n",
    "#         cycle_dict[str(j)] = cd\n",
    "        \n",
    "#     cell_dict = {'cycle_life': cl, 'ch_id':ch_id, 'charge_policy':policy, 'summary': summary, 'cycles': cycle_dict}\n",
    "    cell_dict = {'cycle_life': cl, 'charge_policy':policy, 'summary': summary}\n",
    "    key = 'b1c' + str(i)\n",
    "    bat_dict[key]=   cell_dict"
   ]
  },
  {
   "cell_type": "code",
   "execution_count": 7,
   "metadata": {},
   "outputs": [],
   "source": [
    "df = pd.DataFrame.from_dict(bat_dict)"
   ]
  },
  {
   "cell_type": "code",
   "execution_count": 8,
   "metadata": {
    "scrolled": false
   },
   "outputs": [
    {
     "data": {
      "text/html": [
       "<div>\n",
       "<style scoped>\n",
       "    .dataframe tbody tr th:only-of-type {\n",
       "        vertical-align: middle;\n",
       "    }\n",
       "\n",
       "    .dataframe tbody tr th {\n",
       "        vertical-align: top;\n",
       "    }\n",
       "\n",
       "    .dataframe thead th {\n",
       "        text-align: right;\n",
       "    }\n",
       "</style>\n",
       "<table border=\"1\" class=\"dataframe\">\n",
       "  <thead>\n",
       "    <tr style=\"text-align: right;\">\n",
       "      <th></th>\n",
       "      <th>cycle_life</th>\n",
       "      <th>charge_policy</th>\n",
       "      <th>summary</th>\n",
       "    </tr>\n",
       "  </thead>\n",
       "  <tbody>\n",
       "    <tr>\n",
       "      <th>b1c0</th>\n",
       "      <td>[[300.0]]</td>\n",
       "      <td>1C(4%)-6C</td>\n",
       "      <td>{'IR': [0.017542101, 0.017505454, 0.017570902,...</td>\n",
       "    </tr>\n",
       "    <tr>\n",
       "      <th>b1c1</th>\n",
       "      <td>[[148.0]]</td>\n",
       "      <td>2C(10%)-6C</td>\n",
       "      <td>{'IR': [0.017852232, 0.017582141, 0.018061424,...</td>\n",
       "    </tr>\n",
       "    <tr>\n",
       "      <th>b1c2</th>\n",
       "      <td>[[438.0]]</td>\n",
       "      <td>2C(2%)-5C</td>\n",
       "      <td>{'IR': [0.017804198, 0.017894397, 0.017902471,...</td>\n",
       "    </tr>\n",
       "    <tr>\n",
       "      <th>b1c3</th>\n",
       "      <td>[[335.0]]</td>\n",
       "      <td>2C(7%)-5.5C</td>\n",
       "      <td>{'IR': [0.017053859, 0.016825944, 0.016992988,...</td>\n",
       "    </tr>\n",
       "    <tr>\n",
       "      <th>b1c4</th>\n",
       "      <td>[[444.0]]</td>\n",
       "      <td>3.6C(22%)-5.5C</td>\n",
       "      <td>{'IR': [0.017030258, 0.016936054, 0.016789593,...</td>\n",
       "    </tr>\n",
       "  </tbody>\n",
       "</table>\n",
       "</div>"
      ],
      "text/plain": [
       "     cycle_life   charge_policy  \\\n",
       "b1c0  [[300.0]]       1C(4%)-6C   \n",
       "b1c1  [[148.0]]      2C(10%)-6C   \n",
       "b1c2  [[438.0]]       2C(2%)-5C   \n",
       "b1c3  [[335.0]]     2C(7%)-5.5C   \n",
       "b1c4  [[444.0]]  3.6C(22%)-5.5C   \n",
       "\n",
       "                                                summary  \n",
       "b1c0  {'IR': [0.017542101, 0.017505454, 0.017570902,...  \n",
       "b1c1  {'IR': [0.017852232, 0.017582141, 0.018061424,...  \n",
       "b1c2  {'IR': [0.017804198, 0.017894397, 0.017902471,...  \n",
       "b1c3  {'IR': [0.017053859, 0.016825944, 0.016992988,...  \n",
       "b1c4  {'IR': [0.017030258, 0.016936054, 0.016789593,...  "
      ]
     },
     "execution_count": 8,
     "metadata": {},
     "output_type": "execute_result"
    }
   ],
   "source": [
    "df = df.T\n",
    "df.head()"
   ]
  },
  {
   "cell_type": "code",
   "execution_count": null,
   "metadata": {},
   "outputs": [],
   "source": [
    "df[df['charge_policy'] != ]"
   ]
  },
  {
   "cell_type": "markdown",
   "metadata": {},
   "source": [
    "# Summary"
   ]
  },
  {
   "cell_type": "code",
   "execution_count": 9,
   "metadata": {},
   "outputs": [
    {
     "data": {
      "text/plain": [
       "pandas.core.frame.DataFrame"
      ]
     },
     "execution_count": 9,
     "metadata": {},
     "output_type": "execute_result"
    }
   ],
   "source": [
    "type(df[['summary']])"
   ]
  },
  {
   "cell_type": "code",
   "execution_count": 10,
   "metadata": {},
   "outputs": [],
   "source": [
    "summary  = df[['summary']]"
   ]
  },
  {
   "cell_type": "code",
   "execution_count": 11,
   "metadata": {},
   "outputs": [
    {
     "data": {
      "text/html": [
       "<div>\n",
       "<style scoped>\n",
       "    .dataframe tbody tr th:only-of-type {\n",
       "        vertical-align: middle;\n",
       "    }\n",
       "\n",
       "    .dataframe tbody tr th {\n",
       "        vertical-align: top;\n",
       "    }\n",
       "\n",
       "    .dataframe thead th {\n",
       "        text-align: right;\n",
       "    }\n",
       "</style>\n",
       "<table border=\"1\" class=\"dataframe\">\n",
       "  <thead>\n",
       "    <tr style=\"text-align: right;\">\n",
       "      <th></th>\n",
       "      <th>summary</th>\n",
       "    </tr>\n",
       "  </thead>\n",
       "  <tbody>\n",
       "    <tr>\n",
       "      <th>b1c0</th>\n",
       "      <td>{'IR': [0.017542101, 0.017505454, 0.017570902,...</td>\n",
       "    </tr>\n",
       "    <tr>\n",
       "      <th>b1c1</th>\n",
       "      <td>{'IR': [0.017852232, 0.017582141, 0.018061424,...</td>\n",
       "    </tr>\n",
       "    <tr>\n",
       "      <th>b1c2</th>\n",
       "      <td>{'IR': [0.017804198, 0.017894397, 0.017902471,...</td>\n",
       "    </tr>\n",
       "    <tr>\n",
       "      <th>b1c3</th>\n",
       "      <td>{'IR': [0.017053859, 0.016825944, 0.016992988,...</td>\n",
       "    </tr>\n",
       "    <tr>\n",
       "      <th>b1c4</th>\n",
       "      <td>{'IR': [0.017030258, 0.016936054, 0.016789593,...</td>\n",
       "    </tr>\n",
       "  </tbody>\n",
       "</table>\n",
       "</div>"
      ],
      "text/plain": [
       "                                                summary\n",
       "b1c0  {'IR': [0.017542101, 0.017505454, 0.017570902,...\n",
       "b1c1  {'IR': [0.017852232, 0.017582141, 0.018061424,...\n",
       "b1c2  {'IR': [0.017804198, 0.017894397, 0.017902471,...\n",
       "b1c3  {'IR': [0.017053859, 0.016825944, 0.016992988,...\n",
       "b1c4  {'IR': [0.017030258, 0.016936054, 0.016789593,..."
      ]
     },
     "execution_count": 11,
     "metadata": {},
     "output_type": "execute_result"
    }
   ],
   "source": [
    "summary.head()"
   ]
  },
  {
   "cell_type": "code",
   "execution_count": 23,
   "metadata": {
    "scrolled": true
   },
   "outputs": [
    {
     "name": "stderr",
     "output_type": "stream",
     "text": [
      "/home/tam/anaconda3/lib/python3.7/site-packages/ipykernel_launcher.py:1: SettingWithCopyWarning: \n",
      "A value is trying to be set on a copy of a slice from a DataFrame.\n",
      "Try using .loc[row_indexer,col_indexer] = value instead\n",
      "\n",
      "See the caveats in the documentation: https://pandas.pydata.org/pandas-docs/stable/user_guide/indexing.html#returning-a-view-versus-a-copy\n",
      "  \"\"\"Entry point for launching an IPython kernel.\n"
     ]
    }
   ],
   "source": [
    "summary['charge_policy'] =  df['charge_policy']"
   ]
  },
  {
   "cell_type": "code",
   "execution_count": null,
   "metadata": {},
   "outputs": [],
   "source": []
  },
  {
   "cell_type": "code",
   "execution_count": 57,
   "metadata": {},
   "outputs": [
    {
     "name": "stdout",
     "output_type": "stream",
     "text": [
      "(24920, 13)\n"
     ]
    }
   ],
   "source": [
    "df0 = pd.DataFrame()\n",
    "count = 0\n",
    "for i, j in summary['summary'].items():\n",
    "    \n",
    "\n",
    "    df1 = pd.DataFrame.from_dict(j)\n",
    "    df1['cell'] = i\n",
    "    df1['cycle_life'] = df['cycle_life'][i][0][0]  # take the cycle_life from main df and add it in the summary\n",
    "    if len(df['charge_policy'][i].split('C')) !=3:\n",
    "        df1['C1'] =  0 \n",
    "    else:\n",
    "        df1['C1'] = float(df['charge_policy'][i].split('C')[0])\n",
    "    \n",
    "    df1['C2'] = float(df['charge_policy'][i].split('-')[-1].split('C')[0])\n",
    "    df1['Q1'] = int(df['charge_policy'][i].split('(')[-1].split(')')[0].split('%')[0])\n",
    "    \n",
    "    \n",
    "    df0 = pd.concat([df0, df1])\n",
    "       \n",
    "print(df0.shape)"
   ]
  },
  {
   "cell_type": "code",
   "execution_count": 58,
   "metadata": {
    "scrolled": true
   },
   "outputs": [
    {
     "data": {
      "text/html": [
       "<div>\n",
       "<style scoped>\n",
       "    .dataframe tbody tr th:only-of-type {\n",
       "        vertical-align: middle;\n",
       "    }\n",
       "\n",
       "    .dataframe tbody tr th {\n",
       "        vertical-align: top;\n",
       "    }\n",
       "\n",
       "    .dataframe thead th {\n",
       "        text-align: right;\n",
       "    }\n",
       "</style>\n",
       "<table border=\"1\" class=\"dataframe\">\n",
       "  <thead>\n",
       "    <tr style=\"text-align: right;\">\n",
       "      <th></th>\n",
       "      <th>IR</th>\n",
       "      <th>QC</th>\n",
       "      <th>QD</th>\n",
       "      <th>Tavg</th>\n",
       "      <th>Tmin</th>\n",
       "      <th>Tmax</th>\n",
       "      <th>chargetime</th>\n",
       "      <th>cycle</th>\n",
       "      <th>cell</th>\n",
       "      <th>cycle_life</th>\n",
       "      <th>C1</th>\n",
       "      <th>C2</th>\n",
       "      <th>Q1</th>\n",
       "    </tr>\n",
       "  </thead>\n",
       "  <tbody>\n",
       "    <tr>\n",
       "      <th>0</th>\n",
       "      <td>0.017542</td>\n",
       "      <td>1.067561</td>\n",
       "      <td>1.068057</td>\n",
       "      <td>30.363545</td>\n",
       "      <td>28.999689</td>\n",
       "      <td>31.487127</td>\n",
       "      <td>10.332668</td>\n",
       "      <td>1.0</td>\n",
       "      <td>b1c0</td>\n",
       "      <td>300.0</td>\n",
       "      <td>1.0</td>\n",
       "      <td>6.0</td>\n",
       "      <td>4</td>\n",
       "    </tr>\n",
       "    <tr>\n",
       "      <th>1</th>\n",
       "      <td>0.017505</td>\n",
       "      <td>1.069810</td>\n",
       "      <td>1.070054</td>\n",
       "      <td>29.160560</td>\n",
       "      <td>26.734909</td>\n",
       "      <td>31.661930</td>\n",
       "      <td>10.180050</td>\n",
       "      <td>2.0</td>\n",
       "      <td>b1c0</td>\n",
       "      <td>300.0</td>\n",
       "      <td>1.0</td>\n",
       "      <td>6.0</td>\n",
       "      <td>4</td>\n",
       "    </tr>\n",
       "    <tr>\n",
       "      <th>2</th>\n",
       "      <td>0.017571</td>\n",
       "      <td>1.071287</td>\n",
       "      <td>1.071910</td>\n",
       "      <td>29.711384</td>\n",
       "      <td>28.086988</td>\n",
       "      <td>31.111683</td>\n",
       "      <td>10.308322</td>\n",
       "      <td>3.0</td>\n",
       "      <td>b1c0</td>\n",
       "      <td>300.0</td>\n",
       "      <td>1.0</td>\n",
       "      <td>6.0</td>\n",
       "      <td>4</td>\n",
       "    </tr>\n",
       "    <tr>\n",
       "      <th>3</th>\n",
       "      <td>0.017263</td>\n",
       "      <td>1.072626</td>\n",
       "      <td>1.072965</td>\n",
       "      <td>30.235232</td>\n",
       "      <td>28.464998</td>\n",
       "      <td>31.539034</td>\n",
       "      <td>10.276183</td>\n",
       "      <td>4.0</td>\n",
       "      <td>b1c0</td>\n",
       "      <td>300.0</td>\n",
       "      <td>1.0</td>\n",
       "      <td>6.0</td>\n",
       "      <td>4</td>\n",
       "    </tr>\n",
       "    <tr>\n",
       "      <th>4</th>\n",
       "      <td>0.017489</td>\n",
       "      <td>1.071483</td>\n",
       "      <td>1.071910</td>\n",
       "      <td>29.481769</td>\n",
       "      <td>27.695206</td>\n",
       "      <td>31.414228</td>\n",
       "      <td>10.263642</td>\n",
       "      <td>5.0</td>\n",
       "      <td>b1c0</td>\n",
       "      <td>300.0</td>\n",
       "      <td>1.0</td>\n",
       "      <td>6.0</td>\n",
       "      <td>4</td>\n",
       "    </tr>\n",
       "    <tr>\n",
       "      <th>5</th>\n",
       "      <td>0.017164</td>\n",
       "      <td>1.072955</td>\n",
       "      <td>1.073295</td>\n",
       "      <td>30.155729</td>\n",
       "      <td>28.780985</td>\n",
       "      <td>31.646267</td>\n",
       "      <td>10.192627</td>\n",
       "      <td>6.0</td>\n",
       "      <td>b1c0</td>\n",
       "      <td>300.0</td>\n",
       "      <td>1.0</td>\n",
       "      <td>6.0</td>\n",
       "      <td>4</td>\n",
       "    </tr>\n",
       "    <tr>\n",
       "      <th>6</th>\n",
       "      <td>0.017006</td>\n",
       "      <td>1.072841</td>\n",
       "      <td>1.073584</td>\n",
       "      <td>30.347167</td>\n",
       "      <td>28.949301</td>\n",
       "      <td>31.585262</td>\n",
       "      <td>10.268855</td>\n",
       "      <td>7.0</td>\n",
       "      <td>b1c0</td>\n",
       "      <td>300.0</td>\n",
       "      <td>1.0</td>\n",
       "      <td>6.0</td>\n",
       "      <td>4</td>\n",
       "    </tr>\n",
       "    <tr>\n",
       "      <th>7</th>\n",
       "      <td>0.017519</td>\n",
       "      <td>1.070809</td>\n",
       "      <td>1.072039</td>\n",
       "      <td>29.093283</td>\n",
       "      <td>27.254005</td>\n",
       "      <td>30.755775</td>\n",
       "      <td>10.207952</td>\n",
       "      <td>8.0</td>\n",
       "      <td>b1c0</td>\n",
       "      <td>300.0</td>\n",
       "      <td>1.0</td>\n",
       "      <td>6.0</td>\n",
       "      <td>4</td>\n",
       "    </tr>\n",
       "    <tr>\n",
       "      <th>8</th>\n",
       "      <td>0.017023</td>\n",
       "      <td>1.072972</td>\n",
       "      <td>1.073211</td>\n",
       "      <td>29.952229</td>\n",
       "      <td>28.634039</td>\n",
       "      <td>31.257359</td>\n",
       "      <td>10.285420</td>\n",
       "      <td>9.0</td>\n",
       "      <td>b1c0</td>\n",
       "      <td>300.0</td>\n",
       "      <td>1.0</td>\n",
       "      <td>6.0</td>\n",
       "      <td>4</td>\n",
       "    </tr>\n",
       "    <tr>\n",
       "      <th>9</th>\n",
       "      <td>0.016944</td>\n",
       "      <td>1.073020</td>\n",
       "      <td>1.073357</td>\n",
       "      <td>30.023263</td>\n",
       "      <td>27.823721</td>\n",
       "      <td>31.303814</td>\n",
       "      <td>10.189893</td>\n",
       "      <td>10.0</td>\n",
       "      <td>b1c0</td>\n",
       "      <td>300.0</td>\n",
       "      <td>1.0</td>\n",
       "      <td>6.0</td>\n",
       "      <td>4</td>\n",
       "    </tr>\n",
       "  </tbody>\n",
       "</table>\n",
       "</div>"
      ],
      "text/plain": [
       "         IR        QC        QD       Tavg       Tmin       Tmax  chargetime  \\\n",
       "0  0.017542  1.067561  1.068057  30.363545  28.999689  31.487127   10.332668   \n",
       "1  0.017505  1.069810  1.070054  29.160560  26.734909  31.661930   10.180050   \n",
       "2  0.017571  1.071287  1.071910  29.711384  28.086988  31.111683   10.308322   \n",
       "3  0.017263  1.072626  1.072965  30.235232  28.464998  31.539034   10.276183   \n",
       "4  0.017489  1.071483  1.071910  29.481769  27.695206  31.414228   10.263642   \n",
       "5  0.017164  1.072955  1.073295  30.155729  28.780985  31.646267   10.192627   \n",
       "6  0.017006  1.072841  1.073584  30.347167  28.949301  31.585262   10.268855   \n",
       "7  0.017519  1.070809  1.072039  29.093283  27.254005  30.755775   10.207952   \n",
       "8  0.017023  1.072972  1.073211  29.952229  28.634039  31.257359   10.285420   \n",
       "9  0.016944  1.073020  1.073357  30.023263  27.823721  31.303814   10.189893   \n",
       "\n",
       "   cycle  cell  cycle_life   C1   C2  Q1  \n",
       "0    1.0  b1c0       300.0  1.0  6.0   4  \n",
       "1    2.0  b1c0       300.0  1.0  6.0   4  \n",
       "2    3.0  b1c0       300.0  1.0  6.0   4  \n",
       "3    4.0  b1c0       300.0  1.0  6.0   4  \n",
       "4    5.0  b1c0       300.0  1.0  6.0   4  \n",
       "5    6.0  b1c0       300.0  1.0  6.0   4  \n",
       "6    7.0  b1c0       300.0  1.0  6.0   4  \n",
       "7    8.0  b1c0       300.0  1.0  6.0   4  \n",
       "8    9.0  b1c0       300.0  1.0  6.0   4  \n",
       "9   10.0  b1c0       300.0  1.0  6.0   4  "
      ]
     },
     "execution_count": 58,
     "metadata": {},
     "output_type": "execute_result"
    }
   ],
   "source": [
    "df0.head(10)\n"
   ]
  },
  {
   "cell_type": "code",
   "execution_count": 59,
   "metadata": {
    "scrolled": true
   },
   "outputs": [
    {
     "name": "stdout",
     "output_type": "stream",
     "text": [
      "<class 'pandas.core.frame.DataFrame'>\n",
      "Int64Index: 24920 entries, 0 to 744\n",
      "Data columns (total 13 columns):\n",
      " #   Column      Non-Null Count  Dtype  \n",
      "---  ------      --------------  -----  \n",
      " 0   IR          24920 non-null  float64\n",
      " 1   QC          24920 non-null  float64\n",
      " 2   QD          24920 non-null  float64\n",
      " 3   Tavg        24920 non-null  float64\n",
      " 4   Tmin        24920 non-null  float64\n",
      " 5   Tmax        24920 non-null  float64\n",
      " 6   chargetime  24920 non-null  float64\n",
      " 7   cycle       24920 non-null  float64\n",
      " 8   cell        24920 non-null  object \n",
      " 9   cycle_life  24920 non-null  float64\n",
      " 10  C1          24920 non-null  float64\n",
      " 11  C2          24920 non-null  float64\n",
      " 12  Q1          24920 non-null  int64  \n",
      "dtypes: float64(11), int64(1), object(1)\n",
      "memory usage: 2.7+ MB\n"
     ]
    }
   ],
   "source": [
    "df0.info()"
   ]
  },
  {
   "cell_type": "code",
   "execution_count": 60,
   "metadata": {},
   "outputs": [],
   "source": [
    "df0['IR'] = df0['IR'].astype('float16')\n",
    "df0['QC'] = df0['QC'].astype('float16')\n",
    "df0['Qd'] = df0['QD'].astype('float16')\n",
    "df0['Tavg'] = df0['Tavg'].astype('float16')\n",
    "df0['Tmin'] = df0['Tmin'].astype('float16')\n",
    "df0['Tmax'] = df0['Tmax'].astype('float16')\n",
    "df0['chargetime'] = df0['chargetime'].astype('float16')\n",
    "\n",
    "df0['cycle_life'] = df0['cycle_life'].astype('int16')"
   ]
  },
  {
   "cell_type": "code",
   "execution_count": 61,
   "metadata": {},
   "outputs": [
    {
     "data": {
      "text/html": [
       "<div>\n",
       "<style scoped>\n",
       "    .dataframe tbody tr th:only-of-type {\n",
       "        vertical-align: middle;\n",
       "    }\n",
       "\n",
       "    .dataframe tbody tr th {\n",
       "        vertical-align: top;\n",
       "    }\n",
       "\n",
       "    .dataframe thead th {\n",
       "        text-align: right;\n",
       "    }\n",
       "</style>\n",
       "<table border=\"1\" class=\"dataframe\">\n",
       "  <thead>\n",
       "    <tr style=\"text-align: right;\">\n",
       "      <th></th>\n",
       "      <th>IR</th>\n",
       "      <th>QC</th>\n",
       "      <th>QD</th>\n",
       "      <th>Tavg</th>\n",
       "      <th>Tmin</th>\n",
       "      <th>Tmax</th>\n",
       "      <th>chargetime</th>\n",
       "      <th>cycle</th>\n",
       "      <th>cell</th>\n",
       "      <th>cycle_life</th>\n",
       "      <th>C1</th>\n",
       "      <th>C2</th>\n",
       "      <th>Q1</th>\n",
       "      <th>Qd</th>\n",
       "    </tr>\n",
       "  </thead>\n",
       "  <tbody>\n",
       "    <tr>\n",
       "      <th>0</th>\n",
       "      <td>0.017548</td>\n",
       "      <td>1.067383</td>\n",
       "      <td>1.068057</td>\n",
       "      <td>30.359375</td>\n",
       "      <td>29.000000</td>\n",
       "      <td>31.484375</td>\n",
       "      <td>10.335938</td>\n",
       "      <td>1.0</td>\n",
       "      <td>b1c0</td>\n",
       "      <td>300</td>\n",
       "      <td>1.0</td>\n",
       "      <td>6.0</td>\n",
       "      <td>4</td>\n",
       "      <td>1.068359</td>\n",
       "    </tr>\n",
       "    <tr>\n",
       "      <th>1</th>\n",
       "      <td>0.017502</td>\n",
       "      <td>1.069336</td>\n",
       "      <td>1.070054</td>\n",
       "      <td>29.156250</td>\n",
       "      <td>26.734375</td>\n",
       "      <td>31.656250</td>\n",
       "      <td>10.179688</td>\n",
       "      <td>2.0</td>\n",
       "      <td>b1c0</td>\n",
       "      <td>300</td>\n",
       "      <td>1.0</td>\n",
       "      <td>6.0</td>\n",
       "      <td>4</td>\n",
       "      <td>1.070312</td>\n",
       "    </tr>\n",
       "    <tr>\n",
       "      <th>2</th>\n",
       "      <td>0.017578</td>\n",
       "      <td>1.071289</td>\n",
       "      <td>1.071910</td>\n",
       "      <td>29.718750</td>\n",
       "      <td>28.093750</td>\n",
       "      <td>31.109375</td>\n",
       "      <td>10.304688</td>\n",
       "      <td>3.0</td>\n",
       "      <td>b1c0</td>\n",
       "      <td>300</td>\n",
       "      <td>1.0</td>\n",
       "      <td>6.0</td>\n",
       "      <td>4</td>\n",
       "      <td>1.072266</td>\n",
       "    </tr>\n",
       "    <tr>\n",
       "      <th>3</th>\n",
       "      <td>0.017258</td>\n",
       "      <td>1.072266</td>\n",
       "      <td>1.072965</td>\n",
       "      <td>30.234375</td>\n",
       "      <td>28.468750</td>\n",
       "      <td>31.531250</td>\n",
       "      <td>10.273438</td>\n",
       "      <td>4.0</td>\n",
       "      <td>b1c0</td>\n",
       "      <td>300</td>\n",
       "      <td>1.0</td>\n",
       "      <td>6.0</td>\n",
       "      <td>4</td>\n",
       "      <td>1.073242</td>\n",
       "    </tr>\n",
       "    <tr>\n",
       "      <th>4</th>\n",
       "      <td>0.017487</td>\n",
       "      <td>1.071289</td>\n",
       "      <td>1.071910</td>\n",
       "      <td>29.484375</td>\n",
       "      <td>27.687500</td>\n",
       "      <td>31.421875</td>\n",
       "      <td>10.265625</td>\n",
       "      <td>5.0</td>\n",
       "      <td>b1c0</td>\n",
       "      <td>300</td>\n",
       "      <td>1.0</td>\n",
       "      <td>6.0</td>\n",
       "      <td>4</td>\n",
       "      <td>1.072266</td>\n",
       "    </tr>\n",
       "  </tbody>\n",
       "</table>\n",
       "</div>"
      ],
      "text/plain": [
       "         IR        QC        QD       Tavg       Tmin       Tmax  chargetime  \\\n",
       "0  0.017548  1.067383  1.068057  30.359375  29.000000  31.484375   10.335938   \n",
       "1  0.017502  1.069336  1.070054  29.156250  26.734375  31.656250   10.179688   \n",
       "2  0.017578  1.071289  1.071910  29.718750  28.093750  31.109375   10.304688   \n",
       "3  0.017258  1.072266  1.072965  30.234375  28.468750  31.531250   10.273438   \n",
       "4  0.017487  1.071289  1.071910  29.484375  27.687500  31.421875   10.265625   \n",
       "\n",
       "   cycle  cell  cycle_life   C1   C2  Q1        Qd  \n",
       "0    1.0  b1c0         300  1.0  6.0   4  1.068359  \n",
       "1    2.0  b1c0         300  1.0  6.0   4  1.070312  \n",
       "2    3.0  b1c0         300  1.0  6.0   4  1.072266  \n",
       "3    4.0  b1c0         300  1.0  6.0   4  1.073242  \n",
       "4    5.0  b1c0         300  1.0  6.0   4  1.072266  "
      ]
     },
     "execution_count": 61,
     "metadata": {},
     "output_type": "execute_result"
    }
   ],
   "source": [
    "df0.head()"
   ]
  },
  {
   "cell_type": "code",
   "execution_count": 62,
   "metadata": {},
   "outputs": [
    {
     "data": {
      "text/plain": [
       "(24920, 14)"
      ]
     },
     "execution_count": 62,
     "metadata": {},
     "output_type": "execute_result"
    }
   ],
   "source": [
    "df0.shape"
   ]
  },
  {
   "cell_type": "code",
   "execution_count": 63,
   "metadata": {},
   "outputs": [],
   "source": [
    "df0.to_pickle('summary_df_test.pkl')"
   ]
  },
  {
   "cell_type": "code",
   "execution_count": 64,
   "metadata": {},
   "outputs": [
    {
     "data": {
      "text/html": [
       "<div>\n",
       "<style scoped>\n",
       "    .dataframe tbody tr th:only-of-type {\n",
       "        vertical-align: middle;\n",
       "    }\n",
       "\n",
       "    .dataframe tbody tr th {\n",
       "        vertical-align: top;\n",
       "    }\n",
       "\n",
       "    .dataframe thead th {\n",
       "        text-align: right;\n",
       "    }\n",
       "</style>\n",
       "<table border=\"1\" class=\"dataframe\">\n",
       "  <thead>\n",
       "    <tr style=\"text-align: right;\">\n",
       "      <th></th>\n",
       "      <th>IR</th>\n",
       "      <th>QC</th>\n",
       "      <th>QD</th>\n",
       "      <th>Tavg</th>\n",
       "      <th>Tmin</th>\n",
       "      <th>Tmax</th>\n",
       "      <th>chargetime</th>\n",
       "      <th>cycle</th>\n",
       "      <th>cell</th>\n",
       "      <th>cycle_life</th>\n",
       "      <th>C1</th>\n",
       "      <th>C2</th>\n",
       "      <th>Q1</th>\n",
       "      <th>Qd</th>\n",
       "    </tr>\n",
       "  </thead>\n",
       "  <tbody>\n",
       "    <tr>\n",
       "      <th>740</th>\n",
       "      <td>0.020279</td>\n",
       "      <td>0.836426</td>\n",
       "      <td>0.834485</td>\n",
       "      <td>33.34375</td>\n",
       "      <td>29.906250</td>\n",
       "      <td>38.21875</td>\n",
       "      <td>20.0</td>\n",
       "      <td>741.0</td>\n",
       "      <td>b1c47</td>\n",
       "      <td>713</td>\n",
       "      <td>6.0</td>\n",
       "      <td>3.0</td>\n",
       "      <td>60</td>\n",
       "      <td>0.834473</td>\n",
       "    </tr>\n",
       "    <tr>\n",
       "      <th>741</th>\n",
       "      <td>0.020279</td>\n",
       "      <td>0.834961</td>\n",
       "      <td>0.832141</td>\n",
       "      <td>33.21875</td>\n",
       "      <td>29.921875</td>\n",
       "      <td>38.25000</td>\n",
       "      <td>20.0</td>\n",
       "      <td>742.0</td>\n",
       "      <td>b1c47</td>\n",
       "      <td>713</td>\n",
       "      <td>6.0</td>\n",
       "      <td>3.0</td>\n",
       "      <td>60</td>\n",
       "      <td>0.832031</td>\n",
       "    </tr>\n",
       "    <tr>\n",
       "      <th>742</th>\n",
       "      <td>0.020370</td>\n",
       "      <td>0.832520</td>\n",
       "      <td>0.830499</td>\n",
       "      <td>33.28125</td>\n",
       "      <td>29.812500</td>\n",
       "      <td>38.34375</td>\n",
       "      <td>20.0</td>\n",
       "      <td>743.0</td>\n",
       "      <td>b1c47</td>\n",
       "      <td>713</td>\n",
       "      <td>6.0</td>\n",
       "      <td>3.0</td>\n",
       "      <td>60</td>\n",
       "      <td>0.830566</td>\n",
       "    </tr>\n",
       "    <tr>\n",
       "      <th>743</th>\n",
       "      <td>0.020401</td>\n",
       "      <td>0.830566</td>\n",
       "      <td>0.828347</td>\n",
       "      <td>33.37500</td>\n",
       "      <td>29.781250</td>\n",
       "      <td>38.28125</td>\n",
       "      <td>20.0</td>\n",
       "      <td>744.0</td>\n",
       "      <td>b1c47</td>\n",
       "      <td>713</td>\n",
       "      <td>6.0</td>\n",
       "      <td>3.0</td>\n",
       "      <td>60</td>\n",
       "      <td>0.828125</td>\n",
       "    </tr>\n",
       "    <tr>\n",
       "      <th>744</th>\n",
       "      <td>0.020432</td>\n",
       "      <td>0.828125</td>\n",
       "      <td>0.826203</td>\n",
       "      <td>33.40625</td>\n",
       "      <td>29.812500</td>\n",
       "      <td>38.37500</td>\n",
       "      <td>20.0</td>\n",
       "      <td>745.0</td>\n",
       "      <td>b1c47</td>\n",
       "      <td>713</td>\n",
       "      <td>6.0</td>\n",
       "      <td>3.0</td>\n",
       "      <td>60</td>\n",
       "      <td>0.826172</td>\n",
       "    </tr>\n",
       "  </tbody>\n",
       "</table>\n",
       "</div>"
      ],
      "text/plain": [
       "           IR        QC        QD      Tavg       Tmin      Tmax  chargetime  \\\n",
       "740  0.020279  0.836426  0.834485  33.34375  29.906250  38.21875        20.0   \n",
       "741  0.020279  0.834961  0.832141  33.21875  29.921875  38.25000        20.0   \n",
       "742  0.020370  0.832520  0.830499  33.28125  29.812500  38.34375        20.0   \n",
       "743  0.020401  0.830566  0.828347  33.37500  29.781250  38.28125        20.0   \n",
       "744  0.020432  0.828125  0.826203  33.40625  29.812500  38.37500        20.0   \n",
       "\n",
       "     cycle   cell  cycle_life   C1   C2  Q1        Qd  \n",
       "740  741.0  b1c47         713  6.0  3.0  60  0.834473  \n",
       "741  742.0  b1c47         713  6.0  3.0  60  0.832031  \n",
       "742  743.0  b1c47         713  6.0  3.0  60  0.830566  \n",
       "743  744.0  b1c47         713  6.0  3.0  60  0.828125  \n",
       "744  745.0  b1c47         713  6.0  3.0  60  0.826172  "
      ]
     },
     "execution_count": 64,
     "metadata": {},
     "output_type": "execute_result"
    }
   ],
   "source": [
    "\n",
    "pd.read_pickle('summary_df_test.pkl').tail()"
   ]
  }
 ],
 "metadata": {
  "kernelspec": {
   "display_name": "Python 3",
   "language": "python",
   "name": "python3"
  },
  "language_info": {
   "codemirror_mode": {
    "name": "ipython",
    "version": 3
   },
   "file_extension": ".py",
   "mimetype": "text/x-python",
   "name": "python",
   "nbconvert_exporter": "python",
   "pygments_lexer": "ipython3",
   "version": "3.7.4"
  }
 },
 "nbformat": 4,
 "nbformat_minor": 2
}

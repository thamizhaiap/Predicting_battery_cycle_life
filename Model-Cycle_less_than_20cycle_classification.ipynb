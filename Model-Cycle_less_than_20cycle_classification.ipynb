{
 "cells": [
  {
   "cell_type": "code",
   "execution_count": 1,
   "metadata": {},
   "outputs": [],
   "source": [
    "import numpy as np\n",
    "import pandas as pd\n",
    "import matplotlib.pyplot as plt"
   ]
  },
  {
   "cell_type": "code",
   "execution_count": 2,
   "metadata": {},
   "outputs": [],
   "source": [
    "df1 = pd.read_pickle('summary_df.pkl')\n",
    "df2 = pd.read_pickle('summary_df_test.pkl')\n",
    "df3 = pd.read_pickle('summary_df_test_2.pkl')"
   ]
  },
  {
   "cell_type": "code",
   "execution_count": 3,
   "metadata": {},
   "outputs": [],
   "source": [
    "df = pd.concat([df1, df2, df3])"
   ]
  },
  {
   "cell_type": "code",
   "execution_count": 4,
   "metadata": {
    "scrolled": true
   },
   "outputs": [
    {
     "data": {
      "text/html": [
       "<div>\n",
       "<style scoped>\n",
       "    .dataframe tbody tr th:only-of-type {\n",
       "        vertical-align: middle;\n",
       "    }\n",
       "\n",
       "    .dataframe tbody tr th {\n",
       "        vertical-align: top;\n",
       "    }\n",
       "\n",
       "    .dataframe thead th {\n",
       "        text-align: right;\n",
       "    }\n",
       "</style>\n",
       "<table border=\"1\" class=\"dataframe\">\n",
       "  <thead>\n",
       "    <tr style=\"text-align: right;\">\n",
       "      <th></th>\n",
       "      <th>IR</th>\n",
       "      <th>QC</th>\n",
       "      <th>QD</th>\n",
       "      <th>Tavg</th>\n",
       "      <th>Tmin</th>\n",
       "      <th>Tmax</th>\n",
       "      <th>chargetime</th>\n",
       "      <th>cycle</th>\n",
       "      <th>cell</th>\n",
       "      <th>cycle_life</th>\n",
       "      <th>C1</th>\n",
       "      <th>C2</th>\n",
       "      <th>Q1</th>\n",
       "      <th>Qd</th>\n",
       "    </tr>\n",
       "  </thead>\n",
       "  <tbody>\n",
       "    <tr>\n",
       "      <th>0</th>\n",
       "      <td>0.000000</td>\n",
       "      <td>0.000000</td>\n",
       "      <td>0.000000</td>\n",
       "      <td>0.000000</td>\n",
       "      <td>0.000000</td>\n",
       "      <td>0.00000</td>\n",
       "      <td>0.000000</td>\n",
       "      <td>1.0</td>\n",
       "      <td>b1c0</td>\n",
       "      <td>1190</td>\n",
       "      <td>3.6</td>\n",
       "      <td>3.6</td>\n",
       "      <td>80</td>\n",
       "      <td>0.000000</td>\n",
       "    </tr>\n",
       "    <tr>\n",
       "      <th>1</th>\n",
       "      <td>0.016739</td>\n",
       "      <td>1.071289</td>\n",
       "      <td>1.070689</td>\n",
       "      <td>31.875000</td>\n",
       "      <td>29.562500</td>\n",
       "      <td>35.65625</td>\n",
       "      <td>13.343750</td>\n",
       "      <td>2.0</td>\n",
       "      <td>b1c0</td>\n",
       "      <td>1190</td>\n",
       "      <td>3.6</td>\n",
       "      <td>3.6</td>\n",
       "      <td>80</td>\n",
       "      <td>1.070312</td>\n",
       "    </tr>\n",
       "    <tr>\n",
       "      <th>2</th>\n",
       "      <td>0.016724</td>\n",
       "      <td>1.071289</td>\n",
       "      <td>1.071900</td>\n",
       "      <td>31.937500</td>\n",
       "      <td>29.609375</td>\n",
       "      <td>35.68750</td>\n",
       "      <td>13.421875</td>\n",
       "      <td>3.0</td>\n",
       "      <td>b1c0</td>\n",
       "      <td>1190</td>\n",
       "      <td>3.6</td>\n",
       "      <td>3.6</td>\n",
       "      <td>80</td>\n",
       "      <td>1.072266</td>\n",
       "    </tr>\n",
       "    <tr>\n",
       "      <th>3</th>\n",
       "      <td>0.016678</td>\n",
       "      <td>1.072266</td>\n",
       "      <td>1.072510</td>\n",
       "      <td>31.937500</td>\n",
       "      <td>29.750000</td>\n",
       "      <td>35.68750</td>\n",
       "      <td>13.421875</td>\n",
       "      <td>4.0</td>\n",
       "      <td>b1c0</td>\n",
       "      <td>1190</td>\n",
       "      <td>3.6</td>\n",
       "      <td>3.6</td>\n",
       "      <td>80</td>\n",
       "      <td>1.072266</td>\n",
       "    </tr>\n",
       "    <tr>\n",
       "      <th>4</th>\n",
       "      <td>0.016663</td>\n",
       "      <td>1.073242</td>\n",
       "      <td>1.073174</td>\n",
       "      <td>31.953125</td>\n",
       "      <td>29.640625</td>\n",
       "      <td>35.71875</td>\n",
       "      <td>13.343750</td>\n",
       "      <td>5.0</td>\n",
       "      <td>b1c0</td>\n",
       "      <td>1190</td>\n",
       "      <td>3.6</td>\n",
       "      <td>3.6</td>\n",
       "      <td>80</td>\n",
       "      <td>1.073242</td>\n",
       "    </tr>\n",
       "  </tbody>\n",
       "</table>\n",
       "</div>"
      ],
      "text/plain": [
       "         IR        QC        QD       Tavg       Tmin      Tmax  chargetime  \\\n",
       "0  0.000000  0.000000  0.000000   0.000000   0.000000   0.00000    0.000000   \n",
       "1  0.016739  1.071289  1.070689  31.875000  29.562500  35.65625   13.343750   \n",
       "2  0.016724  1.071289  1.071900  31.937500  29.609375  35.68750   13.421875   \n",
       "3  0.016678  1.072266  1.072510  31.937500  29.750000  35.68750   13.421875   \n",
       "4  0.016663  1.073242  1.073174  31.953125  29.640625  35.71875   13.343750   \n",
       "\n",
       "   cycle  cell  cycle_life   C1   C2  Q1        Qd  \n",
       "0    1.0  b1c0        1190  3.6  3.6  80  0.000000  \n",
       "1    2.0  b1c0        1190  3.6  3.6  80  1.070312  \n",
       "2    3.0  b1c0        1190  3.6  3.6  80  1.072266  \n",
       "3    4.0  b1c0        1190  3.6  3.6  80  1.072266  \n",
       "4    5.0  b1c0        1190  3.6  3.6  80  1.073242  "
      ]
     },
     "execution_count": 4,
     "metadata": {},
     "output_type": "execute_result"
    }
   ],
   "source": [
    "df.head()"
   ]
  },
  {
   "cell_type": "code",
   "execution_count": 5,
   "metadata": {},
   "outputs": [],
   "source": [
    "df['cycle'] = df['cycle'].astype('int16')"
   ]
  },
  {
   "cell_type": "code",
   "execution_count": 6,
   "metadata": {},
   "outputs": [
    {
     "data": {
      "text/plain": [
       "(110312, 14)"
      ]
     },
     "execution_count": 6,
     "metadata": {},
     "output_type": "execute_result"
    }
   ],
   "source": [
    "df.shape"
   ]
  },
  {
   "cell_type": "code",
   "execution_count": 7,
   "metadata": {},
   "outputs": [],
   "source": [
    "df = df[df['IR'] != 0]"
   ]
  },
  {
   "cell_type": "code",
   "execution_count": 8,
   "metadata": {
    "scrolled": true
   },
   "outputs": [
    {
     "data": {
      "text/plain": [
       "(110244, 14)"
      ]
     },
     "execution_count": 8,
     "metadata": {},
     "output_type": "execute_result"
    }
   ],
   "source": [
    "df.shape"
   ]
  },
  {
   "cell_type": "code",
   "execution_count": 9,
   "metadata": {},
   "outputs": [],
   "source": [
    "df = df[df['cycle'] <= 20]"
   ]
  },
  {
   "cell_type": "code",
   "execution_count": 10,
   "metadata": {
    "scrolled": false
   },
   "outputs": [],
   "source": [
    "df['class'] = np.where(df['cycle_life'] >= 700, 1, 0)"
   ]
  },
  {
   "cell_type": "code",
   "execution_count": 11,
   "metadata": {},
   "outputs": [
    {
     "data": {
      "text/html": [
       "<div>\n",
       "<style scoped>\n",
       "    .dataframe tbody tr th:only-of-type {\n",
       "        vertical-align: middle;\n",
       "    }\n",
       "\n",
       "    .dataframe tbody tr th {\n",
       "        vertical-align: top;\n",
       "    }\n",
       "\n",
       "    .dataframe thead th {\n",
       "        text-align: right;\n",
       "    }\n",
       "</style>\n",
       "<table border=\"1\" class=\"dataframe\">\n",
       "  <thead>\n",
       "    <tr style=\"text-align: right;\">\n",
       "      <th></th>\n",
       "      <th>IR</th>\n",
       "      <th>QC</th>\n",
       "      <th>QD</th>\n",
       "      <th>Tavg</th>\n",
       "      <th>Tmin</th>\n",
       "      <th>Tmax</th>\n",
       "      <th>chargetime</th>\n",
       "      <th>cycle</th>\n",
       "      <th>cell</th>\n",
       "      <th>cycle_life</th>\n",
       "      <th>C1</th>\n",
       "      <th>C2</th>\n",
       "      <th>Q1</th>\n",
       "      <th>Qd</th>\n",
       "      <th>class</th>\n",
       "    </tr>\n",
       "  </thead>\n",
       "  <tbody>\n",
       "    <tr>\n",
       "      <th>1</th>\n",
       "      <td>0.016739</td>\n",
       "      <td>1.071289</td>\n",
       "      <td>1.070689</td>\n",
       "      <td>31.875000</td>\n",
       "      <td>29.562500</td>\n",
       "      <td>35.65625</td>\n",
       "      <td>13.343750</td>\n",
       "      <td>2</td>\n",
       "      <td>b1c0</td>\n",
       "      <td>1190</td>\n",
       "      <td>3.6</td>\n",
       "      <td>3.6</td>\n",
       "      <td>80</td>\n",
       "      <td>1.070312</td>\n",
       "      <td>1</td>\n",
       "    </tr>\n",
       "    <tr>\n",
       "      <th>2</th>\n",
       "      <td>0.016724</td>\n",
       "      <td>1.071289</td>\n",
       "      <td>1.071900</td>\n",
       "      <td>31.937500</td>\n",
       "      <td>29.609375</td>\n",
       "      <td>35.68750</td>\n",
       "      <td>13.421875</td>\n",
       "      <td>3</td>\n",
       "      <td>b1c0</td>\n",
       "      <td>1190</td>\n",
       "      <td>3.6</td>\n",
       "      <td>3.6</td>\n",
       "      <td>80</td>\n",
       "      <td>1.072266</td>\n",
       "      <td>1</td>\n",
       "    </tr>\n",
       "    <tr>\n",
       "      <th>3</th>\n",
       "      <td>0.016678</td>\n",
       "      <td>1.072266</td>\n",
       "      <td>1.072510</td>\n",
       "      <td>31.937500</td>\n",
       "      <td>29.750000</td>\n",
       "      <td>35.68750</td>\n",
       "      <td>13.421875</td>\n",
       "      <td>4</td>\n",
       "      <td>b1c0</td>\n",
       "      <td>1190</td>\n",
       "      <td>3.6</td>\n",
       "      <td>3.6</td>\n",
       "      <td>80</td>\n",
       "      <td>1.072266</td>\n",
       "      <td>1</td>\n",
       "    </tr>\n",
       "    <tr>\n",
       "      <th>4</th>\n",
       "      <td>0.016663</td>\n",
       "      <td>1.073242</td>\n",
       "      <td>1.073174</td>\n",
       "      <td>31.953125</td>\n",
       "      <td>29.640625</td>\n",
       "      <td>35.71875</td>\n",
       "      <td>13.343750</td>\n",
       "      <td>5</td>\n",
       "      <td>b1c0</td>\n",
       "      <td>1190</td>\n",
       "      <td>3.6</td>\n",
       "      <td>3.6</td>\n",
       "      <td>80</td>\n",
       "      <td>1.073242</td>\n",
       "      <td>1</td>\n",
       "    </tr>\n",
       "    <tr>\n",
       "      <th>5</th>\n",
       "      <td>0.016617</td>\n",
       "      <td>1.073242</td>\n",
       "      <td>1.073576</td>\n",
       "      <td>31.968750</td>\n",
       "      <td>29.750000</td>\n",
       "      <td>35.71875</td>\n",
       "      <td>13.343750</td>\n",
       "      <td>6</td>\n",
       "      <td>b1c0</td>\n",
       "      <td>1190</td>\n",
       "      <td>3.6</td>\n",
       "      <td>3.6</td>\n",
       "      <td>80</td>\n",
       "      <td>1.073242</td>\n",
       "      <td>1</td>\n",
       "    </tr>\n",
       "  </tbody>\n",
       "</table>\n",
       "</div>"
      ],
      "text/plain": [
       "         IR        QC        QD       Tavg       Tmin      Tmax  chargetime  \\\n",
       "1  0.016739  1.071289  1.070689  31.875000  29.562500  35.65625   13.343750   \n",
       "2  0.016724  1.071289  1.071900  31.937500  29.609375  35.68750   13.421875   \n",
       "3  0.016678  1.072266  1.072510  31.937500  29.750000  35.68750   13.421875   \n",
       "4  0.016663  1.073242  1.073174  31.953125  29.640625  35.71875   13.343750   \n",
       "5  0.016617  1.073242  1.073576  31.968750  29.750000  35.71875   13.343750   \n",
       "\n",
       "   cycle  cell  cycle_life   C1   C2  Q1        Qd  class  \n",
       "1      2  b1c0        1190  3.6  3.6  80  1.070312      1  \n",
       "2      3  b1c0        1190  3.6  3.6  80  1.072266      1  \n",
       "3      4  b1c0        1190  3.6  3.6  80  1.072266      1  \n",
       "4      5  b1c0        1190  3.6  3.6  80  1.073242      1  \n",
       "5      6  b1c0        1190  3.6  3.6  80  1.073242      1  "
      ]
     },
     "execution_count": 11,
     "metadata": {},
     "output_type": "execute_result"
    }
   ],
   "source": [
    "df.head()"
   ]
  },
  {
   "cell_type": "code",
   "execution_count": 12,
   "metadata": {},
   "outputs": [
    {
     "data": {
      "text/plain": [
       "1    1576\n",
       "0    1127\n",
       "Name: class, dtype: int64"
      ]
     },
     "execution_count": 12,
     "metadata": {},
     "output_type": "execute_result"
    }
   ],
   "source": [
    "df['class'].value_counts()"
   ]
  },
  {
   "cell_type": "code",
   "execution_count": 13,
   "metadata": {
    "scrolled": false
   },
   "outputs": [
    {
     "data": {
      "text/plain": [
       "429     40\n",
       "828     40\n",
       "487     40\n",
       "499     40\n",
       "461     40\n",
       "        ..\n",
       "862     18\n",
       "559     18\n",
       "1177    18\n",
       "1179    18\n",
       "1227    18\n",
       "Name: cycle_life, Length: 127, dtype: int64"
      ]
     },
     "execution_count": 13,
     "metadata": {},
     "output_type": "execute_result"
    }
   ],
   "source": [
    "df['cycle_life'].value_counts()"
   ]
  },
  {
   "cell_type": "code",
   "execution_count": 14,
   "metadata": {
    "scrolled": false
   },
   "outputs": [
    {
     "data": {
      "text/html": [
       "<div>\n",
       "<style scoped>\n",
       "    .dataframe tbody tr th:only-of-type {\n",
       "        vertical-align: middle;\n",
       "    }\n",
       "\n",
       "    .dataframe tbody tr th {\n",
       "        vertical-align: top;\n",
       "    }\n",
       "\n",
       "    .dataframe thead th {\n",
       "        text-align: right;\n",
       "    }\n",
       "</style>\n",
       "<table border=\"1\" class=\"dataframe\">\n",
       "  <thead>\n",
       "    <tr style=\"text-align: right;\">\n",
       "      <th></th>\n",
       "      <th>IR</th>\n",
       "      <th>QC</th>\n",
       "      <th>QD</th>\n",
       "      <th>Tavg</th>\n",
       "      <th>Tmin</th>\n",
       "      <th>Tmax</th>\n",
       "      <th>chargetime</th>\n",
       "      <th>cycle</th>\n",
       "      <th>cell</th>\n",
       "      <th>cycle_life</th>\n",
       "      <th>C1</th>\n",
       "      <th>C2</th>\n",
       "      <th>Q1</th>\n",
       "      <th>Qd</th>\n",
       "      <th>class</th>\n",
       "    </tr>\n",
       "  </thead>\n",
       "  <tbody>\n",
       "    <tr>\n",
       "      <th>1</th>\n",
       "      <td>0.016739</td>\n",
       "      <td>1.071289</td>\n",
       "      <td>1.070689</td>\n",
       "      <td>31.875000</td>\n",
       "      <td>29.562500</td>\n",
       "      <td>35.65625</td>\n",
       "      <td>13.343750</td>\n",
       "      <td>2</td>\n",
       "      <td>b1c0</td>\n",
       "      <td>1190</td>\n",
       "      <td>3.6</td>\n",
       "      <td>3.6</td>\n",
       "      <td>80</td>\n",
       "      <td>1.070312</td>\n",
       "      <td>1</td>\n",
       "    </tr>\n",
       "    <tr>\n",
       "      <th>2</th>\n",
       "      <td>0.016724</td>\n",
       "      <td>1.071289</td>\n",
       "      <td>1.071900</td>\n",
       "      <td>31.937500</td>\n",
       "      <td>29.609375</td>\n",
       "      <td>35.68750</td>\n",
       "      <td>13.421875</td>\n",
       "      <td>3</td>\n",
       "      <td>b1c0</td>\n",
       "      <td>1190</td>\n",
       "      <td>3.6</td>\n",
       "      <td>3.6</td>\n",
       "      <td>80</td>\n",
       "      <td>1.072266</td>\n",
       "      <td>1</td>\n",
       "    </tr>\n",
       "    <tr>\n",
       "      <th>3</th>\n",
       "      <td>0.016678</td>\n",
       "      <td>1.072266</td>\n",
       "      <td>1.072510</td>\n",
       "      <td>31.937500</td>\n",
       "      <td>29.750000</td>\n",
       "      <td>35.68750</td>\n",
       "      <td>13.421875</td>\n",
       "      <td>4</td>\n",
       "      <td>b1c0</td>\n",
       "      <td>1190</td>\n",
       "      <td>3.6</td>\n",
       "      <td>3.6</td>\n",
       "      <td>80</td>\n",
       "      <td>1.072266</td>\n",
       "      <td>1</td>\n",
       "    </tr>\n",
       "    <tr>\n",
       "      <th>4</th>\n",
       "      <td>0.016663</td>\n",
       "      <td>1.073242</td>\n",
       "      <td>1.073174</td>\n",
       "      <td>31.953125</td>\n",
       "      <td>29.640625</td>\n",
       "      <td>35.71875</td>\n",
       "      <td>13.343750</td>\n",
       "      <td>5</td>\n",
       "      <td>b1c0</td>\n",
       "      <td>1190</td>\n",
       "      <td>3.6</td>\n",
       "      <td>3.6</td>\n",
       "      <td>80</td>\n",
       "      <td>1.073242</td>\n",
       "      <td>1</td>\n",
       "    </tr>\n",
       "    <tr>\n",
       "      <th>5</th>\n",
       "      <td>0.016617</td>\n",
       "      <td>1.073242</td>\n",
       "      <td>1.073576</td>\n",
       "      <td>31.968750</td>\n",
       "      <td>29.750000</td>\n",
       "      <td>35.71875</td>\n",
       "      <td>13.343750</td>\n",
       "      <td>6</td>\n",
       "      <td>b1c0</td>\n",
       "      <td>1190</td>\n",
       "      <td>3.6</td>\n",
       "      <td>3.6</td>\n",
       "      <td>80</td>\n",
       "      <td>1.073242</td>\n",
       "      <td>1</td>\n",
       "    </tr>\n",
       "  </tbody>\n",
       "</table>\n",
       "</div>"
      ],
      "text/plain": [
       "         IR        QC        QD       Tavg       Tmin      Tmax  chargetime  \\\n",
       "1  0.016739  1.071289  1.070689  31.875000  29.562500  35.65625   13.343750   \n",
       "2  0.016724  1.071289  1.071900  31.937500  29.609375  35.68750   13.421875   \n",
       "3  0.016678  1.072266  1.072510  31.937500  29.750000  35.68750   13.421875   \n",
       "4  0.016663  1.073242  1.073174  31.953125  29.640625  35.71875   13.343750   \n",
       "5  0.016617  1.073242  1.073576  31.968750  29.750000  35.71875   13.343750   \n",
       "\n",
       "   cycle  cell  cycle_life   C1   C2  Q1        Qd  class  \n",
       "1      2  b1c0        1190  3.6  3.6  80  1.070312      1  \n",
       "2      3  b1c0        1190  3.6  3.6  80  1.072266      1  \n",
       "3      4  b1c0        1190  3.6  3.6  80  1.072266      1  \n",
       "4      5  b1c0        1190  3.6  3.6  80  1.073242      1  \n",
       "5      6  b1c0        1190  3.6  3.6  80  1.073242      1  "
      ]
     },
     "execution_count": 14,
     "metadata": {},
     "output_type": "execute_result"
    }
   ],
   "source": [
    "df.head()"
   ]
  },
  {
   "cell_type": "code",
   "execution_count": 15,
   "metadata": {},
   "outputs": [
    {
     "data": {
      "text/plain": [
       "1      92\n",
       "2     138\n",
       "3     138\n",
       "4     138\n",
       "5     138\n",
       "6     138\n",
       "7     138\n",
       "8     138\n",
       "9     138\n",
       "10    138\n",
       "11    138\n",
       "12    132\n",
       "13    133\n",
       "14    138\n",
       "15    138\n",
       "16    138\n",
       "17    138\n",
       "18    138\n",
       "19    138\n",
       "20    138\n",
       "Name: cycle, dtype: int64"
      ]
     },
     "execution_count": 15,
     "metadata": {},
     "output_type": "execute_result"
    }
   ],
   "source": [
    "df['cycle'].value_counts().sort_index()"
   ]
  },
  {
   "cell_type": "code",
   "execution_count": 16,
   "metadata": {},
   "outputs": [],
   "source": [
    "y = df['class']"
   ]
  },
  {
   "cell_type": "code",
   "execution_count": 17,
   "metadata": {},
   "outputs": [],
   "source": [
    "X = df.drop(['cycle_life','cell','cycle', 'class'], axis = 1)"
   ]
  },
  {
   "cell_type": "code",
   "execution_count": 18,
   "metadata": {},
   "outputs": [
    {
     "data": {
      "text/plain": [
       "1    1\n",
       "2    1\n",
       "3    1\n",
       "4    1\n",
       "5    1\n",
       "Name: class, dtype: int64"
      ]
     },
     "execution_count": 18,
     "metadata": {},
     "output_type": "execute_result"
    }
   ],
   "source": [
    "y.head()"
   ]
  },
  {
   "cell_type": "code",
   "execution_count": 19,
   "metadata": {},
   "outputs": [
    {
     "data": {
      "text/html": [
       "<div>\n",
       "<style scoped>\n",
       "    .dataframe tbody tr th:only-of-type {\n",
       "        vertical-align: middle;\n",
       "    }\n",
       "\n",
       "    .dataframe tbody tr th {\n",
       "        vertical-align: top;\n",
       "    }\n",
       "\n",
       "    .dataframe thead th {\n",
       "        text-align: right;\n",
       "    }\n",
       "</style>\n",
       "<table border=\"1\" class=\"dataframe\">\n",
       "  <thead>\n",
       "    <tr style=\"text-align: right;\">\n",
       "      <th></th>\n",
       "      <th>IR</th>\n",
       "      <th>QC</th>\n",
       "      <th>QD</th>\n",
       "      <th>Tavg</th>\n",
       "      <th>Tmin</th>\n",
       "      <th>Tmax</th>\n",
       "      <th>chargetime</th>\n",
       "      <th>C1</th>\n",
       "      <th>C2</th>\n",
       "      <th>Q1</th>\n",
       "      <th>Qd</th>\n",
       "    </tr>\n",
       "  </thead>\n",
       "  <tbody>\n",
       "    <tr>\n",
       "      <th>1</th>\n",
       "      <td>0.016739</td>\n",
       "      <td>1.071289</td>\n",
       "      <td>1.070689</td>\n",
       "      <td>31.875000</td>\n",
       "      <td>29.562500</td>\n",
       "      <td>35.65625</td>\n",
       "      <td>13.343750</td>\n",
       "      <td>3.6</td>\n",
       "      <td>3.6</td>\n",
       "      <td>80</td>\n",
       "      <td>1.070312</td>\n",
       "    </tr>\n",
       "    <tr>\n",
       "      <th>2</th>\n",
       "      <td>0.016724</td>\n",
       "      <td>1.071289</td>\n",
       "      <td>1.071900</td>\n",
       "      <td>31.937500</td>\n",
       "      <td>29.609375</td>\n",
       "      <td>35.68750</td>\n",
       "      <td>13.421875</td>\n",
       "      <td>3.6</td>\n",
       "      <td>3.6</td>\n",
       "      <td>80</td>\n",
       "      <td>1.072266</td>\n",
       "    </tr>\n",
       "    <tr>\n",
       "      <th>3</th>\n",
       "      <td>0.016678</td>\n",
       "      <td>1.072266</td>\n",
       "      <td>1.072510</td>\n",
       "      <td>31.937500</td>\n",
       "      <td>29.750000</td>\n",
       "      <td>35.68750</td>\n",
       "      <td>13.421875</td>\n",
       "      <td>3.6</td>\n",
       "      <td>3.6</td>\n",
       "      <td>80</td>\n",
       "      <td>1.072266</td>\n",
       "    </tr>\n",
       "    <tr>\n",
       "      <th>4</th>\n",
       "      <td>0.016663</td>\n",
       "      <td>1.073242</td>\n",
       "      <td>1.073174</td>\n",
       "      <td>31.953125</td>\n",
       "      <td>29.640625</td>\n",
       "      <td>35.71875</td>\n",
       "      <td>13.343750</td>\n",
       "      <td>3.6</td>\n",
       "      <td>3.6</td>\n",
       "      <td>80</td>\n",
       "      <td>1.073242</td>\n",
       "    </tr>\n",
       "    <tr>\n",
       "      <th>5</th>\n",
       "      <td>0.016617</td>\n",
       "      <td>1.073242</td>\n",
       "      <td>1.073576</td>\n",
       "      <td>31.968750</td>\n",
       "      <td>29.750000</td>\n",
       "      <td>35.71875</td>\n",
       "      <td>13.343750</td>\n",
       "      <td>3.6</td>\n",
       "      <td>3.6</td>\n",
       "      <td>80</td>\n",
       "      <td>1.073242</td>\n",
       "    </tr>\n",
       "  </tbody>\n",
       "</table>\n",
       "</div>"
      ],
      "text/plain": [
       "         IR        QC        QD       Tavg       Tmin      Tmax  chargetime  \\\n",
       "1  0.016739  1.071289  1.070689  31.875000  29.562500  35.65625   13.343750   \n",
       "2  0.016724  1.071289  1.071900  31.937500  29.609375  35.68750   13.421875   \n",
       "3  0.016678  1.072266  1.072510  31.937500  29.750000  35.68750   13.421875   \n",
       "4  0.016663  1.073242  1.073174  31.953125  29.640625  35.71875   13.343750   \n",
       "5  0.016617  1.073242  1.073576  31.968750  29.750000  35.71875   13.343750   \n",
       "\n",
       "    C1   C2  Q1        Qd  \n",
       "1  3.6  3.6  80  1.070312  \n",
       "2  3.6  3.6  80  1.072266  \n",
       "3  3.6  3.6  80  1.072266  \n",
       "4  3.6  3.6  80  1.073242  \n",
       "5  3.6  3.6  80  1.073242  "
      ]
     },
     "execution_count": 19,
     "metadata": {},
     "output_type": "execute_result"
    }
   ],
   "source": [
    "X.head()"
   ]
  },
  {
   "cell_type": "markdown",
   "metadata": {},
   "source": [
    "# Train Test split"
   ]
  },
  {
   "cell_type": "code",
   "execution_count": 20,
   "metadata": {},
   "outputs": [],
   "source": [
    "from sklearn.model_selection import train_test_split\n",
    "X_train, X_test, y_train, y_test = train_test_split(X, y, test_size=0.3, random_state=0, shuffle=True)"
   ]
  },
  {
   "cell_type": "markdown",
   "metadata": {},
   "source": [
    "# Logistic Regression"
   ]
  },
  {
   "cell_type": "code",
   "execution_count": 21,
   "metadata": {},
   "outputs": [],
   "source": [
    "from sklearn.linear_model import LogisticRegression"
   ]
  },
  {
   "cell_type": "code",
   "execution_count": 22,
   "metadata": {},
   "outputs": [],
   "source": [
    "reg_log = LogisticRegression()"
   ]
  },
  {
   "cell_type": "code",
   "execution_count": 23,
   "metadata": {},
   "outputs": [
    {
     "name": "stderr",
     "output_type": "stream",
     "text": [
      "/home/tam/anaconda3/lib/python3.7/site-packages/sklearn/linear_model/logistic.py:432: FutureWarning: Default solver will be changed to 'lbfgs' in 0.22. Specify a solver to silence this warning.\n",
      "  FutureWarning)\n"
     ]
    },
    {
     "data": {
      "text/plain": [
       "LogisticRegression(C=1.0, class_weight=None, dual=False, fit_intercept=True,\n",
       "                   intercept_scaling=1, l1_ratio=None, max_iter=100,\n",
       "                   multi_class='warn', n_jobs=None, penalty='l2',\n",
       "                   random_state=None, solver='warn', tol=0.0001, verbose=0,\n",
       "                   warm_start=False)"
      ]
     },
     "execution_count": 23,
     "metadata": {},
     "output_type": "execute_result"
    }
   ],
   "source": [
    "reg_log.fit(X_train, y_train)"
   ]
  },
  {
   "cell_type": "code",
   "execution_count": 24,
   "metadata": {},
   "outputs": [],
   "source": [
    "y_pred = reg_log.predict(X_test)"
   ]
  },
  {
   "cell_type": "code",
   "execution_count": 34,
   "metadata": {},
   "outputs": [],
   "source": [
    "from sklearn.metrics import accuracy_score, confusion_matrix, classification_report"
   ]
  },
  {
   "cell_type": "code",
   "execution_count": 26,
   "metadata": {},
   "outputs": [
    {
     "data": {
      "text/plain": [
       "0.8939580764488286"
      ]
     },
     "execution_count": 26,
     "metadata": {},
     "output_type": "execute_result"
    }
   ],
   "source": [
    "accuracy_score(y_test, y_pred)"
   ]
  },
  {
   "cell_type": "code",
   "execution_count": 36,
   "metadata": {},
   "outputs": [
    {
     "name": "stdout",
     "output_type": "stream",
     "text": [
      "              precision    recall  f1-score   support\n",
      "\n",
      "           0       1.00      1.00      1.00       323\n",
      "           1       1.00      1.00      1.00       488\n",
      "\n",
      "    accuracy                           1.00       811\n",
      "   macro avg       1.00      1.00      1.00       811\n",
      "weighted avg       1.00      1.00      1.00       811\n",
      "\n"
     ]
    }
   ],
   "source": [
    "print(classification_report(y_test, y_pred))"
   ]
  },
  {
   "cell_type": "code",
   "execution_count": 27,
   "metadata": {
    "scrolled": true
   },
   "outputs": [
    {
     "data": {
      "text/plain": [
       "array([[269,  54],\n",
       "       [ 32, 456]])"
      ]
     },
     "execution_count": 27,
     "metadata": {},
     "output_type": "execute_result"
    }
   ],
   "source": [
    "confusion_matrix(y_test, y_pred)"
   ]
  },
  {
   "cell_type": "markdown",
   "metadata": {},
   "source": [
    "# Random Forest Classifier"
   ]
  },
  {
   "cell_type": "code",
   "execution_count": 28,
   "metadata": {},
   "outputs": [],
   "source": [
    "from sklearn.ensemble import RandomForestClassifier"
   ]
  },
  {
   "cell_type": "code",
   "execution_count": 29,
   "metadata": {},
   "outputs": [],
   "source": [
    "Forest = RandomForestClassifier()"
   ]
  },
  {
   "cell_type": "code",
   "execution_count": 30,
   "metadata": {},
   "outputs": [
    {
     "name": "stderr",
     "output_type": "stream",
     "text": [
      "/home/tam/anaconda3/lib/python3.7/site-packages/sklearn/ensemble/forest.py:245: FutureWarning: The default value of n_estimators will change from 10 in version 0.20 to 100 in 0.22.\n",
      "  \"10 in version 0.20 to 100 in 0.22.\", FutureWarning)\n"
     ]
    },
    {
     "data": {
      "text/plain": [
       "RandomForestClassifier(bootstrap=True, class_weight=None, criterion='gini',\n",
       "                       max_depth=None, max_features='auto', max_leaf_nodes=None,\n",
       "                       min_impurity_decrease=0.0, min_impurity_split=None,\n",
       "                       min_samples_leaf=1, min_samples_split=2,\n",
       "                       min_weight_fraction_leaf=0.0, n_estimators=10,\n",
       "                       n_jobs=None, oob_score=False, random_state=None,\n",
       "                       verbose=0, warm_start=False)"
      ]
     },
     "execution_count": 30,
     "metadata": {},
     "output_type": "execute_result"
    }
   ],
   "source": [
    "Forest.fit(X_train, y_train)"
   ]
  },
  {
   "cell_type": "code",
   "execution_count": 31,
   "metadata": {},
   "outputs": [],
   "source": [
    "y_pred = Forest.predict(X_test)"
   ]
  },
  {
   "cell_type": "code",
   "execution_count": 32,
   "metadata": {},
   "outputs": [
    {
     "data": {
      "text/plain": [
       "1.0"
      ]
     },
     "execution_count": 32,
     "metadata": {},
     "output_type": "execute_result"
    }
   ],
   "source": [
    "accuracy_score(y_pred, y_test)"
   ]
  },
  {
   "cell_type": "code",
   "execution_count": 33,
   "metadata": {},
   "outputs": [
    {
     "data": {
      "text/plain": [
       "array([[323,   0],\n",
       "       [  0, 488]])"
      ]
     },
     "execution_count": 33,
     "metadata": {},
     "output_type": "execute_result"
    }
   ],
   "source": [
    "confusion_matrix(y_pred, y_test)"
   ]
  },
  {
   "cell_type": "code",
   "execution_count": null,
   "metadata": {},
   "outputs": [],
   "source": []
  }
 ],
 "metadata": {
  "kernelspec": {
   "display_name": "Python 3",
   "language": "python",
   "name": "python3"
  },
  "language_info": {
   "codemirror_mode": {
    "name": "ipython",
    "version": 3
   },
   "file_extension": ".py",
   "mimetype": "text/x-python",
   "name": "python",
   "nbconvert_exporter": "python",
   "pygments_lexer": "ipython3",
   "version": "3.7.4"
  }
 },
 "nbformat": 4,
 "nbformat_minor": 2
}
